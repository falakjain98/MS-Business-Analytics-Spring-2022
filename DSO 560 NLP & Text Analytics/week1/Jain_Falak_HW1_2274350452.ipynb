{
 "cells": [
  {
   "cell_type": "markdown",
   "id": "827151b1",
   "metadata": {},
   "source": [
    "### Homework 1\n",
    "#### Submitted by: Falak Jain"
   ]
  },
  {
   "cell_type": "code",
   "execution_count": 11,
   "id": "77716ea0",
   "metadata": {},
   "outputs": [],
   "source": [
    "# Importing libraries\n",
    "import pandas as pd\n",
    "import re\n",
    "import warnings\n",
    "warnings.filterwarnings(\"ignore\")"
   ]
  },
  {
   "cell_type": "code",
   "execution_count": 12,
   "id": "c412bd48",
   "metadata": {},
   "outputs": [],
   "source": [
    "# Reading dataset\n",
    "mcd_df = pd.read_csv('../datasets/mcdonalds-yelp-negative-reviews.csv',encoding = 'latin8')"
   ]
  },
  {
   "cell_type": "code",
   "execution_count": 13,
   "id": "b2eee7ba",
   "metadata": {},
   "outputs": [
    {
     "data": {
      "text/html": [
       "<div>\n",
       "<style scoped>\n",
       "    .dataframe tbody tr th:only-of-type {\n",
       "        vertical-align: middle;\n",
       "    }\n",
       "\n",
       "    .dataframe tbody tr th {\n",
       "        vertical-align: top;\n",
       "    }\n",
       "\n",
       "    .dataframe thead th {\n",
       "        text-align: right;\n",
       "    }\n",
       "</style>\n",
       "<table border=\"1\" class=\"dataframe\">\n",
       "  <thead>\n",
       "    <tr style=\"text-align: right;\">\n",
       "      <th></th>\n",
       "      <th>_unit_id</th>\n",
       "      <th>city</th>\n",
       "      <th>review</th>\n",
       "    </tr>\n",
       "  </thead>\n",
       "  <tbody>\n",
       "    <tr>\n",
       "      <th>0</th>\n",
       "      <td>679455653</td>\n",
       "      <td>Atlanta</td>\n",
       "      <td>I'm not a huge mcds lover, but I've been to be...</td>\n",
       "    </tr>\n",
       "    <tr>\n",
       "      <th>1</th>\n",
       "      <td>679455654</td>\n",
       "      <td>Atlanta</td>\n",
       "      <td>Terrible customer service. I came in at 9:30pm...</td>\n",
       "    </tr>\n",
       "    <tr>\n",
       "      <th>2</th>\n",
       "      <td>679455655</td>\n",
       "      <td>Atlanta</td>\n",
       "      <td>First they \"lost\" my order, actually they gave...</td>\n",
       "    </tr>\n",
       "    <tr>\n",
       "      <th>3</th>\n",
       "      <td>679455656</td>\n",
       "      <td>Atlanta</td>\n",
       "      <td>I see I'm not the only one giving 1 star. Only...</td>\n",
       "    </tr>\n",
       "    <tr>\n",
       "      <th>4</th>\n",
       "      <td>679455657</td>\n",
       "      <td>Atlanta</td>\n",
       "      <td>Well, it's McDonald's, so you know what the fo...</td>\n",
       "    </tr>\n",
       "  </tbody>\n",
       "</table>\n",
       "</div>"
      ],
      "text/plain": [
       "    _unit_id     city                                             review\n",
       "0  679455653  Atlanta  I'm not a huge mcds lover, but I've been to be...\n",
       "1  679455654  Atlanta  Terrible customer service. I came in at 9:30pm...\n",
       "2  679455655  Atlanta  First they \"lost\" my order, actually they gave...\n",
       "3  679455656  Atlanta  I see I'm not the only one giving 1 star. Only...\n",
       "4  679455657  Atlanta  Well, it's McDonald's, so you know what the fo..."
      ]
     },
     "execution_count": 13,
     "metadata": {},
     "output_type": "execute_result"
    }
   ],
   "source": [
    "mcd_df.head()"
   ]
  },
  {
   "cell_type": "markdown",
   "id": "ea7ab06f",
   "metadata": {},
   "source": [
    "### 1. 4 recurring themes/topics that reviewers are unhappy with"
   ]
  },
  {
   "cell_type": "markdown",
   "id": "d8415f14",
   "metadata": {},
   "source": [
    "1. Customers are constantly complaining about the slow service at McDonalds\n",
    "2. McDonalds often gets customers' orders wrong\n",
    "3. Patrons are not satisfied with the quality of customer service\n",
    "4. Customers often complain about the cleanliness and hygiene of the store and food"
   ]
  },
  {
   "cell_type": "markdown",
   "id": "235e63fa",
   "metadata": {},
   "source": [
    "### 2. Grouping all occurences of phrases and replacing with place holder"
   ]
  },
  {
   "cell_type": "code",
   "execution_count": 14,
   "id": "1cdd9bee",
   "metadata": {},
   "outputs": [],
   "source": [
    "# 1. Slow Service Complains\n",
    "mcd_df[\"results\"] = mcd_df[\"review\"].str.replace(r'\\b[sS]low','_SLOW_',case = False)"
   ]
  },
  {
   "cell_type": "code",
   "execution_count": 15,
   "id": "17821532",
   "metadata": {},
   "outputs": [],
   "source": [
    "# 2. Wrong orders\n",
    "mcd_df[\"results\"] = mcd_df[\"results\"].str.replace(r'\\b[Ww]rong','_WRONG_',case = False)\n",
    "mcd_df[\"results\"] = mcd_df[\"results\"].str.replace(r'\\b[Ii]ncorrect','_WRONG_',case = False)"
   ]
  },
  {
   "cell_type": "code",
   "execution_count": 16,
   "id": "44787662",
   "metadata": {},
   "outputs": [],
   "source": [
    "# 3. Quality of customer service\n",
    "mcd_df[\"results\"] = mcd_df[\"results\"].str.replace(r'\\b[Cc]ustomer [Ss]ervice\\b','_CUSTOMER_SERVICE_',case = False)"
   ]
  },
  {
   "cell_type": "code",
   "execution_count": 17,
   "id": "6ca8bf80",
   "metadata": {},
   "outputs": [],
   "source": [
    "# 4. Cleanliness and hygiene of the store\n",
    "mcd_df[\"results\"] = mcd_df[\"results\"].str.replace(r'\\b[Dd]irt','_DIRTY_',case = False)\n",
    "mcd_df[\"results\"] = mcd_df[\"results\"].str.replace(r'\\b[Ff]ilth','_DIRTY_',case = False)"
   ]
  },
  {
   "cell_type": "markdown",
   "id": "66b9c02e",
   "metadata": {},
   "source": [
    "### 3. Performing a word count at total and city levels"
   ]
  },
  {
   "cell_type": "code",
   "execution_count": 18,
   "id": "97b83be5",
   "metadata": {},
   "outputs": [],
   "source": [
    "# Creating a flag\n",
    "mcd_df['SLOW_SERVICE'] = mcd_df['results'].apply(lambda x: 1 if '_SLOW_' in x else 0)\n",
    "mcd_df['WRONG_ORDER'] = mcd_df['results'].apply(lambda x: 1 if '_WRONG_' in x else 0)\n",
    "mcd_df['CUSTOMER_SERVICE'] = mcd_df['results'].apply(lambda x: 1 if '_CUSTOMER_SERVICE_' in x else 0)\n",
    "mcd_df['DIRTY'] = mcd_df['results'].apply(lambda x: 1 if '_DIRTY_' in x else 0)"
   ]
  },
  {
   "cell_type": "code",
   "execution_count": 19,
   "id": "54cd2bd1",
   "metadata": {},
   "outputs": [
    {
     "data": {
      "text/html": [
       "<div>\n",
       "<style scoped>\n",
       "    .dataframe tbody tr th:only-of-type {\n",
       "        vertical-align: middle;\n",
       "    }\n",
       "\n",
       "    .dataframe tbody tr th {\n",
       "        vertical-align: top;\n",
       "    }\n",
       "\n",
       "    .dataframe thead th {\n",
       "        text-align: right;\n",
       "    }\n",
       "</style>\n",
       "<table border=\"1\" class=\"dataframe\">\n",
       "  <thead>\n",
       "    <tr style=\"text-align: right;\">\n",
       "      <th></th>\n",
       "      <th>SLOW_SERVICE</th>\n",
       "      <th>WRONG_ORDER</th>\n",
       "      <th>CUSTOMER_SERVICE</th>\n",
       "      <th>DIRTY</th>\n",
       "    </tr>\n",
       "    <tr>\n",
       "      <th>city</th>\n",
       "      <th></th>\n",
       "      <th></th>\n",
       "      <th></th>\n",
       "      <th></th>\n",
       "    </tr>\n",
       "  </thead>\n",
       "  <tbody>\n",
       "    <tr>\n",
       "      <th>Atlanta</th>\n",
       "      <td>23</td>\n",
       "      <td>16</td>\n",
       "      <td>10</td>\n",
       "      <td>12</td>\n",
       "    </tr>\n",
       "    <tr>\n",
       "      <th>Chicago</th>\n",
       "      <td>16</td>\n",
       "      <td>23</td>\n",
       "      <td>15</td>\n",
       "      <td>9</td>\n",
       "    </tr>\n",
       "    <tr>\n",
       "      <th>Cleveland</th>\n",
       "      <td>16</td>\n",
       "      <td>11</td>\n",
       "      <td>6</td>\n",
       "      <td>6</td>\n",
       "    </tr>\n",
       "    <tr>\n",
       "      <th>Dallas</th>\n",
       "      <td>7</td>\n",
       "      <td>9</td>\n",
       "      <td>8</td>\n",
       "      <td>3</td>\n",
       "    </tr>\n",
       "    <tr>\n",
       "      <th>Houston</th>\n",
       "      <td>15</td>\n",
       "      <td>10</td>\n",
       "      <td>8</td>\n",
       "      <td>7</td>\n",
       "    </tr>\n",
       "    <tr>\n",
       "      <th>Las Vegas</th>\n",
       "      <td>41</td>\n",
       "      <td>52</td>\n",
       "      <td>25</td>\n",
       "      <td>23</td>\n",
       "    </tr>\n",
       "    <tr>\n",
       "      <th>Los Angeles</th>\n",
       "      <td>17</td>\n",
       "      <td>24</td>\n",
       "      <td>8</td>\n",
       "      <td>8</td>\n",
       "    </tr>\n",
       "    <tr>\n",
       "      <th>New York</th>\n",
       "      <td>9</td>\n",
       "      <td>4</td>\n",
       "      <td>11</td>\n",
       "      <td>11</td>\n",
       "    </tr>\n",
       "    <tr>\n",
       "      <th>Portland</th>\n",
       "      <td>3</td>\n",
       "      <td>9</td>\n",
       "      <td>4</td>\n",
       "      <td>5</td>\n",
       "    </tr>\n",
       "    <tr>\n",
       "      <th>Total</th>\n",
       "      <td>147</td>\n",
       "      <td>158</td>\n",
       "      <td>95</td>\n",
       "      <td>84</td>\n",
       "    </tr>\n",
       "  </tbody>\n",
       "</table>\n",
       "</div>"
      ],
      "text/plain": [
       "             SLOW_SERVICE  WRONG_ORDER  CUSTOMER_SERVICE  DIRTY\n",
       "city                                                           \n",
       "Atlanta                23           16                10     12\n",
       "Chicago                16           23                15      9\n",
       "Cleveland              16           11                 6      6\n",
       "Dallas                  7            9                 8      3\n",
       "Houston                15           10                 8      7\n",
       "Las Vegas              41           52                25     23\n",
       "Los Angeles            17           24                 8      8\n",
       "New York                9            4                11     11\n",
       "Portland                3            9                 4      5\n",
       "Total                 147          158                95     84"
      ]
     },
     "execution_count": 19,
     "metadata": {},
     "output_type": "execute_result"
    }
   ],
   "source": [
    "# Finding count of keywords at a city and aggregate level\n",
    "city_count_df = mcd_df.groupby('city').sum().drop('_unit_id',axis = 1)\n",
    "city_count_df.loc['Total'] = city_count_df.sum()\n",
    "city_count_df"
   ]
  },
  {
   "cell_type": "code",
   "execution_count": 20,
   "id": "84db2584",
   "metadata": {},
   "outputs": [
    {
     "data": {
      "text/html": [
       "<div>\n",
       "<style scoped>\n",
       "    .dataframe tbody tr th:only-of-type {\n",
       "        vertical-align: middle;\n",
       "    }\n",
       "\n",
       "    .dataframe tbody tr th {\n",
       "        vertical-align: top;\n",
       "    }\n",
       "\n",
       "    .dataframe thead th {\n",
       "        text-align: right;\n",
       "    }\n",
       "</style>\n",
       "<table border=\"1\" class=\"dataframe\">\n",
       "  <thead>\n",
       "    <tr style=\"text-align: right;\">\n",
       "      <th></th>\n",
       "      <th>SLOW_SERVICE</th>\n",
       "      <th>WRONG_ORDER</th>\n",
       "      <th>CUSTOMER_SERVICE</th>\n",
       "      <th>DIRTY</th>\n",
       "    </tr>\n",
       "    <tr>\n",
       "      <th>city</th>\n",
       "      <th></th>\n",
       "      <th></th>\n",
       "      <th></th>\n",
       "      <th></th>\n",
       "    </tr>\n",
       "  </thead>\n",
       "  <tbody>\n",
       "    <tr>\n",
       "      <th>Atlanta</th>\n",
       "      <td>0.176923</td>\n",
       "      <td>0.123077</td>\n",
       "      <td>0.076923</td>\n",
       "      <td>0.092308</td>\n",
       "    </tr>\n",
       "    <tr>\n",
       "      <th>Chicago</th>\n",
       "      <td>0.073059</td>\n",
       "      <td>0.105023</td>\n",
       "      <td>0.068493</td>\n",
       "      <td>0.041096</td>\n",
       "    </tr>\n",
       "    <tr>\n",
       "      <th>Cleveland</th>\n",
       "      <td>0.225352</td>\n",
       "      <td>0.154930</td>\n",
       "      <td>0.084507</td>\n",
       "      <td>0.084507</td>\n",
       "    </tr>\n",
       "    <tr>\n",
       "      <th>Dallas</th>\n",
       "      <td>0.093333</td>\n",
       "      <td>0.120000</td>\n",
       "      <td>0.106667</td>\n",
       "      <td>0.040000</td>\n",
       "    </tr>\n",
       "    <tr>\n",
       "      <th>Houston</th>\n",
       "      <td>0.142857</td>\n",
       "      <td>0.095238</td>\n",
       "      <td>0.076190</td>\n",
       "      <td>0.066667</td>\n",
       "    </tr>\n",
       "    <tr>\n",
       "      <th>Las Vegas</th>\n",
       "      <td>0.100244</td>\n",
       "      <td>0.127139</td>\n",
       "      <td>0.061125</td>\n",
       "      <td>0.056235</td>\n",
       "    </tr>\n",
       "    <tr>\n",
       "      <th>Los Angeles</th>\n",
       "      <td>0.101796</td>\n",
       "      <td>0.143713</td>\n",
       "      <td>0.047904</td>\n",
       "      <td>0.047904</td>\n",
       "    </tr>\n",
       "    <tr>\n",
       "      <th>New York</th>\n",
       "      <td>0.054545</td>\n",
       "      <td>0.024242</td>\n",
       "      <td>0.066667</td>\n",
       "      <td>0.066667</td>\n",
       "    </tr>\n",
       "    <tr>\n",
       "      <th>Portland</th>\n",
       "      <td>0.030928</td>\n",
       "      <td>0.092784</td>\n",
       "      <td>0.041237</td>\n",
       "      <td>0.051546</td>\n",
       "    </tr>\n",
       "    <tr>\n",
       "      <th>Mean</th>\n",
       "      <td>0.111004</td>\n",
       "      <td>0.109572</td>\n",
       "      <td>0.069968</td>\n",
       "      <td>0.060770</td>\n",
       "    </tr>\n",
       "  </tbody>\n",
       "</table>\n",
       "</div>"
      ],
      "text/plain": [
       "             SLOW_SERVICE  WRONG_ORDER  CUSTOMER_SERVICE     DIRTY\n",
       "city                                                              \n",
       "Atlanta          0.176923     0.123077          0.076923  0.092308\n",
       "Chicago          0.073059     0.105023          0.068493  0.041096\n",
       "Cleveland        0.225352     0.154930          0.084507  0.084507\n",
       "Dallas           0.093333     0.120000          0.106667  0.040000\n",
       "Houston          0.142857     0.095238          0.076190  0.066667\n",
       "Las Vegas        0.100244     0.127139          0.061125  0.056235\n",
       "Los Angeles      0.101796     0.143713          0.047904  0.047904\n",
       "New York         0.054545     0.024242          0.066667  0.066667\n",
       "Portland         0.030928     0.092784          0.041237  0.051546\n",
       "Mean             0.111004     0.109572          0.069968  0.060770"
      ]
     },
     "execution_count": 20,
     "metadata": {},
     "output_type": "execute_result"
    }
   ],
   "source": [
    "# Finding proportion of keywords at a city and aggregate level\n",
    "city_df = mcd_df.groupby('city').mean().drop('_unit_id',axis = 1)\n",
    "city_df.loc['Mean'] = city_df.mean()\n",
    "city_df"
   ]
  },
  {
   "cell_type": "markdown",
   "id": "2b604e23",
   "metadata": {},
   "source": [
    "### 4. Provide a few sentences with your findings and business recommendations. Make any assumptions you'd like. I just want you to get into the habit of \"finishing\" your analysis: to avoid delivering technical numbers to a non-technical manager.\n",
    "\n",
    "Some considerations in your analysis:\n",
    "\n",
    "Explain what some of pitfalls/limitations are of using only a word count analysis to make these inferences. What additional research/steps would you need to do to verify your conclusions?"
   ]
  },
  {
   "cell_type": "markdown",
   "id": "8a6a649a",
   "metadata": {},
   "source": [
    "1. Customers complained about the slow service in about 11% of the reviews on a national level with Atlanta, Cleveland and Houston having a higher percentage than the national average. I recommend increasing the staff at McDonalds outlets to improve speed and to invest in the training of staff to increase productivity.\n",
    "\n",
    "\n",
    "2. About 10% of the reviews pertained to the outlet getting a customer's order wrong. I recommend implementing quality check mechanisms and more effective information technology systems in place to prevent incorrect orders.\n",
    "\n",
    "\n",
    "3. About 7% of reviews included comments on the customer service. Managers should be held accountable towards their outlet's customer service and employees should be trained in speaking in a welcoming and non-confrontational manner with customers to improve customer service standards. Blind tests can be conducted by the corporate office of McDonalds to find areas of improvement.\n",
    "\n",
    "\n",
    "4. About 6% of reviews were concerned with the cleanliness of outlets. McDonalds should employ better standards to cleanliness, equip their outlets with state of the art cleaning equipment and run regular surprise cleanliness checks at different locations.\n",
    "\n",
    "\n",
    "5. McDonalds outlets in Cleveland seem to be consistently worse than the average in all of the 4 themes identified. Therefore, McDonalds shall conduct a thorough audit of Cleveland locations and determine effective improvement measures to improve services which would in turn improve reviews.\n",
    "\n",
    "\n",
    "6. Word count analysis should not be solely relied upon since a review can have the target word in it but the review could be referring to other graver concerns rather than the target phrase that we are looking at. It is also important to consider the sentiment of the review specifically regarding the target phrase. e.g. the word 'customer service' can occur 'n' number of times but we also need to see whether the reviewer is speaking about the word in positive and negative ways."
   ]
  }
 ],
 "metadata": {
  "kernelspec": {
   "display_name": "Python 3 (ipykernel)",
   "language": "python",
   "name": "python3"
  },
  "language_info": {
   "codemirror_mode": {
    "name": "ipython",
    "version": 3
   },
   "file_extension": ".py",
   "mimetype": "text/x-python",
   "name": "python",
   "nbconvert_exporter": "python",
   "pygments_lexer": "ipython3",
   "version": "3.8.8"
  }
 },
 "nbformat": 4,
 "nbformat_minor": 5
}
