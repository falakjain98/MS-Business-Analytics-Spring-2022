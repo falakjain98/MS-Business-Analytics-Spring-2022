{
 "cells": [
  {
   "cell_type": "markdown",
   "metadata": {},
   "source": [
    "# Homework 4 (Due Tuesday, April 19th at 6:29pm PST)"
   ]
  },
  {
   "cell_type": "markdown",
   "metadata": {
    "id": "zkn2hMRcDQVG"
   },
   "source": [
    "## Build A Classification Model w/ BBC News / BBC Sport (7pts)\n",
    "\n",
    "Build a classification model using the **BBC News or BBC Sport articles dataset** that is able to predict on a hold-out set the sentiment of the reviews with at minimum 92% accuracy (do not round). You can pick ONE of the topics to be your positive class, and label everything else to be negative.\n",
    "\n",
    "You may incorporate as many samples as you wish. However, **the class balance in your training and test set must be 50/50**.\n",
    "\n",
    "You will likely need to include some preprocessing techniques that we have learned about so far in this course.\n",
    "\n",
    "If you are unable to achieve 92% accuracy, then please show in this notebook at least **3 different models**:\n",
    "* one count vectorizer model\n",
    "* one model that uses `word2vec`\n",
    "* one sequential / transformer-based / deep-learning with embeddings model\n",
    "\n",
    "Focus on:\n",
    "* feature preprocessing steps (what we've learned earlier in this course)\n",
    "* proper implementation of the models\n",
    "* using the right metrics to evaluate your model performance\n",
    "\n",
    "**Make sure to cite your sources if you use other people's code or ideas.**"
   ]
  },
  {
   "cell_type": "code",
   "execution_count": 1,
   "metadata": {
    "colab": {
     "base_uri": "https://localhost:8080/"
    },
    "executionInfo": {
     "elapsed": 338,
     "status": "ok",
     "timestamp": 1649608421706,
     "user": {
      "displayName": "Falak Jain",
      "userId": "06861805370172041080"
     },
     "user_tz": 420
    },
    "id": "DXM9kJMYv_si",
    "outputId": "8c22845a-3b44-4105-dc16-9e451c148f80"
   },
   "outputs": [],
   "source": [
    "# Importing libraries\n",
    "import pandas as pd\n",
    "import numpy as np\n",
    "from keras.preprocessing.text import one_hot\n",
    "from keras.preprocessing.sequence import pad_sequences\n",
    "from numpy import asarray\n",
    "from numpy import zeros\n",
    "from keras.preprocessing.text import Tokenizer\n",
    "from keras.models import Sequential\n",
    "from keras.layers import Dense\n",
    "from keras.layers import Flatten\n",
    "from keras.layers import Embedding\n",
    "from typing import List, Tuple\n",
    "import spacy\n",
    "nlp = spacy.load('en_core_web_sm')"
   ]
  },
  {
   "cell_type": "code",
   "execution_count": 2,
   "metadata": {},
   "outputs": [],
   "source": [
    "# Function to read in BBC dataset\n",
    "def load_bbc_corpus(directory: str, topics: List[str], num_docs: int)-> pd.DataFrame:\n",
    "  articles: List[Tuple[str, str]] = [(f\"../datasets/{directory}/{topic}/{str(i).zfill(3)}.txt\", topic) for i in range(1,num_docs + 1) for topic in TOPICS]\n",
    "\n",
    "  data = []\n",
    "  for article, topic in articles:\n",
    "      with open(article, encoding=\"latin1\") as article: # open each sports article\n",
    "        content = article.read()\n",
    "        data.append({\"topic\": topic, \"text\": content})\n",
    "\n",
    "  # generate a dataframe\n",
    "  df = pd.DataFrame(data)\n",
    "  df.text = df.text.apply(lambda text: text.replace(\"\\n\", \" \"))\n",
    "  return df"
   ]
  },
  {
   "cell_type": "code",
   "execution_count": 3,
   "metadata": {},
   "outputs": [],
   "source": [
    "# Reading the data and assigning topics\n",
    "TOPICS = [\"athletics\", \"cricket\",] #[\"football\", \"rugby\", \"tennis\"]\n",
    "sports = load_bbc_corpus(\"bbcsport\", TOPICS, num_docs=100)"
   ]
  },
  {
   "cell_type": "code",
   "execution_count": 4,
   "metadata": {},
   "outputs": [
    {
     "data": {
      "text/html": [
       "<div>\n",
       "<style scoped>\n",
       "    .dataframe tbody tr th:only-of-type {\n",
       "        vertical-align: middle;\n",
       "    }\n",
       "\n",
       "    .dataframe tbody tr th {\n",
       "        vertical-align: top;\n",
       "    }\n",
       "\n",
       "    .dataframe thead th {\n",
       "        text-align: right;\n",
       "    }\n",
       "</style>\n",
       "<table border=\"1\" class=\"dataframe\">\n",
       "  <thead>\n",
       "    <tr style=\"text-align: right;\">\n",
       "      <th></th>\n",
       "      <th>topic</th>\n",
       "      <th>text</th>\n",
       "      <th>label</th>\n",
       "    </tr>\n",
       "  </thead>\n",
       "  <tbody>\n",
       "    <tr>\n",
       "      <th>0</th>\n",
       "      <td>athletics</td>\n",
       "      <td>Claxton hunting first major medal  British hur...</td>\n",
       "      <td>0</td>\n",
       "    </tr>\n",
       "    <tr>\n",
       "      <th>1</th>\n",
       "      <td>cricket</td>\n",
       "      <td>Hayden sets up Australia win  Second one-day i...</td>\n",
       "      <td>1</td>\n",
       "    </tr>\n",
       "    <tr>\n",
       "      <th>2</th>\n",
       "      <td>athletics</td>\n",
       "      <td>O'Sullivan could run in Worlds  Sonia O'Sulliv...</td>\n",
       "      <td>0</td>\n",
       "    </tr>\n",
       "    <tr>\n",
       "      <th>3</th>\n",
       "      <td>cricket</td>\n",
       "      <td>Pietersen gives England a chance  Lunch: Engla...</td>\n",
       "      <td>1</td>\n",
       "    </tr>\n",
       "    <tr>\n",
       "      <th>4</th>\n",
       "      <td>athletics</td>\n",
       "      <td>Greene sets sights on world title  Maurice Gre...</td>\n",
       "      <td>0</td>\n",
       "    </tr>\n",
       "  </tbody>\n",
       "</table>\n",
       "</div>"
      ],
      "text/plain": [
       "       topic                                               text  label\n",
       "0  athletics  Claxton hunting first major medal  British hur...      0\n",
       "1    cricket  Hayden sets up Australia win  Second one-day i...      1\n",
       "2  athletics  O'Sullivan could run in Worlds  Sonia O'Sulliv...      0\n",
       "3    cricket  Pietersen gives England a chance  Lunch: Engla...      1\n",
       "4  athletics  Greene sets sights on world title  Maurice Gre...      0"
      ]
     },
     "execution_count": 4,
     "metadata": {},
     "output_type": "execute_result"
    }
   ],
   "source": [
    "# Creating labels to train model\n",
    "sports['label'] = sports['topic'].apply(lambda x: 1 if x == 'cricket' else 0)\n",
    "\n",
    "# Previewing data\n",
    "sports.head()"
   ]
  },
  {
   "cell_type": "code",
   "execution_count": null,
   "metadata": {},
   "outputs": [],
   "source": [
    "# Creating stopwords_removes_docs lambda function\n",
    "docs = \n",
    "stopwords_removed_docs = list(\n",
    "    map(lambda doc: \" \".join([token.text for token in nlp(doc) if not token.is_stop]), docs))"
   ]
  },
  {
   "cell_type": "code",
   "execution_count": 6,
   "metadata": {},
   "outputs": [],
   "source": [
    "good_reviews = open(\"../datasets/good_amazon_toy_reviews.txt\").readlines()\n",
    "bad_reviews = open(\"../datasets/poor_amazon_toy_reviews.txt\").readlines()\n",
    "\n",
    "sampled_good_reviews = good_reviews[:100]\n",
    "sampled_bad_reviews = bad_reviews[:100]\n",
    "\n",
    "docs = sampled_good_reviews + sampled_bad_reviews\n",
    "#labels = np.concatenate([np.ones(NUM_SAMPLES), np.zeros(NUM_SAMPLES)])"
   ]
  },
  {
   "cell_type": "code",
   "execution_count": null,
   "metadata": {},
   "outputs": [],
   "source": []
  }
 ],
 "metadata": {
  "colab": {
   "collapsed_sections": [],
   "name": "Sridhar_Suhas_8674826522_Falak_Jain_227430452_HW3.ipynb",
   "provenance": []
  },
  "interpreter": {
   "hash": "ad2bdc8ecc057115af97d19610ffacc2b4e99fae6737bb82f5d7fb13d2f2c186"
  },
  "kernelspec": {
   "display_name": "Python 3.8.8 ('base')",
   "language": "python",
   "name": "python3"
  },
  "language_info": {
   "codemirror_mode": {
    "name": "ipython",
    "version": 3
   },
   "file_extension": ".py",
   "mimetype": "text/x-python",
   "name": "python",
   "nbconvert_exporter": "python",
   "pygments_lexer": "ipython3",
   "version": "3.8.8"
  },
  "varInspector": {
   "cols": {
    "lenName": 16,
    "lenType": 16,
    "lenVar": 40
   },
   "kernels_config": {
    "python": {
     "delete_cmd_postfix": "",
     "delete_cmd_prefix": "del ",
     "library": "var_list.py",
     "varRefreshCmd": "print(var_dic_list())"
    },
    "r": {
     "delete_cmd_postfix": ") ",
     "delete_cmd_prefix": "rm(",
     "library": "var_list.r",
     "varRefreshCmd": "cat(var_dic_list()) "
    }
   },
   "types_to_exclude": [
    "module",
    "function",
    "builtin_function_or_method",
    "instance",
    "_Feature"
   ],
   "window_display": false
  }
 },
 "nbformat": 4,
 "nbformat_minor": 1
}
