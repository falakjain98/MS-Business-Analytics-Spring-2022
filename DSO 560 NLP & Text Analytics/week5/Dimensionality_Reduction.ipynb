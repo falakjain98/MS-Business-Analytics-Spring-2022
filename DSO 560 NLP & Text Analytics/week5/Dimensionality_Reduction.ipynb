{
  "nbformat": 4,
  "nbformat_minor": 0,
  "metadata": {
    "kernelspec": {
      "display_name": "Python 3",
      "language": "python",
      "name": "python3"
    },
    "language_info": {
      "codemirror_mode": {
        "name": "ipython",
        "version": 3
      },
      "file_extension": ".py",
      "mimetype": "text/x-python",
      "name": "python",
      "nbconvert_exporter": "python",
      "pygments_lexer": "ipython3",
      "version": "3.8.5"
    },
    "toc": {
      "base_numbering": 1,
      "nav_menu": {},
      "number_sections": true,
      "sideBar": true,
      "skip_h1_title": false,
      "title_cell": "Table of Contents",
      "title_sidebar": "Contents",
      "toc_cell": false,
      "toc_position": {},
      "toc_section_display": true,
      "toc_window_display": false
    },
    "colab": {
      "name": "Dimensionality Reduction.ipynb",
      "provenance": [],
      "collapsed_sections": []
    }
  },
  "cells": [
    {
      "cell_type": "code",
      "metadata": {
        "id": "kc0sWqjD4TwF",
        "colab": {
          "base_uri": "https://localhost:8080/"
        },
        "outputId": "2b73057d-df19-41ce-8bcc-a98086c2ec06"
      },
      "source": [
        "!rm -rf dso-560-nlp-text-analytics && git clone https://github.com/ychennay/dso-560-nlp-text-analytics "
      ],
      "execution_count": null,
      "outputs": [
        {
          "output_type": "stream",
          "name": "stdout",
          "text": [
            "Cloning into 'dso-560-nlp-text-analytics'...\n",
            "remote: Enumerating objects: 3121, done.\u001b[K\n",
            "remote: Counting objects: 100% (311/311), done.\u001b[K\n",
            "remote: Compressing objects: 100% (176/176), done.\u001b[K\n",
            "remote: Total 3121 (delta 220), reused 187 (delta 135), pack-reused 2810\u001b[K\n",
            "Receiving objects: 100% (3121/3121), 94.01 MiB | 13.33 MiB/s, done.\n",
            "Resolving deltas: 100% (386/386), done.\n",
            "Checking out files: 100% (3175/3175), done.\n"
          ]
        }
      ]
    },
    {
      "cell_type": "code",
      "metadata": {
        "id": "wz703zrS4XnD",
        "colab": {
          "base_uri": "https://localhost:8080/"
        },
        "outputId": "8e2e0bbe-3c7f-4b3c-9aa9-4c76d7dabf94"
      },
      "source": [
        "%cd dso-560-nlp-text-analytics/week5"
      ],
      "execution_count": null,
      "outputs": [
        {
          "output_type": "stream",
          "name": "stdout",
          "text": [
            "/content/dso-560-nlp-text-analytics/week5\n"
          ]
        }
      ]
    },
    {
      "cell_type": "markdown",
      "metadata": {
        "id": "bfB8iEh54JzZ"
      },
      "source": [
        "# Dimensionality Reduction\n",
        "\n",
        "## The Problem\n",
        "\n",
        "There is an interesting tradeoff between model performance and a feature's dimensionality ([Link](http://www.visiondummy.com/2014/04/curse-dimensionality-affect-classification/)):\n",
        "![http://www.visiondummy.com/2014/04/curse-dimensionality-affect-classification/](https://raw.githubusercontent.com/ychennay/dso-560-nlp-text-analytics/main/images/dimensionality_vs_performance.png)\n",
        "\n",
        ">*If the amount of available training data is fixed, then overfitting occurs if we keep adding dimensions. On the other hand, if we keep adding dimensions, the amount of **training data needs to grow exponentially fast to maintain the same coverage** and to avoid overfitting* ([Computer Vision for Dummies](http://www.visiondummy.com/2014/04/curse-dimensionality-affect-classification/)).\n",
        "\n",
        "![http://www.visiondummy.com/2014/04/curse-dimensionality-affect-classification/](https://github.com/ychennay/dso-560-nlp-text-analytics/blob/main/images/curseofdimensionality.png?raw=1)\n",
        "\n",
        "### Multi-Collinearity\n",
        "\n",
        "In many cases, there is a high degree of correlation between many of the features in a dataset. For instance, suppose that you\n",
        "\n",
        "\n",
        "## Sparsity\n",
        "\n",
        "- High dimensionality increases the sparsity of your features (**what NLP techniques have we used that illustrate this point?**)\n",
        "- The density of the training samples decreases when dimensionality increases:\n",
        "- Distance measures (Euclidean, for instance) start losing their effectiveness, because there isn't much difference between the max and min distances in higher dimensions.\n",
        "- Many models that rely upon assumptions of Gaussian distributions (like OLS linear regression), Gaussian mixture models, Gaussian processes, etc. become less and less effective since their distributions become flatter and \"fatter tailed\".\n",
        "![http://www.visiondummy.com/2014/04/curse-dimensionality-affect-classification/](https://github.com/ychennay/dso-560-nlp-text-analytics/blob/main/images/distance-asymptote.png?raw=1)\n",
        "\n",
        "What is the amount of data needed to maintain **20% coverage** of the feature space? For 1 dimension, it is **20% of the entire population's dataset**. For a dimensionality of $D$:\n",
        "\n",
        "$$\n",
        "X^{D} = .20\n",
        "$$\n",
        "$$\n",
        "(X^{D})^{\\frac{1}{D}} = .20^{\\frac{1}{D}}\n",
        "$$\n",
        "$$\n",
        "X = \\sqrt[D]{.20}\n",
        "$$\n",
        "You can approximate this as \n",
        "```python\n",
        "def coverage_requirement(requirement, D):\n",
        "    return requirement ** (1 / D)\n",
        "\n",
        "x = []\n",
        "y = []\n",
        "for d in range(1,20):\n",
        "    y.append(coverage_requirement(0.10, d))\n",
        "    x.append(d)\n",
        "    \n",
        "import matplotlib.pyplot as plt\n",
        "\n",
        "plt.plot(x,y)\n",
        "plt.xlabel(\"Number of Dimensions\")\n",
        "plt.ylabel(\"Appromximate % of Population Dataset\")\n",
        "plt.title(\"% of Dataset Needed to Maintain 10% Coverage of Feature Space\")\n",
        "plt.show()\n",
        "```\n",
        "<img src=\"https://github.com/ychennay/dso-560-nlp-text-analytics/blob/main/images/coverage-needed.png?raw=1\" width=\"500\">"
      ]
    },
    {
      "cell_type": "code",
      "metadata": {
        "id": "Z56mRx0J4Jzd",
        "outputId": "2d516acc-7306-4fb8-f61c-8cc07f930141",
        "colab": {
          "base_uri": "https://localhost:8080/",
          "height": 557
        }
      },
      "source": [
        "import pandas as pd\n",
        "from sklearn.feature_extraction.text import CountVectorizer\n",
        "#reviews = pd.read_csv(\"mcdonalds-yelp-negative-reviews.csv\", encoding='latin-1')\n",
        "reviews = open(\"../datasets/mcdonalds-yelp-negative-reviews.csv\", encoding='latin-1')\n",
        "\n",
        "#text = reviews[\"review\"].values\n",
        "text = reviews.readlines()\n",
        "\n",
        "\n",
        "vectorizer = CountVectorizer(ngram_range=(3,3), max_df=0.75, max_features=200)\n",
        "# tokenize and build vocab\n",
        "vectorizer.fit(text)\n",
        "vector = vectorizer.transform(text)\n",
        "features = vector.toarray()\n",
        "features_df = pd.DataFrame(features, columns=vectorizer.get_feature_names())\n",
        "features_df"
      ],
      "execution_count": null,
      "outputs": [
        {
          "output_type": "stream",
          "name": "stderr",
          "text": [
            "/usr/local/lib/python3.7/dist-packages/sklearn/utils/deprecation.py:87: FutureWarning: Function get_feature_names is deprecated; get_feature_names is deprecated in 1.0 and will be removed in 1.2. Please use get_feature_names_out instead.\n",
            "  warnings.warn(msg, category=FutureWarning)\n"
          ]
        },
        {
          "output_type": "execute_result",
          "data": {
            "text/plain": [
              "      20 minutes to  across the street  all over the  and asked for  \\\n",
              "0                 0                  0             0              0   \n",
              "1                 0                  0             0              0   \n",
              "2                 0                  0             0              0   \n",
              "3                 1                  0             0              0   \n",
              "4                 0                  0             0              0   \n",
              "...             ...                ...           ...            ...   \n",
              "1521              0                  0             0              0   \n",
              "1522              0                  0             0              0   \n",
              "1523              0                  0             0              0   \n",
              "1524              0                  0             0              0   \n",
              "1525              0                  1             0              0   \n",
              "\n",
              "      and had to  and it was  and the food  and the manager  and there are  \\\n",
              "0              0           0             0                0              0   \n",
              "1              0           0             0                0              0   \n",
              "2              0           0             0                0              0   \n",
              "3              0           0             0                0              0   \n",
              "4              0           0             0                0              0   \n",
              "...          ...         ...           ...              ...            ...   \n",
              "1521           0           0             0                0              0   \n",
              "1522           0           0             0                0              0   \n",
              "1523           0           0             0                0              0   \n",
              "1524           0           0             0                0              0   \n",
              "1525           0           0             0                0              0   \n",
              "\n",
              "      and they were  ...  went through the  went to the  what do you  \\\n",
              "0                 0  ...                 0            0            0   \n",
              "1                 0  ...                 0            0            0   \n",
              "2                 0  ...                 0            0            0   \n",
              "3                 0  ...                 0            0            0   \n",
              "4                 0  ...                 0            0            0   \n",
              "...             ...  ...               ...          ...          ...   \n",
              "1521              0  ...                 0            0            0   \n",
              "1522              0  ...                 0            0            0   \n",
              "1523              0  ...                 0            0            0   \n",
              "1524              0  ...                 0            0            0   \n",
              "1525              0  ...                 0            0            0   \n",
              "\n",
              "      will never go  worst mcdonald ever  worst mcdonald have  \\\n",
              "0                 0                    0                    0   \n",
              "1                 0                    0                    0   \n",
              "2                 0                    0                    0   \n",
              "3                 0                    0                    0   \n",
              "4                 0                    0                    0   \n",
              "...             ...                  ...                  ...   \n",
              "1521              0                    0                    0   \n",
              "1522              0                    0                    0   \n",
              "1523              0                    0                    0   \n",
              "1524              0                    0                    0   \n",
              "1525              0                    0                    0   \n",
              "\n",
              "      worst mcdonalds ever  you have to  you need to  you want to  \n",
              "0                        0            0            0            0  \n",
              "1                        0            0            0            0  \n",
              "2                        0            0            0            0  \n",
              "3                        0            0            0            0  \n",
              "4                        0            0            0            0  \n",
              "...                    ...          ...          ...          ...  \n",
              "1521                     0            0            0            0  \n",
              "1522                     0            0            0            0  \n",
              "1523                     0            0            0            0  \n",
              "1524                     0            0            0            0  \n",
              "1525                     0            0            0            0  \n",
              "\n",
              "[1526 rows x 200 columns]"
            ],
            "text/html": [
              "\n",
              "  <div id=\"df-a5ffdd53-db98-458d-88f9-b377747894eb\">\n",
              "    <div class=\"colab-df-container\">\n",
              "      <div>\n",
              "<style scoped>\n",
              "    .dataframe tbody tr th:only-of-type {\n",
              "        vertical-align: middle;\n",
              "    }\n",
              "\n",
              "    .dataframe tbody tr th {\n",
              "        vertical-align: top;\n",
              "    }\n",
              "\n",
              "    .dataframe thead th {\n",
              "        text-align: right;\n",
              "    }\n",
              "</style>\n",
              "<table border=\"1\" class=\"dataframe\">\n",
              "  <thead>\n",
              "    <tr style=\"text-align: right;\">\n",
              "      <th></th>\n",
              "      <th>20 minutes to</th>\n",
              "      <th>across the street</th>\n",
              "      <th>all over the</th>\n",
              "      <th>and asked for</th>\n",
              "      <th>and had to</th>\n",
              "      <th>and it was</th>\n",
              "      <th>and the food</th>\n",
              "      <th>and the manager</th>\n",
              "      <th>and there are</th>\n",
              "      <th>and they were</th>\n",
              "      <th>...</th>\n",
              "      <th>went through the</th>\n",
              "      <th>went to the</th>\n",
              "      <th>what do you</th>\n",
              "      <th>will never go</th>\n",
              "      <th>worst mcdonald ever</th>\n",
              "      <th>worst mcdonald have</th>\n",
              "      <th>worst mcdonalds ever</th>\n",
              "      <th>you have to</th>\n",
              "      <th>you need to</th>\n",
              "      <th>you want to</th>\n",
              "    </tr>\n",
              "  </thead>\n",
              "  <tbody>\n",
              "    <tr>\n",
              "      <th>0</th>\n",
              "      <td>0</td>\n",
              "      <td>0</td>\n",
              "      <td>0</td>\n",
              "      <td>0</td>\n",
              "      <td>0</td>\n",
              "      <td>0</td>\n",
              "      <td>0</td>\n",
              "      <td>0</td>\n",
              "      <td>0</td>\n",
              "      <td>0</td>\n",
              "      <td>...</td>\n",
              "      <td>0</td>\n",
              "      <td>0</td>\n",
              "      <td>0</td>\n",
              "      <td>0</td>\n",
              "      <td>0</td>\n",
              "      <td>0</td>\n",
              "      <td>0</td>\n",
              "      <td>0</td>\n",
              "      <td>0</td>\n",
              "      <td>0</td>\n",
              "    </tr>\n",
              "    <tr>\n",
              "      <th>1</th>\n",
              "      <td>0</td>\n",
              "      <td>0</td>\n",
              "      <td>0</td>\n",
              "      <td>0</td>\n",
              "      <td>0</td>\n",
              "      <td>0</td>\n",
              "      <td>0</td>\n",
              "      <td>0</td>\n",
              "      <td>0</td>\n",
              "      <td>0</td>\n",
              "      <td>...</td>\n",
              "      <td>0</td>\n",
              "      <td>0</td>\n",
              "      <td>0</td>\n",
              "      <td>0</td>\n",
              "      <td>0</td>\n",
              "      <td>0</td>\n",
              "      <td>0</td>\n",
              "      <td>0</td>\n",
              "      <td>0</td>\n",
              "      <td>0</td>\n",
              "    </tr>\n",
              "    <tr>\n",
              "      <th>2</th>\n",
              "      <td>0</td>\n",
              "      <td>0</td>\n",
              "      <td>0</td>\n",
              "      <td>0</td>\n",
              "      <td>0</td>\n",
              "      <td>0</td>\n",
              "      <td>0</td>\n",
              "      <td>0</td>\n",
              "      <td>0</td>\n",
              "      <td>0</td>\n",
              "      <td>...</td>\n",
              "      <td>0</td>\n",
              "      <td>0</td>\n",
              "      <td>0</td>\n",
              "      <td>0</td>\n",
              "      <td>0</td>\n",
              "      <td>0</td>\n",
              "      <td>0</td>\n",
              "      <td>0</td>\n",
              "      <td>0</td>\n",
              "      <td>0</td>\n",
              "    </tr>\n",
              "    <tr>\n",
              "      <th>3</th>\n",
              "      <td>1</td>\n",
              "      <td>0</td>\n",
              "      <td>0</td>\n",
              "      <td>0</td>\n",
              "      <td>0</td>\n",
              "      <td>0</td>\n",
              "      <td>0</td>\n",
              "      <td>0</td>\n",
              "      <td>0</td>\n",
              "      <td>0</td>\n",
              "      <td>...</td>\n",
              "      <td>0</td>\n",
              "      <td>0</td>\n",
              "      <td>0</td>\n",
              "      <td>0</td>\n",
              "      <td>0</td>\n",
              "      <td>0</td>\n",
              "      <td>0</td>\n",
              "      <td>0</td>\n",
              "      <td>0</td>\n",
              "      <td>0</td>\n",
              "    </tr>\n",
              "    <tr>\n",
              "      <th>4</th>\n",
              "      <td>0</td>\n",
              "      <td>0</td>\n",
              "      <td>0</td>\n",
              "      <td>0</td>\n",
              "      <td>0</td>\n",
              "      <td>0</td>\n",
              "      <td>0</td>\n",
              "      <td>0</td>\n",
              "      <td>0</td>\n",
              "      <td>0</td>\n",
              "      <td>...</td>\n",
              "      <td>0</td>\n",
              "      <td>0</td>\n",
              "      <td>0</td>\n",
              "      <td>0</td>\n",
              "      <td>0</td>\n",
              "      <td>0</td>\n",
              "      <td>0</td>\n",
              "      <td>0</td>\n",
              "      <td>0</td>\n",
              "      <td>0</td>\n",
              "    </tr>\n",
              "    <tr>\n",
              "      <th>...</th>\n",
              "      <td>...</td>\n",
              "      <td>...</td>\n",
              "      <td>...</td>\n",
              "      <td>...</td>\n",
              "      <td>...</td>\n",
              "      <td>...</td>\n",
              "      <td>...</td>\n",
              "      <td>...</td>\n",
              "      <td>...</td>\n",
              "      <td>...</td>\n",
              "      <td>...</td>\n",
              "      <td>...</td>\n",
              "      <td>...</td>\n",
              "      <td>...</td>\n",
              "      <td>...</td>\n",
              "      <td>...</td>\n",
              "      <td>...</td>\n",
              "      <td>...</td>\n",
              "      <td>...</td>\n",
              "      <td>...</td>\n",
              "      <td>...</td>\n",
              "    </tr>\n",
              "    <tr>\n",
              "      <th>1521</th>\n",
              "      <td>0</td>\n",
              "      <td>0</td>\n",
              "      <td>0</td>\n",
              "      <td>0</td>\n",
              "      <td>0</td>\n",
              "      <td>0</td>\n",
              "      <td>0</td>\n",
              "      <td>0</td>\n",
              "      <td>0</td>\n",
              "      <td>0</td>\n",
              "      <td>...</td>\n",
              "      <td>0</td>\n",
              "      <td>0</td>\n",
              "      <td>0</td>\n",
              "      <td>0</td>\n",
              "      <td>0</td>\n",
              "      <td>0</td>\n",
              "      <td>0</td>\n",
              "      <td>0</td>\n",
              "      <td>0</td>\n",
              "      <td>0</td>\n",
              "    </tr>\n",
              "    <tr>\n",
              "      <th>1522</th>\n",
              "      <td>0</td>\n",
              "      <td>0</td>\n",
              "      <td>0</td>\n",
              "      <td>0</td>\n",
              "      <td>0</td>\n",
              "      <td>0</td>\n",
              "      <td>0</td>\n",
              "      <td>0</td>\n",
              "      <td>0</td>\n",
              "      <td>0</td>\n",
              "      <td>...</td>\n",
              "      <td>0</td>\n",
              "      <td>0</td>\n",
              "      <td>0</td>\n",
              "      <td>0</td>\n",
              "      <td>0</td>\n",
              "      <td>0</td>\n",
              "      <td>0</td>\n",
              "      <td>0</td>\n",
              "      <td>0</td>\n",
              "      <td>0</td>\n",
              "    </tr>\n",
              "    <tr>\n",
              "      <th>1523</th>\n",
              "      <td>0</td>\n",
              "      <td>0</td>\n",
              "      <td>0</td>\n",
              "      <td>0</td>\n",
              "      <td>0</td>\n",
              "      <td>0</td>\n",
              "      <td>0</td>\n",
              "      <td>0</td>\n",
              "      <td>0</td>\n",
              "      <td>0</td>\n",
              "      <td>...</td>\n",
              "      <td>0</td>\n",
              "      <td>0</td>\n",
              "      <td>0</td>\n",
              "      <td>0</td>\n",
              "      <td>0</td>\n",
              "      <td>0</td>\n",
              "      <td>0</td>\n",
              "      <td>0</td>\n",
              "      <td>0</td>\n",
              "      <td>0</td>\n",
              "    </tr>\n",
              "    <tr>\n",
              "      <th>1524</th>\n",
              "      <td>0</td>\n",
              "      <td>0</td>\n",
              "      <td>0</td>\n",
              "      <td>0</td>\n",
              "      <td>0</td>\n",
              "      <td>0</td>\n",
              "      <td>0</td>\n",
              "      <td>0</td>\n",
              "      <td>0</td>\n",
              "      <td>0</td>\n",
              "      <td>...</td>\n",
              "      <td>0</td>\n",
              "      <td>0</td>\n",
              "      <td>0</td>\n",
              "      <td>0</td>\n",
              "      <td>0</td>\n",
              "      <td>0</td>\n",
              "      <td>0</td>\n",
              "      <td>0</td>\n",
              "      <td>0</td>\n",
              "      <td>0</td>\n",
              "    </tr>\n",
              "    <tr>\n",
              "      <th>1525</th>\n",
              "      <td>0</td>\n",
              "      <td>1</td>\n",
              "      <td>0</td>\n",
              "      <td>0</td>\n",
              "      <td>0</td>\n",
              "      <td>0</td>\n",
              "      <td>0</td>\n",
              "      <td>0</td>\n",
              "      <td>0</td>\n",
              "      <td>0</td>\n",
              "      <td>...</td>\n",
              "      <td>0</td>\n",
              "      <td>0</td>\n",
              "      <td>0</td>\n",
              "      <td>0</td>\n",
              "      <td>0</td>\n",
              "      <td>0</td>\n",
              "      <td>0</td>\n",
              "      <td>0</td>\n",
              "      <td>0</td>\n",
              "      <td>0</td>\n",
              "    </tr>\n",
              "  </tbody>\n",
              "</table>\n",
              "<p>1526 rows × 200 columns</p>\n",
              "</div>\n",
              "      <button class=\"colab-df-convert\" onclick=\"convertToInteractive('df-a5ffdd53-db98-458d-88f9-b377747894eb')\"\n",
              "              title=\"Convert this dataframe to an interactive table.\"\n",
              "              style=\"display:none;\">\n",
              "        \n",
              "  <svg xmlns=\"http://www.w3.org/2000/svg\" height=\"24px\"viewBox=\"0 0 24 24\"\n",
              "       width=\"24px\">\n",
              "    <path d=\"M0 0h24v24H0V0z\" fill=\"none\"/>\n",
              "    <path d=\"M18.56 5.44l.94 2.06.94-2.06 2.06-.94-2.06-.94-.94-2.06-.94 2.06-2.06.94zm-11 1L8.5 8.5l.94-2.06 2.06-.94-2.06-.94L8.5 2.5l-.94 2.06-2.06.94zm10 10l.94 2.06.94-2.06 2.06-.94-2.06-.94-.94-2.06-.94 2.06-2.06.94z\"/><path d=\"M17.41 7.96l-1.37-1.37c-.4-.4-.92-.59-1.43-.59-.52 0-1.04.2-1.43.59L10.3 9.45l-7.72 7.72c-.78.78-.78 2.05 0 2.83L4 21.41c.39.39.9.59 1.41.59.51 0 1.02-.2 1.41-.59l7.78-7.78 2.81-2.81c.8-.78.8-2.07 0-2.86zM5.41 20L4 18.59l7.72-7.72 1.47 1.35L5.41 20z\"/>\n",
              "  </svg>\n",
              "      </button>\n",
              "      \n",
              "  <style>\n",
              "    .colab-df-container {\n",
              "      display:flex;\n",
              "      flex-wrap:wrap;\n",
              "      gap: 12px;\n",
              "    }\n",
              "\n",
              "    .colab-df-convert {\n",
              "      background-color: #E8F0FE;\n",
              "      border: none;\n",
              "      border-radius: 50%;\n",
              "      cursor: pointer;\n",
              "      display: none;\n",
              "      fill: #1967D2;\n",
              "      height: 32px;\n",
              "      padding: 0 0 0 0;\n",
              "      width: 32px;\n",
              "    }\n",
              "\n",
              "    .colab-df-convert:hover {\n",
              "      background-color: #E2EBFA;\n",
              "      box-shadow: 0px 1px 2px rgba(60, 64, 67, 0.3), 0px 1px 3px 1px rgba(60, 64, 67, 0.15);\n",
              "      fill: #174EA6;\n",
              "    }\n",
              "\n",
              "    [theme=dark] .colab-df-convert {\n",
              "      background-color: #3B4455;\n",
              "      fill: #D2E3FC;\n",
              "    }\n",
              "\n",
              "    [theme=dark] .colab-df-convert:hover {\n",
              "      background-color: #434B5C;\n",
              "      box-shadow: 0px 1px 3px 1px rgba(0, 0, 0, 0.15);\n",
              "      filter: drop-shadow(0px 1px 2px rgba(0, 0, 0, 0.3));\n",
              "      fill: #FFFFFF;\n",
              "    }\n",
              "  </style>\n",
              "\n",
              "      <script>\n",
              "        const buttonEl =\n",
              "          document.querySelector('#df-a5ffdd53-db98-458d-88f9-b377747894eb button.colab-df-convert');\n",
              "        buttonEl.style.display =\n",
              "          google.colab.kernel.accessAllowed ? 'block' : 'none';\n",
              "\n",
              "        async function convertToInteractive(key) {\n",
              "          const element = document.querySelector('#df-a5ffdd53-db98-458d-88f9-b377747894eb');\n",
              "          const dataTable =\n",
              "            await google.colab.kernel.invokeFunction('convertToInteractive',\n",
              "                                                     [key], {});\n",
              "          if (!dataTable) return;\n",
              "\n",
              "          const docLinkHtml = 'Like what you see? Visit the ' +\n",
              "            '<a target=\"_blank\" href=https://colab.research.google.com/notebooks/data_table.ipynb>data table notebook</a>'\n",
              "            + ' to learn more about interactive tables.';\n",
              "          element.innerHTML = '';\n",
              "          dataTable['output_type'] = 'display_data';\n",
              "          await google.colab.output.renderOutput(dataTable, element);\n",
              "          const docLink = document.createElement('div');\n",
              "          docLink.innerHTML = docLinkHtml;\n",
              "          element.appendChild(docLink);\n",
              "        }\n",
              "      </script>\n",
              "    </div>\n",
              "  </div>\n",
              "  "
            ]
          },
          "metadata": {},
          "execution_count": 4
        }
      ]
    },
    {
      "cell_type": "code",
      "metadata": {
        "id": "46CSrcUM4Jzf",
        "outputId": "44609d73-5e73-4128-f039-bef4986a180e",
        "colab": {
          "base_uri": "https://localhost:8080/",
          "height": 206
        }
      },
      "source": [
        "\n",
        "correlations = features_df.corr()\n",
        "correlations_stacked = correlations.stack().reset_index()\n",
        "#set column names\n",
        "correlations_stacked.columns = ['Tri-Gram 1','Tri-Gram 2','Correlation']\n",
        "correlations_stacked = correlations_stacked[correlations_stacked[\"Correlation\"] < 1]\n",
        "correlations_stacked = correlations_stacked.sort_values(by=['Correlation'], ascending=False)\n",
        "correlations_stacked.head()"
      ],
      "execution_count": null,
      "outputs": [
        {
          "output_type": "execute_result",
          "data": {
            "text/plain": [
              "                Tri-Gram 1           Tri-Gram 2  Correlation\n",
              "14329        in the middle        the middle of     0.873419\n",
              "25871        the middle of        in the middle     0.873419\n",
              "39086  worst mcdonald have   mcdonald have ever     0.864881\n",
              "17395   mcdonald have ever  worst mcdonald have     0.864881\n",
              "5242            by far the        far the worst     0.786458"
            ],
            "text/html": [
              "\n",
              "  <div id=\"df-0da159a3-a5e1-4015-8087-7ec3a0b97640\">\n",
              "    <div class=\"colab-df-container\">\n",
              "      <div>\n",
              "<style scoped>\n",
              "    .dataframe tbody tr th:only-of-type {\n",
              "        vertical-align: middle;\n",
              "    }\n",
              "\n",
              "    .dataframe tbody tr th {\n",
              "        vertical-align: top;\n",
              "    }\n",
              "\n",
              "    .dataframe thead th {\n",
              "        text-align: right;\n",
              "    }\n",
              "</style>\n",
              "<table border=\"1\" class=\"dataframe\">\n",
              "  <thead>\n",
              "    <tr style=\"text-align: right;\">\n",
              "      <th></th>\n",
              "      <th>Tri-Gram 1</th>\n",
              "      <th>Tri-Gram 2</th>\n",
              "      <th>Correlation</th>\n",
              "    </tr>\n",
              "  </thead>\n",
              "  <tbody>\n",
              "    <tr>\n",
              "      <th>14329</th>\n",
              "      <td>in the middle</td>\n",
              "      <td>the middle of</td>\n",
              "      <td>0.873419</td>\n",
              "    </tr>\n",
              "    <tr>\n",
              "      <th>25871</th>\n",
              "      <td>the middle of</td>\n",
              "      <td>in the middle</td>\n",
              "      <td>0.873419</td>\n",
              "    </tr>\n",
              "    <tr>\n",
              "      <th>39086</th>\n",
              "      <td>worst mcdonald have</td>\n",
              "      <td>mcdonald have ever</td>\n",
              "      <td>0.864881</td>\n",
              "    </tr>\n",
              "    <tr>\n",
              "      <th>17395</th>\n",
              "      <td>mcdonald have ever</td>\n",
              "      <td>worst mcdonald have</td>\n",
              "      <td>0.864881</td>\n",
              "    </tr>\n",
              "    <tr>\n",
              "      <th>5242</th>\n",
              "      <td>by far the</td>\n",
              "      <td>far the worst</td>\n",
              "      <td>0.786458</td>\n",
              "    </tr>\n",
              "  </tbody>\n",
              "</table>\n",
              "</div>\n",
              "      <button class=\"colab-df-convert\" onclick=\"convertToInteractive('df-0da159a3-a5e1-4015-8087-7ec3a0b97640')\"\n",
              "              title=\"Convert this dataframe to an interactive table.\"\n",
              "              style=\"display:none;\">\n",
              "        \n",
              "  <svg xmlns=\"http://www.w3.org/2000/svg\" height=\"24px\"viewBox=\"0 0 24 24\"\n",
              "       width=\"24px\">\n",
              "    <path d=\"M0 0h24v24H0V0z\" fill=\"none\"/>\n",
              "    <path d=\"M18.56 5.44l.94 2.06.94-2.06 2.06-.94-2.06-.94-.94-2.06-.94 2.06-2.06.94zm-11 1L8.5 8.5l.94-2.06 2.06-.94-2.06-.94L8.5 2.5l-.94 2.06-2.06.94zm10 10l.94 2.06.94-2.06 2.06-.94-2.06-.94-.94-2.06-.94 2.06-2.06.94z\"/><path d=\"M17.41 7.96l-1.37-1.37c-.4-.4-.92-.59-1.43-.59-.52 0-1.04.2-1.43.59L10.3 9.45l-7.72 7.72c-.78.78-.78 2.05 0 2.83L4 21.41c.39.39.9.59 1.41.59.51 0 1.02-.2 1.41-.59l7.78-7.78 2.81-2.81c.8-.78.8-2.07 0-2.86zM5.41 20L4 18.59l7.72-7.72 1.47 1.35L5.41 20z\"/>\n",
              "  </svg>\n",
              "      </button>\n",
              "      \n",
              "  <style>\n",
              "    .colab-df-container {\n",
              "      display:flex;\n",
              "      flex-wrap:wrap;\n",
              "      gap: 12px;\n",
              "    }\n",
              "\n",
              "    .colab-df-convert {\n",
              "      background-color: #E8F0FE;\n",
              "      border: none;\n",
              "      border-radius: 50%;\n",
              "      cursor: pointer;\n",
              "      display: none;\n",
              "      fill: #1967D2;\n",
              "      height: 32px;\n",
              "      padding: 0 0 0 0;\n",
              "      width: 32px;\n",
              "    }\n",
              "\n",
              "    .colab-df-convert:hover {\n",
              "      background-color: #E2EBFA;\n",
              "      box-shadow: 0px 1px 2px rgba(60, 64, 67, 0.3), 0px 1px 3px 1px rgba(60, 64, 67, 0.15);\n",
              "      fill: #174EA6;\n",
              "    }\n",
              "\n",
              "    [theme=dark] .colab-df-convert {\n",
              "      background-color: #3B4455;\n",
              "      fill: #D2E3FC;\n",
              "    }\n",
              "\n",
              "    [theme=dark] .colab-df-convert:hover {\n",
              "      background-color: #434B5C;\n",
              "      box-shadow: 0px 1px 3px 1px rgba(0, 0, 0, 0.15);\n",
              "      filter: drop-shadow(0px 1px 2px rgba(0, 0, 0, 0.3));\n",
              "      fill: #FFFFFF;\n",
              "    }\n",
              "  </style>\n",
              "\n",
              "      <script>\n",
              "        const buttonEl =\n",
              "          document.querySelector('#df-0da159a3-a5e1-4015-8087-7ec3a0b97640 button.colab-df-convert');\n",
              "        buttonEl.style.display =\n",
              "          google.colab.kernel.accessAllowed ? 'block' : 'none';\n",
              "\n",
              "        async function convertToInteractive(key) {\n",
              "          const element = document.querySelector('#df-0da159a3-a5e1-4015-8087-7ec3a0b97640');\n",
              "          const dataTable =\n",
              "            await google.colab.kernel.invokeFunction('convertToInteractive',\n",
              "                                                     [key], {});\n",
              "          if (!dataTable) return;\n",
              "\n",
              "          const docLinkHtml = 'Like what you see? Visit the ' +\n",
              "            '<a target=\"_blank\" href=https://colab.research.google.com/notebooks/data_table.ipynb>data table notebook</a>'\n",
              "            + ' to learn more about interactive tables.';\n",
              "          element.innerHTML = '';\n",
              "          dataTable['output_type'] = 'display_data';\n",
              "          await google.colab.output.renderOutput(dataTable, element);\n",
              "          const docLink = document.createElement('div');\n",
              "          docLink.innerHTML = docLinkHtml;\n",
              "          element.appendChild(docLink);\n",
              "        }\n",
              "      </script>\n",
              "    </div>\n",
              "  </div>\n",
              "  "
            ]
          },
          "metadata": {},
          "execution_count": 5
        }
      ]
    },
    {
      "cell_type": "code",
      "metadata": {
        "id": "c6Sx_v5V4Jzf",
        "outputId": "879c94e9-2f6e-4cb8-a050-c18a86f68402",
        "colab": {
          "base_uri": "https://localhost:8080/"
        }
      },
      "source": [
        "!pip install seaborn"
      ],
      "execution_count": null,
      "outputs": [
        {
          "output_type": "stream",
          "name": "stdout",
          "text": [
            "Requirement already satisfied: seaborn in /usr/local/lib/python3.7/dist-packages (0.11.2)\n",
            "Requirement already satisfied: pandas>=0.23 in /usr/local/lib/python3.7/dist-packages (from seaborn) (1.3.5)\n",
            "Requirement already satisfied: scipy>=1.0 in /usr/local/lib/python3.7/dist-packages (from seaborn) (1.4.1)\n",
            "Requirement already satisfied: numpy>=1.15 in /usr/local/lib/python3.7/dist-packages (from seaborn) (1.21.5)\n",
            "Requirement already satisfied: matplotlib>=2.2 in /usr/local/lib/python3.7/dist-packages (from seaborn) (3.2.2)\n",
            "Requirement already satisfied: python-dateutil>=2.1 in /usr/local/lib/python3.7/dist-packages (from matplotlib>=2.2->seaborn) (2.8.2)\n",
            "Requirement already satisfied: kiwisolver>=1.0.1 in /usr/local/lib/python3.7/dist-packages (from matplotlib>=2.2->seaborn) (1.4.0)\n",
            "Requirement already satisfied: pyparsing!=2.0.4,!=2.1.2,!=2.1.6,>=2.0.1 in /usr/local/lib/python3.7/dist-packages (from matplotlib>=2.2->seaborn) (3.0.7)\n",
            "Requirement already satisfied: cycler>=0.10 in /usr/local/lib/python3.7/dist-packages (from matplotlib>=2.2->seaborn) (0.11.0)\n",
            "Requirement already satisfied: typing-extensions in /usr/local/lib/python3.7/dist-packages (from kiwisolver>=1.0.1->matplotlib>=2.2->seaborn) (3.10.0.2)\n",
            "Requirement already satisfied: pytz>=2017.3 in /usr/local/lib/python3.7/dist-packages (from pandas>=0.23->seaborn) (2018.9)\n",
            "Requirement already satisfied: six>=1.5 in /usr/local/lib/python3.7/dist-packages (from python-dateutil>=2.1->matplotlib>=2.2->seaborn) (1.15.0)\n"
          ]
        }
      ]
    },
    {
      "cell_type": "code",
      "metadata": {
        "id": "NdJpTrjU4Jzg",
        "outputId": "ba9f99f3-a6d6-4296-dec9-f07225faaa25",
        "colab": {
          "base_uri": "https://localhost:8080/",
          "height": 986
        }
      },
      "source": [
        "import seaborn as sns\n",
        "import matplotlib.pyplot as plt\n",
        "plt.rcParams[\"figure.figsize\"] = (15,15)\n",
        "sns.heatmap(correlations)"
      ],
      "execution_count": null,
      "outputs": [
        {
          "output_type": "execute_result",
          "data": {
            "text/plain": [
              "<matplotlib.axes._subplots.AxesSubplot at 0x7f8b4fdace10>"
            ]
          },
          "metadata": {},
          "execution_count": 15
        },
        {
          "output_type": "display_data",
          "data": {
            "text/plain": [
              "<Figure size 1080x1080 with 2 Axes>"
            ],
            "image/png": "[encoded data removed]"
          },
          "metadata": {
            "needs_background": "light"
          }
        }
      ]
    },
    {
      "cell_type": "markdown",
      "metadata": {
        "id": "8AciP85H4Jzg"
      },
      "source": [
        "# Principle Component Analysis\n",
        "\n",
        "If you have an original matrix $Z$, you can decompose this matrix into two smaller matrices $X$ and $Q$. \n",
        "\n",
        "## Important Points:\n",
        "\n",
        "- Multiplying a vector by a matrix typically changes the direction of the vector. For instance:\n",
        "<figure>\n",
        "  <img src=\"https://github.com/ychennay/dso-560-nlp-text-analytics/blob/main/images/multvector.png?raw=1\" alt=\"my alt text\"/>\n",
        "    <figcaption><a href=\"https://lazyprogrammer.me/tutorial-principal-components-analysis-pca\">Lazy Programmer- \n",
        "        Tutorial to PCA</a></figcaption>\n",
        "</figure>"
      ]
    },
    {
      "cell_type": "markdown",
      "metadata": {
        "id": "22XVrBdd4Jzh"
      },
      "source": [
        "However, there are eigenvalues λ and eigenvectors $v$ such that\n",
        "\n",
        "$$\n",
        "\\sum{X}v = \\lambda v\n",
        "$$\n",
        "\n",
        "Multiplying the eigenvectors $v$ with the eigenvalue $\\lambda$ does not change the direction of the eigenvector.\n",
        "\n",
        "Multiplying the eigenvector $v$ by the covariance matrix $\\sum{X}$ also does not change the direction of the eigenvector.\n",
        "\n",
        "If our data $X$ is of shape $N \\times D$, it turns out that we have $D$ eigenvalues and $D$ eigenvectors. This means we can arrange the eigenvalues $\\lambda$ in decreasing order so that\n",
        "\n",
        "$$\n",
        "\\lambda_3 > \\lambda_2 > \\lambda_5\n",
        "$$\n",
        "\n",
        "In this case, $\\lambda_3$ is the largest eigenvalue, followed by $\\lambda_2$, and then $\\lambda_5$. Then, we can arrange \n",
        "\n",
        "We can also rearrange the eigenvectors the same: $v_3$ will be the first column, $v_2$ will be the second column, and $v_5$ will be the third column.\n",
        "\n",
        "We'll end up with two matrices $V$ and $\\Lambda$:\n",
        "<figure>\n",
        "  <img src=\"https://github.com/ychennay/dso-560-nlp-text-analytics/blob/main/images/pca1.png?raw=1\" alt=\"my alt text\"/>\n",
        "    <figcaption><a href=\"https://lazyprogrammer.me/tutorial-principal-components-analysis-pca\">Lazy Programmer- \n",
        "        Tutorial to PCA</a></figcaption>\n",
        "</figure>"
      ]
    },
    {
      "cell_type": "code",
      "metadata": {
        "id": "RDpR_wd04Jzi",
        "outputId": "a0606442-ebdd-4413-f901-d1649dfe817b",
        "colab": {
          "base_uri": "https://localhost:8080/"
        }
      },
      "source": [
        " # what is the shape of our features?\n",
        "features.shape"
      ],
      "execution_count": null,
      "outputs": [
        {
          "output_type": "execute_result",
          "data": {
            "text/plain": [
              "(1526, 200)"
            ]
          },
          "metadata": {},
          "execution_count": 7
        }
      ]
    },
    {
      "cell_type": "code",
      "metadata": {
        "id": "79dnrasq4Jzj"
      },
      "source": [
        "# features -> age, gpa, final_score, is_female, is_full_time\n",
        "\n",
        "a = [45, 3.4, 0, 1]\n",
        "b = [21, 3.5, 1, 0]"
      ],
      "execution_count": null,
      "outputs": []
    },
    {
      "cell_type": "code",
      "metadata": {
        "id": "Zs4mV0Vb4Jzj",
        "outputId": "ae72b0fc-602d-40e6-e11d-ba3fbd39bb46",
        "colab": {
          "base_uri": "https://localhost:8080/"
        }
      },
      "source": [
        "from sklearn.decomposition import PCA\n",
        "\n",
        "pca = PCA(n_components=4)\n",
        "\n",
        "Z = pca.fit_transform(features)\n",
        "\n",
        "# what is the shape of Z?\n",
        "Z"
      ],
      "execution_count": null,
      "outputs": [
        {
          "output_type": "execute_result",
          "data": {
            "text/plain": [
              "array([[-0.23176374, -0.0966622 , -0.01104015, -0.1092714 ],\n",
              "       [-0.19602792, -0.06124947, -0.11059485,  0.24920274],\n",
              "       [-0.15130392,  0.73169485, -0.39254013, -0.24710469],\n",
              "       ...,\n",
              "       [-0.20438629,  0.01330206, -0.07588275, -0.08815384],\n",
              "       [-0.20189066, -0.05098049,  0.07795379,  0.04411772],\n",
              "       [-0.2318637 , -0.09246966, -0.02649699, -0.07859325]])"
            ]
          },
          "metadata": {},
          "execution_count": 12
        }
      ]
    },
    {
      "cell_type": "code",
      "metadata": {
        "id": "lPagO4AO4Jzl",
        "outputId": "e24c14b1-11f3-44b2-b77a-9451795ff129",
        "colab": {
          "base_uri": "https://localhost:8080/",
          "height": 337
        }
      },
      "source": [
        "# what will happen if we take the correlation matrix and covariance matrix of our new reduced features?\n",
        "import numpy as np\n",
        "import matplotlib.pyplot as plt\n",
        "covariances = pd.DataFrame(np.cov(Z.transpose()))\n",
        "plt.rcParams[\"figure.figsize\"] = (5,5)\n",
        "sns.heatmap(covariances)"
      ],
      "execution_count": null,
      "outputs": [
        {
          "output_type": "execute_result",
          "data": {
            "text/plain": [
              "<matplotlib.axes._subplots.AxesSubplot at 0x7f8b4f31d8d0>"
            ]
          },
          "metadata": {},
          "execution_count": 16
        },
        {
          "output_type": "display_data",
          "data": {
            "text/plain": [
              "<Figure size 360x360 with 2 Axes>"
            ],
            "image/png": "[encoded data removed]"
          },
          "metadata": {
            "needs_background": "light"
          }
        }
      ]
    },
    {
      "cell_type": "code",
      "metadata": {
        "id": "9q2XQHtZ4Jzm",
        "outputId": "7fbb1add-c6c9-4015-c432-04cc53d14cf0",
        "colab": {
          "base_uri": "https://localhost:8080/"
        }
      },
      "source": [
        "pca = PCA(n_components=2)\n",
        "Z_two_dimensions = pca.fit_transform(features)\n",
        "Z_two_dimensions"
      ],
      "execution_count": null,
      "outputs": [
        {
          "output_type": "execute_result",
          "data": {
            "text/plain": [
              "array([[-0.23176377, -0.09666655],\n",
              "       [-0.19602825, -0.06093927],\n",
              "       [-0.15130395,  0.73135001],\n",
              "       ...,\n",
              "       [-0.20438637,  0.01313675],\n",
              "       [-0.20189108, -0.05033096],\n",
              "       [-0.23186363, -0.09250513]])"
            ]
          },
          "metadata": {},
          "execution_count": 17
        }
      ]
    },
    {
      "cell_type": "code",
      "metadata": {
        "id": "DUXVl4y74Jzm",
        "outputId": "6ff72670-8a36-44d4-e5cc-f0648cda7e8d",
        "colab": {
          "base_uri": "https://localhost:8080/",
          "height": 320
        }
      },
      "source": [
        "import matplotlib.pyplot as plt\n",
        "\n",
        "plt.scatter(Z_two_dimensions[:,0], Z_two_dimensions[:, 1])\n",
        "reduced_features_df = pd.DataFrame(Z_two_dimensions, columns=[\"x1\", \"x2\"])\n",
        "reduced_features_df[\"text\"] = text\n",
        "#reduced_features_df.to_csv(\"reduced_features.csv\")"
      ],
      "execution_count": null,
      "outputs": [
        {
          "output_type": "display_data",
          "data": {
            "text/plain": [
              "<Figure size 360x360 with 1 Axes>"
            ],
            "image/png": "[encoded data removed]"
          },
          "metadata": {
            "needs_background": "light"
          }
        }
      ]
    },
    {
      "cell_type": "markdown",
      "metadata": {
        "id": "XWQlLi7l4Jzm"
      },
      "source": [
        "# Singular Value Decomposition\n",
        "\n",
        "Given an input matrix $A$, we want to try to represent it instead as three smaller matrices $U$, $\\sum$, and $V$. Instead of **$n$ original terms**, we want to represent each document as **$r$ concepts** (other referred to as **latent dimensions**, or **latent factors**):\n",
        "<figure>\n",
        "  <img src=\"https://github.com/ychennay/dso-560-nlp-text-analytics/blob/main/images/svd.png?raw=1\" alt=\"my alt text\"/>\n",
        "    <figcaption><i>\n",
        "        <a href=\"https://www.youtube.com/watch?v=P5mlg91as1c\">Mining of Massive Datasets - Dimensionality Reduction: Singular Value Decomposition</a> by Leskovec, Rajaraman, and Ullman (Stanford University)</i></figcaption>\n",
        "</figure>\n",
        "\n",
        "Here, **$A$ is your matrix of word vectors** - you could use any of the word vectorization techniques we have learned so far, include one-hot encoding, word count, TF-IDF.\n",
        "\n",
        "- $\\sum$ will be a **diagonal matrix** with values that are positive and sorted in decreasing order. Its value indicate the **variance (information encoded on that new dimension)**- therefore, the higher the value, the stronger that dimension is in capturing data from A, the original features. For our purposes, we can think of the rank of this $\\sum$ matrix as the number of desired dimensions. Instance, if we want to reduce $A$ from shape $1020 x 300$ to $1020 x 10$, we will want to reduce the rank of $\\sum$ from 300 to 10.\n",
        "\n",
        "- $U^T U = I$ and $V^T V = I$\n",
        "\n",
        "## Measuring the Quality of the Reconstruction\n",
        "\n",
        "A popular metric used for measuring the quality of the reconstruction is the [Frobenius Norm](https://en.wikipedia.org/wiki/Matrix_norm#Frobenius_norm). When you explain your methodology for reducing dimensions, usually managers / stakeholders will want to some way to compare multiple dimensionality techniques' ability to quantify its ability to retain information but trim dimensions:\n",
        "\n",
        "$$\n",
        "\\begin{equation}\n",
        "||A_{old}-A_{new}||_{F} = \\sqrt{\\sum_{ij}{(A^{old}_{ij}- A^{new}_{ij}}})^2\n",
        "\\end{equation}\n",
        "$$\n",
        "\n",
        "## Heuristic Step for How Many Dimensions to Keep\n",
        "\n",
        "1. Sum the $\\sum$ matrix's diagonal values: \n",
        "$$\n",
        "\\begin{equation}\n",
        "\\sum_{i}^{m}\\sigma_{i}\n",
        "\\end{equation}\n",
        "$$\n",
        "\n",
        "2. Define your threshold of \"information\" (variance) $\\alpha$ to keep: usually 80% to 90%. \n",
        "\n",
        "3. Define your cutoff point $C$: $$\n",
        "\\begin{equation}\n",
        "C = \\sum_{i}^{m}\\sigma_{i} \\alpha\n",
        "\\end{equation}\n",
        "$$\n",
        "\n",
        "4. Beginning with your largest singular value, sum your singular values $\\sigma_{i}$ until it is greater than C. Retain only those dimensions."
      ]
    },
    {
      "cell_type": "code",
      "metadata": {
        "id": "QLVNiNdK4Jzn",
        "colab": {
          "base_uri": "https://localhost:8080/",
          "height": 320
        },
        "outputId": "2b8464f6-739c-4f44-c182-d1c9bf092820"
      },
      "source": [
        "import numpy as np\n",
        "import matplotlib.pyplot as plt\n",
        "from scipy.linalg import svd\n",
        "x = np.linspace(1,20, 20) # create the first dimension\n",
        "x = np.concatenate((x,x))\n",
        "y = x + np.random.normal(0,1, 40) # create the second dimension\n",
        "z = x + np.random.normal(0,2, 40) # create the third dimension\n",
        "a = x + np.random.normal(0,4, 40) # create the fourth dimension\n",
        "plt.scatter(x,y) # plot just the first two dimensions\n",
        "plt.show()"
      ],
      "execution_count": null,
      "outputs": [
        {
          "output_type": "display_data",
          "data": {
            "text/plain": [
              "<Figure size 360x360 with 1 Axes>"
            ],
            "image/png": "[encoded data removed]"
          },
          "metadata": {
            "needs_background": "light"
          }
        }
      ]
    },
    {
      "cell_type": "code",
      "metadata": {
        "id": "Tluqtq2e4Jzn",
        "colab": {
          "base_uri": "https://localhost:8080/"
        },
        "outputId": "292d0c83-c2f1-417f-c38f-60a99e5f8c55"
      },
      "source": [
        "A = np.stack([x,y,z,a]).T\n",
        "A"
      ],
      "execution_count": null,
      "outputs": [
        {
          "output_type": "execute_result",
          "data": {
            "text/plain": [
              "array([[ 1.        ,  1.24102663,  2.03184002,  9.05136351],\n",
              "       [ 2.        ,  0.39520646,  2.1762038 ,  2.40763171],\n",
              "       [ 3.        ,  1.43695756,  1.95864677,  5.57225595],\n",
              "       [ 4.        ,  3.26276225,  2.52970401, -2.35619305],\n",
              "       [ 5.        ,  4.37392247,  3.02131358, -2.67453737],\n",
              "       [ 6.        ,  8.77781214,  8.27571596, 11.13682518],\n",
              "       [ 7.        ,  7.12986096,  7.96324131,  5.90046122],\n",
              "       [ 8.        ,  8.54591432,  5.8986989 ,  7.29140982],\n",
              "       [ 9.        ,  9.2273871 ,  9.90898477, 14.41422303],\n",
              "       [10.        , 10.46739658, 10.93776738, 12.57780748],\n",
              "       [11.        ,  9.30888001, 12.83464747, 16.5303369 ],\n",
              "       [12.        , 12.63522325, 11.92480783,  9.8872079 ],\n",
              "       [13.        , 13.13820076, 15.1729982 , 17.54532777],\n",
              "       [14.        , 15.40045438, 13.84602886, 13.98968527],\n",
              "       [15.        , 15.89218589, 14.96702846, 23.37061426],\n",
              "       [16.        , 14.78966943, 19.52877966, 18.2006327 ],\n",
              "       [17.        , 17.60380136, 16.10944946, 13.93922295],\n",
              "       [18.        , 17.81922634, 16.88432589, 20.87100814],\n",
              "       [19.        , 18.6300992 , 15.56616138, 19.15709888],\n",
              "       [20.        , 20.85342187, 17.79358757, 27.12570581],\n",
              "       [ 1.        ,  1.28880457, -1.02916385, -3.12711089],\n",
              "       [ 2.        ,  1.20365688,  0.19164717,  2.3930636 ],\n",
              "       [ 3.        ,  2.48834838,  3.39439104,  3.64309744],\n",
              "       [ 4.        ,  5.24465412,  1.71740248,  3.96046673],\n",
              "       [ 5.        ,  7.12672687,  3.93503137, -0.28365766],\n",
              "       [ 6.        ,  4.82781486,  4.44915509, -1.28791667],\n",
              "       [ 7.        ,  7.58712765,  7.05316207,  6.23809785],\n",
              "       [ 8.        ,  7.33074291,  7.07208262,  3.19489158],\n",
              "       [ 9.        ,  8.6435067 , 12.11227944,  7.88031816],\n",
              "       [10.        , 10.48692057,  9.12157129, 10.09739521],\n",
              "       [11.        , 11.00472805, 10.23788597,  8.29310474],\n",
              "       [12.        , 12.26136522, 12.29488019,  7.00311843],\n",
              "       [13.        , 13.36214627, 11.89149777, 13.49575417],\n",
              "       [14.        , 14.84516761, 10.46081593, 12.99116392],\n",
              "       [15.        , 15.27175207, 16.55033822, 16.15702925],\n",
              "       [16.        , 15.43185812, 16.69163506, 12.36969176],\n",
              "       [17.        , 16.74963739, 13.71503218, 19.18497259],\n",
              "       [18.        , 18.10740631, 20.44356769, 17.42677993],\n",
              "       [19.        , 19.12159854, 19.22497466, 12.68899101],\n",
              "       [20.        , 18.51779158, 19.46843637, 19.79763846]])"
            ]
          },
          "metadata": {},
          "execution_count": 20
        }
      ]
    },
    {
      "cell_type": "code",
      "metadata": {
        "id": "1ZJpAn5s4Jzn",
        "colab": {
          "base_uri": "https://localhost:8080/"
        },
        "outputId": "ecf80526-3736-4e00-d264-1e14ac107de7"
      },
      "source": [
        "D = 1\n",
        "U, s, V = svd(A)\n",
        "print(f\"s is {s} ({s.shape})\\n\")\n",
        "print(f\"U is {U} ({U.shape})\\n\")\n",
        "print(f\"V is {V} ({V.shape})\")"
      ],
      "execution_count": null,
      "outputs": [
        {
          "output_type": "stream",
          "name": "stdout",
          "text": [
            "s is [152.41342865  21.05337315   9.41735783   3.97590282] ((4,))\n",
            "\n",
            "U is [[-0.04459346 -0.30897956  0.02638103 ... -0.22288006 -0.15901484\n",
            "  -0.22513818]\n",
            " [-0.02294818 -0.0354232   0.1006583  ... -0.05147333  0.02286532\n",
            "  -0.25829406]\n",
            " [-0.03965531 -0.13401726 -0.02124869 ...  0.24917886  0.11240112\n",
            "  -0.09671784]\n",
            " ...\n",
            " [-0.24238751  0.08739593  0.2415836  ...  0.87265364 -0.10515722\n",
            "  -0.05534712]\n",
            " [-0.22892272  0.29735426  0.08535099 ... -0.10675332  0.85357078\n",
            "  -0.07648374]\n",
            " [-0.25514504  0.018694    0.06473545 ... -0.06412621 -0.05106672\n",
            "   0.8812846 ]] ((40, 40))\n",
            "\n",
            "V is [[-0.49428256 -0.49779687 -0.4892183  -0.51821663]\n",
            " [ 0.33497936  0.32534401  0.23384625 -0.85279308]\n",
            " [-0.25350705 -0.4968931   0.82762465 -0.0622002 ]\n",
            " [-0.76105699  0.63201804  0.14497871 -0.01807282]] ((4, 4))\n"
          ]
        }
      ]
    },
    {
      "cell_type": "code",
      "metadata": {
        "id": "TCvA5V5d4Jzn",
        "colab": {
          "base_uri": "https://localhost:8080/"
        },
        "outputId": "c37be1d6-dfee-4868-8c2f-78af6290376e"
      },
      "source": [
        "s[D:] = 0\n",
        "S = np.zeros((A.shape[0], A.shape[1]))\n",
        "S[:A.shape[1], :A.shape[1]] = np.diag(s)\n",
        "A_reconstructed = U.dot(S.dot(V))\n",
        "np.sum((A_reconstructed - A) ** 2) ** (1/2) # Frobenius norm\n",
        "# reconstruct matrix\n",
        "U.dot(S)"
      ],
      "execution_count": null,
      "outputs": [
        {
          "output_type": "execute_result",
          "data": {
            "text/plain": [
              "array([[ -2.49711016,   0.        ,   0.        ,   0.        ],\n",
              "       [ -4.57811466,   0.        ,   0.        ,   0.        ],\n",
              "       [ -8.39055719,   0.        ,   0.        ,   0.        ],\n",
              "       [-10.32653198,   0.        ,   0.        ,   0.        ],\n",
              "       [ -8.42118289,   0.        ,   0.        ,   0.        ],\n",
              "       [-13.01899291,   0.        ,   0.        ,   0.        ],\n",
              "       [-14.5225712 ,   0.        ,   0.        ,   0.        ],\n",
              "       [-21.75428018,   0.        ,   0.        ,   0.        ],\n",
              "       [-17.86370484,   0.        ,   0.        ,   0.        ],\n",
              "       [-22.73643039,   0.        ,   0.        ,   0.        ],\n",
              "       [-23.76053833,   0.        ,   0.        ,   0.        ],\n",
              "       [-25.52968766,   0.        ,   0.        ,   0.        ],\n",
              "       [-23.8787548 ,   0.        ,   0.        ,   0.        ],\n",
              "       [-28.15668746,   0.        ,   0.        ,   0.        ],\n",
              "       [-30.00637635,   0.        ,   0.        ,   0.        ],\n",
              "       [-36.25352628,   0.        ,   0.        ,   0.        ],\n",
              "       [-35.24202768,   0.        ,   0.        ,   0.        ],\n",
              "       [-37.87310301,   0.        ,   0.        ,   0.        ],\n",
              "       [-37.35996701,   0.        ,   0.        ,   0.        ],\n",
              "       [-39.90987986,   0.        ,   0.        ,   0.        ],\n",
              "       [ -0.93638002,   0.        ,   0.        ,   0.        ],\n",
              "       [ -1.764706  ,   0.        ,   0.        ,   0.        ],\n",
              "       [ -7.23653841,   0.        ,   0.        ,   0.        ],\n",
              "       [ -6.91017675,   0.        ,   0.        ,   0.        ],\n",
              "       [ -7.63836238,   0.        ,   0.        ,   0.        ],\n",
              "       [-13.88482262,   0.        ,   0.        ,   0.        ],\n",
              "       [ -9.73485328,   0.        ,   0.        ,   0.        ],\n",
              "       [-13.61727483,   0.        ,   0.        ,   0.        ],\n",
              "       [-16.27985711,   0.        ,   0.        ,   0.        ],\n",
              "       [-20.40169627,   0.        ,   0.        ,   0.        ],\n",
              "       [-22.46512846,   0.        ,   0.        ,   0.        ],\n",
              "       [-26.62499539,   0.        ,   0.        ,   0.        ],\n",
              "       [-31.01933091,   0.        ,   0.        ,   0.        ],\n",
              "       [-31.22144785,   0.        ,   0.        ,   0.        ],\n",
              "       [-26.56366421,   0.        ,   0.        ,   0.        ],\n",
              "       [-29.89936784,   0.        ,   0.        ,   0.        ],\n",
              "       [-34.99450478,   0.        ,   0.        ,   0.        ],\n",
              "       [-35.13267022,   0.        ,   0.        ,   0.        ],\n",
              "       [-36.68357438,   0.        ,   0.        ,   0.        ],\n",
              "       [-41.72571237,   0.        ,   0.        ,   0.        ]])"
            ]
          },
          "metadata": {},
          "execution_count": 17
        }
      ]
    },
    {
      "cell_type": "markdown",
      "metadata": {
        "id": "mybkcs5Y4Jzn"
      },
      "source": [
        "## Toy Example of SVD"
      ]
    },
    {
      "cell_type": "code",
      "metadata": {
        "id": "o1d5ixwi4Jzn",
        "colab": {
          "base_uri": "https://localhost:8080/"
        },
        "outputId": "bdb14ba7-32db-4122-ba45-60864338db1d"
      },
      "source": [
        "# define a matrix\n",
        "B = np.array([[1, 2], [3, 4], [5, 6]])\n",
        "print(\"B:\\n\", B)\n",
        "# Singular-value decomposition\n",
        "U, s, VT = svd(B)\n",
        "# create m x n Sigma matrix\n",
        "Sigma = np.zeros((B.shape[0],B.shape[1]))\n",
        "# populate Sigma with n x n diagonal matrix\n",
        "Sigma[:B.shape[1], :B.shape[1]] = np.diag(s)\n",
        "Sigma"
      ],
      "execution_count": null,
      "outputs": [
        {
          "output_type": "stream",
          "name": "stdout",
          "text": [
            "B:\n",
            " [[1 2]\n",
            " [3 4]\n",
            " [5 6]]\n"
          ]
        },
        {
          "output_type": "execute_result",
          "data": {
            "text/plain": [
              "array([[9.52551809, 0.        ],\n",
              "       [0.        , 0.51430058],\n",
              "       [0.        , 0.        ]])"
            ]
          },
          "metadata": {},
          "execution_count": 18
        }
      ]
    },
    {
      "cell_type": "markdown",
      "metadata": {
        "id": "gwjfwWZ54Jzo"
      },
      "source": [
        "## Scikit Learn Example"
      ]
    },
    {
      "cell_type": "code",
      "source": [
        "features.shape"
      ],
      "metadata": {
        "colab": {
          "base_uri": "https://localhost:8080/"
        },
        "id": "KDdcxuXmsf0Z",
        "outputId": "7ae65389-85ee-4e15-ac3e-6bc547594aad"
      },
      "execution_count": null,
      "outputs": [
        {
          "output_type": "execute_result",
          "data": {
            "text/plain": [
              "(1526, 200)"
            ]
          },
          "metadata": {},
          "execution_count": 24
        }
      ]
    },
    {
      "cell_type": "code",
      "metadata": {
        "id": "JKzCA0aJ4Jzo",
        "colab": {
          "base_uri": "https://localhost:8080/"
        },
        "outputId": "c8627b00-d0f2-44e5-fcba-9def68a83e29"
      },
      "source": [
        "from sklearn.decomposition import TruncatedSVD\n",
        "\n",
        "svd = TruncatedSVD(n_components=2)\n",
        "reduced_svd_features = svd.fit_transform(features)\n",
        "reduced_svd_features"
      ],
      "execution_count": null,
      "outputs": [
        {
          "output_type": "execute_result",
          "data": {
            "text/plain": [
              "array([[0.        , 0.        ],\n",
              "       [0.09144116, 0.15391102],\n",
              "       [0.17171475, 0.73939111],\n",
              "       ...,\n",
              "       [0.06606785, 0.14796612],\n",
              "       [0.10874541, 0.20137135],\n",
              "       [0.02811343, 0.0508567 ]])"
            ]
          },
          "metadata": {},
          "execution_count": 27
        }
      ]
    },
    {
      "cell_type": "code",
      "source": [
        ""
      ],
      "metadata": {
        "colab": {
          "base_uri": "https://localhost:8080/"
        },
        "id": "mfLoyAektS36",
        "outputId": "18ffab51-dc28-4d74-d1a6-75d647b00a72"
      },
      "execution_count": null,
      "outputs": [
        {
          "output_type": "execute_result",
          "data": {
            "text/plain": [
              "TruncatedSVD()"
            ]
          },
          "metadata": {},
          "execution_count": 26
        }
      ]
    },
    {
      "cell_type": "code",
      "metadata": {
        "id": "gcZJ5qrT4Jzo",
        "colab": {
          "base_uri": "https://localhost:8080/"
        },
        "outputId": "e0b4e41a-34c0-4b0a-f619-e4e1166c23b0"
      },
      "source": [
        "svd.singular_values_"
      ],
      "execution_count": null,
      "outputs": [
        {
          "output_type": "execute_result",
          "data": {
            "text/plain": [
              "array([22.85188153, 12.60749855])"
            ]
          },
          "metadata": {},
          "execution_count": 20
        }
      ]
    },
    {
      "cell_type": "code",
      "metadata": {
        "id": "DwKid1bw4Jzo",
        "colab": {
          "base_uri": "https://localhost:8080/"
        },
        "outputId": "1b316629-0cec-496b-f63a-c8464dbec5ae"
      },
      "source": [
        "svd.explained_variance_"
      ],
      "execution_count": null,
      "outputs": [
        {
          "output_type": "execute_result",
          "data": {
            "text/plain": [
              "array([0.27836635, 0.09311231])"
            ]
          },
          "metadata": {},
          "execution_count": 21
        }
      ]
    }
  ]
}