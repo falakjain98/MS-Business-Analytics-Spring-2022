{
 "cells": [
  {
   "cell_type": "markdown",
   "metadata": {
    "toc": true
   },
   "source": [
    "<h1>Table of Contents<span class=\"tocSkip\"></span></h1>\n",
    "<div class=\"toc\"><ul class=\"toc-item\"><li><span><a href=\"#Word-Count\" data-toc-modified-id=\"Word-Count-1\"><span class=\"toc-item-num\">1&nbsp;&nbsp;</span>Word Count</a></span><ul class=\"toc-item\"><li><span><a href=\"#Using-Counter\" data-toc-modified-id=\"Using-Counter-1.1\"><span class=\"toc-item-num\">1.1&nbsp;&nbsp;</span>Using <code>Counter</code></a></span></li><li><span><a href=\"#Adding-Word-Counts-From-Two-Distinct-Datasets-Together\" data-toc-modified-id=\"Adding-Word-Counts-From-Two-Distinct-Datasets-Together-1.2\"><span class=\"toc-item-num\">1.2&nbsp;&nbsp;</span>Adding Word Counts From Two Distinct Datasets Together</a></span></li></ul></li><li><span><a href=\"#Removing-Stopwords-Using-gensim\" data-toc-modified-id=\"Removing-Stopwords-Using-gensim-2\"><span class=\"toc-item-num\">2&nbsp;&nbsp;</span>Removing Stopwords Using <code>gensim</code></a></span></li><li><span><a href=\"#Finding-Similar-Word-Matches-Using-difflib\" data-toc-modified-id=\"Finding-Similar-Word-Matches-Using-difflib-3\"><span class=\"toc-item-num\">3&nbsp;&nbsp;</span>Finding Similar Word Matches Using <code>difflib</code></a></span><ul class=\"toc-item\"><li><span><a href=\"#Fuzzy-Matching\" data-toc-modified-id=\"Fuzzy-Matching-3.1\"><span class=\"toc-item-num\">3.1&nbsp;&nbsp;</span>Fuzzy Matching</a></span><ul class=\"toc-item\"><li><span><a href=\"#Use-Cases\" data-toc-modified-id=\"Use-Cases-3.1.1\"><span class=\"toc-item-num\">3.1.1&nbsp;&nbsp;</span>Use Cases</a></span></li><li><span><a href=\"#Limitations\" data-toc-modified-id=\"Limitations-3.1.2\"><span class=\"toc-item-num\">3.1.2&nbsp;&nbsp;</span>Limitations</a></span></li><li><span><a href=\"#Slow-Performance\" data-toc-modified-id=\"Slow-Performance-3.1.3\"><span class=\"toc-item-num\">3.1.3&nbsp;&nbsp;</span>Slow Performance</a></span></li><li><span><a href=\"#Not-&quot;Language-Aware&quot;\" data-toc-modified-id=\"Not-&quot;Language-Aware&quot;-3.1.4\"><span class=\"toc-item-num\">3.1.4&nbsp;&nbsp;</span>Not \"Language Aware\"</a></span></li></ul></li><li><span><a href=\"#Install-the-Dependencies-if-Necessary\" data-toc-modified-id=\"Install-the-Dependencies-if-Necessary-3.2\"><span class=\"toc-item-num\">3.2&nbsp;&nbsp;</span>Install the Dependencies if Necessary</a></span><ul class=\"toc-item\"><li><span><a href=\"#Token-Set-Ratio-(following-examples-from-fuzzywuzzy's-documentation)\" data-toc-modified-id=\"Token-Set-Ratio-(following-examples-from-fuzzywuzzy's-documentation)-3.2.1\"><span class=\"toc-item-num\">3.2.1&nbsp;&nbsp;</span>Token Set Ratio (following examples from <code>fuzzywuzzy</code>'s documentation)</a></span></li><li><span><a href=\"#Token-Set-Ratio\" data-toc-modified-id=\"Token-Set-Ratio-3.2.2\"><span class=\"toc-item-num\">3.2.2&nbsp;&nbsp;</span>Token Set Ratio</a></span></li></ul></li></ul></li></ul></div>"
   ]
  },
  {
   "cell_type": "markdown",
   "metadata": {},
   "source": [
    "# Word Count\n",
    "## Using `Counter`"
   ]
  },
  {
   "cell_type": "markdown",
   "metadata": {},
   "source": [
    "A normal dictionary object will return a key error if you do not first initialize the key value:"
   ]
  },
  {
   "cell_type": "code",
   "execution_count": 1,
   "metadata": {},
   "outputs": [
    {
     "ename": "KeyError",
     "evalue": "'yu'",
     "output_type": "error",
     "traceback": [
      "\u001b[0;31m---------------------------------------------------------------------------\u001b[0m",
      "\u001b[0;31mKeyError\u001b[0m                                  Traceback (most recent call last)",
      "\u001b[0;32m<ipython-input-1-5b4cffd8d4f5>\u001b[0m in \u001b[0;36m<module>\u001b[0;34m\u001b[0m\n\u001b[1;32m      1\u001b[0m \u001b[0;32mfrom\u001b[0m \u001b[0mtyping\u001b[0m \u001b[0;32mimport\u001b[0m \u001b[0mDict\u001b[0m\u001b[0;34m\u001b[0m\u001b[0;34m\u001b[0m\u001b[0m\n\u001b[1;32m      2\u001b[0m \u001b[0mordinary_dict\u001b[0m\u001b[0;34m:\u001b[0m \u001b[0mDict\u001b[0m \u001b[0;34m=\u001b[0m \u001b[0mdict\u001b[0m\u001b[0;34m(\u001b[0m\u001b[0;34m)\u001b[0m\u001b[0;34m\u001b[0m\u001b[0;34m\u001b[0m\u001b[0m\n\u001b[0;32m----> 3\u001b[0;31m \u001b[0mordinary_dict\u001b[0m\u001b[0;34m[\u001b[0m\u001b[0;34m\"yu\"\u001b[0m\u001b[0;34m]\u001b[0m \u001b[0;34m+=\u001b[0m \u001b[0;36m1\u001b[0m\u001b[0;34m\u001b[0m\u001b[0;34m\u001b[0m\u001b[0m\n\u001b[0m",
      "\u001b[0;31mKeyError\u001b[0m: 'yu'"
     ]
    }
   ],
   "source": [
    "from typing import Dict\n",
    "ordinary_dict: Dict = dict()\n",
    "if \"yu\" in ordinary_dict:\n",
    "    ordinary_dict[\"yu\"] += 1\n",
    "else:\n",
    "    ordinary_dict[\"yu\"] = 1"
   ]
  },
  {
   "cell_type": "markdown",
   "metadata": {},
   "source": [
    "The `Counter` object in `collections` has a default value of 0 for every key."
   ]
  },
  {
   "cell_type": "code",
   "execution_count": 2,
   "metadata": {},
   "outputs": [
    {
     "data": {
      "text/plain": [
       "Counter({'yu': 1})"
      ]
     },
     "execution_count": 2,
     "metadata": {},
     "output_type": "execute_result"
    }
   ],
   "source": [
    "from collections import Counter\n",
    "\n",
    "counter = Counter()\n",
    "counter[\"yu\"] += 1\n",
    "counter"
   ]
  },
  {
   "cell_type": "markdown",
   "metadata": {},
   "source": [
    "Moreover, the you can pass in a list of strings to the `Counter` constructor, as well as calling the\n",
    "`most_common` method to get the most common words:"
   ]
  },
  {
   "cell_type": "code",
   "execution_count": 5,
   "metadata": {},
   "outputs": [
    {
     "data": {
      "text/plain": [
       "['IT',\n",
       " 'WAS',\n",
       " 'the',\n",
       " 'best',\n",
       " 'of',\n",
       " 'times,',\n",
       " 'it',\n",
       " 'was',\n",
       " 'the',\n",
       " 'worst',\n",
       " 'of',\n",
       " 'times,',\n",
       " 'it',\n",
       " 'was',\n",
       " 'the',\n",
       " 'age',\n",
       " 'of',\n",
       " 'wisdom,',\n",
       " 'it',\n",
       " 'was',\n",
       " 'the',\n",
       " 'age',\n",
       " 'of',\n",
       " 'foolishness,',\n",
       " 'it',\n",
       " 'was',\n",
       " 'the',\n",
       " 'epoch',\n",
       " 'of',\n",
       " 'belief,',\n",
       " 'it',\n",
       " 'was',\n",
       " 'the',\n",
       " 'epoch',\n",
       " 'of',\n",
       " 'incredulity,',\n",
       " 'it',\n",
       " 'was',\n",
       " 'the',\n",
       " 'season',\n",
       " 'of',\n",
       " 'Light,',\n",
       " 'it',\n",
       " 'was',\n",
       " 'the',\n",
       " 'season',\n",
       " 'of',\n",
       " 'Darkness,',\n",
       " 'it',\n",
       " 'was',\n",
       " 'the',\n",
       " 'spring',\n",
       " 'of',\n",
       " 'hope,',\n",
       " 'it',\n",
       " 'was',\n",
       " 'the',\n",
       " 'winter',\n",
       " 'of',\n",
       " 'despair,',\n",
       " 'we',\n",
       " 'had',\n",
       " 'everything',\n",
       " 'before',\n",
       " 'us,',\n",
       " 'we',\n",
       " 'had',\n",
       " 'nothing',\n",
       " 'before',\n",
       " 'us,',\n",
       " 'we',\n",
       " 'were',\n",
       " 'all',\n",
       " 'going',\n",
       " 'direct',\n",
       " 'to',\n",
       " 'Heaven,',\n",
       " 'we',\n",
       " 'were',\n",
       " 'all',\n",
       " 'going',\n",
       " 'direct',\n",
       " 'the',\n",
       " 'other',\n",
       " 'way-',\n",
       " 'in',\n",
       " 'short,',\n",
       " 'the',\n",
       " 'period',\n",
       " 'was',\n",
       " 'so',\n",
       " 'far',\n",
       " 'like',\n",
       " 'the',\n",
       " 'present',\n",
       " 'period,',\n",
       " 'that',\n",
       " 'some',\n",
       " 'of',\n",
       " 'its',\n",
       " 'noisiest',\n",
       " 'authorities',\n",
       " 'insisted',\n",
       " 'on',\n",
       " 'its',\n",
       " 'being',\n",
       " 'received,',\n",
       " 'for',\n",
       " 'good',\n",
       " 'or',\n",
       " 'for',\n",
       " 'evil,',\n",
       " 'in',\n",
       " 'the',\n",
       " 'superlative',\n",
       " 'degree',\n",
       " 'of',\n",
       " 'comparison',\n",
       " 'only.',\n",
       " 'There',\n",
       " 'were',\n",
       " 'a',\n",
       " 'king',\n",
       " 'with',\n",
       " 'a',\n",
       " 'large',\n",
       " 'jaw',\n",
       " 'and',\n",
       " 'a',\n",
       " 'queen',\n",
       " 'with',\n",
       " 'a',\n",
       " 'plain',\n",
       " 'face,',\n",
       " 'on',\n",
       " 'the',\n",
       " 'throne',\n",
       " 'of',\n",
       " 'England;',\n",
       " 'there',\n",
       " 'were',\n",
       " 'a',\n",
       " 'king',\n",
       " 'with',\n",
       " 'a',\n",
       " 'large',\n",
       " 'jaw',\n",
       " 'and',\n",
       " 'a',\n",
       " 'queen',\n",
       " 'with',\n",
       " 'a',\n",
       " 'fair',\n",
       " 'face,',\n",
       " 'on',\n",
       " 'the',\n",
       " 'throne',\n",
       " 'of',\n",
       " 'France.',\n",
       " 'In',\n",
       " 'both',\n",
       " 'countries',\n",
       " 'it',\n",
       " 'was',\n",
       " 'clearer',\n",
       " 'than',\n",
       " 'crystal',\n",
       " 'to',\n",
       " 'the',\n",
       " 'lords',\n",
       " 'of',\n",
       " 'the',\n",
       " 'State',\n",
       " 'preserves',\n",
       " 'of',\n",
       " 'loaves',\n",
       " 'and',\n",
       " 'fishes,',\n",
       " 'that',\n",
       " 'things',\n",
       " 'in',\n",
       " 'general',\n",
       " 'were',\n",
       " 'settled',\n",
       " 'for',\n",
       " 'ever.',\n",
       " 'It',\n",
       " 'was',\n",
       " 'the',\n",
       " 'year',\n",
       " 'of',\n",
       " 'Our',\n",
       " 'Lord',\n",
       " 'one',\n",
       " 'thousand',\n",
       " 'seven',\n",
       " 'hundred',\n",
       " 'and',\n",
       " 'seventy-five.',\n",
       " 'Spiritual',\n",
       " 'revelations',\n",
       " 'were',\n",
       " 'conceded',\n",
       " 'to',\n",
       " 'England',\n",
       " 'at',\n",
       " 'that',\n",
       " 'favoured',\n",
       " 'period,',\n",
       " 'as',\n",
       " 'at',\n",
       " 'this.',\n",
       " 'Mrs.',\n",
       " 'Southcott',\n",
       " 'had',\n",
       " 'recently',\n",
       " 'attained',\n",
       " 'her',\n",
       " 'five-and-twentieth',\n",
       " 'blessed',\n",
       " 'birthday,',\n",
       " 'of',\n",
       " 'whom',\n",
       " 'a',\n",
       " 'prophetic',\n",
       " 'private',\n",
       " 'in',\n",
       " 'the',\n",
       " 'Life',\n",
       " 'Guards',\n",
       " 'had',\n",
       " 'heralded',\n",
       " 'the',\n",
       " 'sublime',\n",
       " 'appearance',\n",
       " 'by',\n",
       " 'announcing',\n",
       " 'that',\n",
       " 'arrangements',\n",
       " 'were',\n",
       " 'made',\n",
       " 'for',\n",
       " 'the',\n",
       " 'swallowing',\n",
       " 'up',\n",
       " 'of',\n",
       " 'London',\n",
       " 'and',\n",
       " 'Westminster.',\n",
       " 'Even',\n",
       " 'the',\n",
       " 'Cock-lane',\n",
       " 'ghost',\n",
       " 'had',\n",
       " 'been',\n",
       " 'laid',\n",
       " 'only',\n",
       " 'a',\n",
       " 'round',\n",
       " 'dozen',\n",
       " 'of',\n",
       " 'years,',\n",
       " 'after',\n",
       " 'rapping',\n",
       " 'out',\n",
       " 'its',\n",
       " 'messages,',\n",
       " 'as',\n",
       " 'the',\n",
       " 'spirits',\n",
       " 'of',\n",
       " 'this',\n",
       " 'very',\n",
       " 'year',\n",
       " 'last',\n",
       " 'past',\n",
       " '(supernaturally',\n",
       " 'deficient',\n",
       " 'in',\n",
       " 'originality)',\n",
       " 'rapped',\n",
       " 'out',\n",
       " 'theirs.',\n",
       " 'Mere',\n",
       " 'messages',\n",
       " 'in',\n",
       " 'the',\n",
       " 'earthly',\n",
       " 'order',\n",
       " 'of',\n",
       " 'events',\n",
       " 'had',\n",
       " 'lately',\n",
       " 'come',\n",
       " 'to',\n",
       " 'the',\n",
       " 'English',\n",
       " 'Crown',\n",
       " 'and',\n",
       " 'People,',\n",
       " 'from',\n",
       " 'a',\n",
       " 'congress',\n",
       " 'of',\n",
       " 'British',\n",
       " 'subjects',\n",
       " 'in',\n",
       " 'America:',\n",
       " 'which,',\n",
       " 'strange',\n",
       " 'to',\n",
       " 'relate,',\n",
       " 'have',\n",
       " 'proved',\n",
       " 'more',\n",
       " 'important',\n",
       " 'to',\n",
       " 'the',\n",
       " 'human',\n",
       " 'race',\n",
       " 'than',\n",
       " 'any',\n",
       " 'communications',\n",
       " 'yet',\n",
       " 'received',\n",
       " 'through',\n",
       " 'any',\n",
       " 'of',\n",
       " 'the',\n",
       " 'chickens',\n",
       " 'of',\n",
       " 'the',\n",
       " 'Cock-lane',\n",
       " 'brood.',\n",
       " 'France,',\n",
       " 'less',\n",
       " 'favoured',\n",
       " 'on',\n",
       " 'the',\n",
       " 'whole',\n",
       " 'as',\n",
       " 'to',\n",
       " 'matters',\n",
       " 'spiritual',\n",
       " 'than',\n",
       " 'her',\n",
       " 'sister',\n",
       " 'of',\n",
       " 'the',\n",
       " 'shield',\n",
       " 'and',\n",
       " 'trident,',\n",
       " 'rolled',\n",
       " 'with',\n",
       " 'exceeding',\n",
       " 'smoothness',\n",
       " 'down',\n",
       " 'hill,',\n",
       " 'making',\n",
       " 'paper',\n",
       " 'money',\n",
       " 'and',\n",
       " 'spending',\n",
       " 'it.',\n",
       " 'Under',\n",
       " 'the',\n",
       " 'guidance',\n",
       " 'of',\n",
       " 'her',\n",
       " 'Christian',\n",
       " 'pastors,',\n",
       " 'she',\n",
       " 'entertained',\n",
       " 'herself,',\n",
       " 'besides,',\n",
       " 'with',\n",
       " 'such',\n",
       " 'humane',\n",
       " 'achievements',\n",
       " 'as',\n",
       " 'sentencing',\n",
       " 'a',\n",
       " 'youth',\n",
       " 'to',\n",
       " 'have',\n",
       " 'his',\n",
       " 'hands',\n",
       " 'cut',\n",
       " 'off,',\n",
       " 'his',\n",
       " 'tongue',\n",
       " 'torn',\n",
       " 'out',\n",
       " 'with',\n",
       " 'pincers,',\n",
       " 'and',\n",
       " 'his',\n",
       " 'body',\n",
       " 'burned',\n",
       " 'alive,',\n",
       " 'because',\n",
       " 'he',\n",
       " 'had',\n",
       " 'not',\n",
       " 'kneeled',\n",
       " 'down',\n",
       " 'in',\n",
       " 'the',\n",
       " 'rain',\n",
       " 'to',\n",
       " 'do',\n",
       " 'honour',\n",
       " 'to',\n",
       " 'a',\n",
       " 'dirty',\n",
       " 'procession',\n",
       " 'of',\n",
       " 'monks',\n",
       " 'which',\n",
       " 'passed',\n",
       " 'within',\n",
       " 'his',\n",
       " 'view,',\n",
       " 'at',\n",
       " 'a',\n",
       " 'distance',\n",
       " 'of',\n",
       " 'some',\n",
       " 'fifty',\n",
       " 'or',\n",
       " 'sixty',\n",
       " 'yards.',\n",
       " 'It',\n",
       " 'is',\n",
       " 'likely',\n",
       " 'enough',\n",
       " 'that,',\n",
       " 'rooted',\n",
       " 'in',\n",
       " 'the',\n",
       " 'woods',\n",
       " 'of',\n",
       " 'France',\n",
       " 'and',\n",
       " 'Norway,',\n",
       " 'there',\n",
       " 'were',\n",
       " 'growing',\n",
       " 'trees,',\n",
       " 'when',\n",
       " 'that',\n",
       " 'sufferer',\n",
       " 'was',\n",
       " 'put',\n",
       " 'to',\n",
       " 'death,',\n",
       " 'already',\n",
       " 'marked',\n",
       " 'by',\n",
       " 'the',\n",
       " 'Woodman,',\n",
       " 'Fate,',\n",
       " 'to',\n",
       " 'come',\n",
       " 'down',\n",
       " 'and',\n",
       " 'be',\n",
       " 'sawn',\n",
       " 'into',\n",
       " 'boards,',\n",
       " 'to',\n",
       " 'make',\n",
       " 'a',\n",
       " 'certain',\n",
       " 'movable',\n",
       " 'framework',\n",
       " 'with',\n",
       " 'a',\n",
       " 'sack',\n",
       " 'and',\n",
       " 'a',\n",
       " 'knife',\n",
       " 'in',\n",
       " 'it,',\n",
       " 'terrible',\n",
       " 'in',\n",
       " 'history.',\n",
       " 'It',\n",
       " 'is',\n",
       " 'likely',\n",
       " 'enough',\n",
       " 'that',\n",
       " 'in',\n",
       " 'the',\n",
       " 'rough',\n",
       " 'outhouses',\n",
       " 'of',\n",
       " 'some',\n",
       " 'tillers',\n",
       " 'of',\n",
       " 'the',\n",
       " 'heavy',\n",
       " 'lands',\n",
       " 'adjacent',\n",
       " 'to',\n",
       " 'Paris,',\n",
       " 'there',\n",
       " 'were',\n",
       " 'sheltered',\n",
       " 'from',\n",
       " 'the',\n",
       " 'weather',\n",
       " 'that',\n",
       " 'very',\n",
       " 'day,',\n",
       " 'rude',\n",
       " 'carts,',\n",
       " 'bespattered',\n",
       " 'with',\n",
       " 'rustic',\n",
       " 'mire,',\n",
       " 'snuffed',\n",
       " 'about',\n",
       " 'by',\n",
       " 'pigs,',\n",
       " 'and',\n",
       " 'roosted',\n",
       " 'in',\n",
       " 'by',\n",
       " 'poultry,',\n",
       " 'which',\n",
       " 'the',\n",
       " 'Farmer,',\n",
       " 'Death,',\n",
       " 'had',\n",
       " 'already',\n",
       " 'set',\n",
       " 'apart',\n",
       " 'to',\n",
       " 'be',\n",
       " 'his',\n",
       " 'tumbrils',\n",
       " 'of',\n",
       " 'the',\n",
       " 'Revolution.',\n",
       " 'But',\n",
       " 'that',\n",
       " 'Woodman',\n",
       " 'and',\n",
       " 'that',\n",
       " 'Farmer,',\n",
       " 'though',\n",
       " 'they',\n",
       " 'work',\n",
       " 'unceasingly,',\n",
       " 'work',\n",
       " 'silently',\n",
       " 'and',\n",
       " 'no',\n",
       " 'one',\n",
       " 'heard',\n",
       " 'them',\n",
       " 'as',\n",
       " 'they',\n",
       " 'went',\n",
       " 'about',\n",
       " 'with',\n",
       " 'muffled',\n",
       " 'tread:',\n",
       " 'the',\n",
       " 'rather,',\n",
       " 'forasmuch',\n",
       " 'as',\n",
       " 'to',\n",
       " 'entertain',\n",
       " 'any',\n",
       " 'suspicion',\n",
       " 'that',\n",
       " 'they',\n",
       " 'were',\n",
       " 'awake,',\n",
       " 'was',\n",
       " 'to',\n",
       " 'be',\n",
       " 'atheistical',\n",
       " 'and',\n",
       " 'traitorous.',\n",
       " 'In',\n",
       " 'England,',\n",
       " 'there',\n",
       " 'was',\n",
       " 'scarcely',\n",
       " 'an',\n",
       " 'amount',\n",
       " 'of',\n",
       " 'order',\n",
       " 'and',\n",
       " 'protection',\n",
       " 'to',\n",
       " 'justify',\n",
       " 'much',\n",
       " 'national',\n",
       " 'boasting.',\n",
       " 'Daring',\n",
       " 'burglaries',\n",
       " 'by',\n",
       " 'armed',\n",
       " 'men,',\n",
       " 'and',\n",
       " 'highway',\n",
       " 'robberies,',\n",
       " 'took',\n",
       " 'place',\n",
       " 'in',\n",
       " 'the',\n",
       " 'capital',\n",
       " 'itself',\n",
       " 'every',\n",
       " 'night;',\n",
       " 'families',\n",
       " 'were',\n",
       " 'publicly',\n",
       " 'cautioned',\n",
       " 'not',\n",
       " 'to',\n",
       " 'go',\n",
       " 'out',\n",
       " 'of',\n",
       " 'town',\n",
       " 'without',\n",
       " 'removing',\n",
       " 'their',\n",
       " 'furniture',\n",
       " 'to',\n",
       " \"upholsterers'\",\n",
       " 'warehouses',\n",
       " 'for',\n",
       " 'security;',\n",
       " 'the',\n",
       " 'highwayman',\n",
       " 'in',\n",
       " 'the',\n",
       " 'dark',\n",
       " 'was',\n",
       " 'a',\n",
       " 'City',\n",
       " 'tradesman',\n",
       " 'in',\n",
       " 'the',\n",
       " 'light,',\n",
       " 'and,',\n",
       " 'being',\n",
       " 'recognised',\n",
       " 'and',\n",
       " 'challenged',\n",
       " 'by',\n",
       " 'his',\n",
       " 'fellow-tradesman',\n",
       " 'whom',\n",
       " 'he',\n",
       " 'stopped',\n",
       " 'in',\n",
       " 'his',\n",
       " 'character',\n",
       " 'of',\n",
       " '\"the',\n",
       " 'Captain,\"',\n",
       " 'gallantly',\n",
       " 'shot',\n",
       " 'him',\n",
       " 'through',\n",
       " 'the',\n",
       " 'head',\n",
       " 'and',\n",
       " 'rode',\n",
       " 'away;',\n",
       " 'the',\n",
       " 'mail',\n",
       " 'was',\n",
       " 'waylaid',\n",
       " 'by',\n",
       " 'seven',\n",
       " 'robbers,',\n",
       " 'and',\n",
       " 'the',\n",
       " 'guard',\n",
       " 'shot',\n",
       " 'three',\n",
       " 'dead,',\n",
       " 'and',\n",
       " 'then',\n",
       " 'got',\n",
       " 'shot',\n",
       " 'dead',\n",
       " 'himself',\n",
       " 'by',\n",
       " 'the',\n",
       " 'other',\n",
       " 'four,',\n",
       " '\"in',\n",
       " 'consequence',\n",
       " 'of',\n",
       " 'the',\n",
       " 'failure',\n",
       " 'of',\n",
       " 'his',\n",
       " 'ammunition:\"',\n",
       " 'after',\n",
       " 'which',\n",
       " 'the',\n",
       " 'mail',\n",
       " 'was',\n",
       " 'robbed',\n",
       " 'in',\n",
       " 'peace;',\n",
       " 'that',\n",
       " 'magnificent',\n",
       " 'potentate,',\n",
       " 'the',\n",
       " 'Lord',\n",
       " 'Mayor',\n",
       " 'of',\n",
       " 'London,',\n",
       " 'was',\n",
       " 'made',\n",
       " 'to',\n",
       " 'stand',\n",
       " 'and',\n",
       " 'deliver',\n",
       " 'on',\n",
       " 'Turnham',\n",
       " 'Green,',\n",
       " 'by',\n",
       " 'one',\n",
       " 'highwayman,',\n",
       " 'who',\n",
       " 'despoiled',\n",
       " 'the',\n",
       " 'illustrious',\n",
       " 'creature',\n",
       " 'in',\n",
       " 'sight',\n",
       " 'of',\n",
       " 'all',\n",
       " 'his',\n",
       " 'retinue;',\n",
       " 'prisoners',\n",
       " 'in',\n",
       " 'London',\n",
       " 'gaols',\n",
       " 'fought',\n",
       " 'battles',\n",
       " 'with',\n",
       " 'their',\n",
       " 'turkeys,',\n",
       " 'and',\n",
       " 'the',\n",
       " 'majesty',\n",
       " 'of',\n",
       " 'the',\n",
       " 'law',\n",
       " 'fired',\n",
       " 'blunderbusses',\n",
       " 'in',\n",
       " 'among',\n",
       " 'them,',\n",
       " 'loaded',\n",
       " 'with',\n",
       " 'rounds',\n",
       " 'of',\n",
       " 'shot',\n",
       " 'and',\n",
       " 'ball;',\n",
       " 'thieves',\n",
       " 'snipped',\n",
       " 'off',\n",
       " 'diamond',\n",
       " 'crosses',\n",
       " 'from',\n",
       " 'the',\n",
       " 'necks',\n",
       " 'of',\n",
       " 'noble',\n",
       " 'lords',\n",
       " 'at',\n",
       " 'Court',\n",
       " 'drawing-rooms;',\n",
       " 'musketeers',\n",
       " 'went',\n",
       " 'into',\n",
       " 'St.',\n",
       " \"Giles's,\",\n",
       " 'to',\n",
       " 'search',\n",
       " 'for',\n",
       " 'contraband',\n",
       " 'goods,',\n",
       " 'and',\n",
       " 'the',\n",
       " 'mob',\n",
       " 'fired',\n",
       " 'on',\n",
       " 'the',\n",
       " 'musketeers,',\n",
       " 'and',\n",
       " 'the',\n",
       " 'musketeers',\n",
       " 'fir',\n",
       " 'on',\n",
       " 'the',\n",
       " 'mob,',\n",
       " 'and',\n",
       " 'nobody',\n",
       " 'thought',\n",
       " 'any',\n",
       " 'of',\n",
       " 'these',\n",
       " 'occurrences',\n",
       " 'much',\n",
       " 'out',\n",
       " 'of',\n",
       " 'the',\n",
       " 'common',\n",
       " 'way.',\n",
       " 'In',\n",
       " 'the',\n",
       " 'midst',\n",
       " 'of',\n",
       " 'them,',\n",
       " 'the',\n",
       " 'hangman,',\n",
       " 'ever',\n",
       " 'busy',\n",
       " 'and',\n",
       " 'ever',\n",
       " 'worse',\n",
       " 'than',\n",
       " 'useless,',\n",
       " 'was',\n",
       " 'in',\n",
       " 'constant',\n",
       " 'requisition;',\n",
       " 'now,',\n",
       " 'stringing',\n",
       " 'up',\n",
       " 'long',\n",
       " 'rows',\n",
       " 'of',\n",
       " 'miscellaneous',\n",
       " 'criminals;',\n",
       " 'now,',\n",
       " 'hanging',\n",
       " 'a',\n",
       " 'housebreaker',\n",
       " 'on',\n",
       " 'Saturday',\n",
       " 'who',\n",
       " 'had',\n",
       " 'been',\n",
       " 'taken',\n",
       " 'on',\n",
       " 'Tuesday;',\n",
       " 'now,',\n",
       " 'burning',\n",
       " 'people',\n",
       " 'in',\n",
       " 'the',\n",
       " 'hand',\n",
       " 'at',\n",
       " 'Newgate',\n",
       " 'by',\n",
       " 'the',\n",
       " 'dozen,',\n",
       " 'and',\n",
       " 'now',\n",
       " 'burning',\n",
       " 'pamphlets',\n",
       " 'at',\n",
       " 'the',\n",
       " 'door',\n",
       " 'of',\n",
       " 'Westminster',\n",
       " 'Hall;',\n",
       " 'to-day,',\n",
       " 'taking',\n",
       " 'the',\n",
       " 'life',\n",
       " 'of',\n",
       " 'an',\n",
       " 'atrocious',\n",
       " 'murderer,',\n",
       " 'and',\n",
       " 'to-morrow',\n",
       " 'of',\n",
       " 'a',\n",
       " 'wretched',\n",
       " 'pilferer',\n",
       " 'who',\n",
       " 'had',\n",
       " 'robbed',\n",
       " 'a',\n",
       " \"farmer's\",\n",
       " 'boy',\n",
       " 'of',\n",
       " 'sixpence.',\n",
       " 'All',\n",
       " 'these',\n",
       " 'things,',\n",
       " 'and',\n",
       " 'a',\n",
       " 'thousand',\n",
       " 'like',\n",
       " 'them,',\n",
       " 'came',\n",
       " 'to',\n",
       " 'pass',\n",
       " 'in',\n",
       " 'and',\n",
       " 'close',\n",
       " 'upon',\n",
       " 'the',\n",
       " 'dear',\n",
       " 'old',\n",
       " 'year',\n",
       " 'one',\n",
       " 'thousand',\n",
       " 'seven',\n",
       " 'hundred',\n",
       " 'and',\n",
       " 'seventy-five.',\n",
       " 'Environed',\n",
       " 'by',\n",
       " 'them,',\n",
       " 'while',\n",
       " 'the',\n",
       " 'Woodman',\n",
       " 'and',\n",
       " 'the',\n",
       " 'Farmer',\n",
       " 'worked',\n",
       " 'unheeded,',\n",
       " 'those',\n",
       " 'two',\n",
       " 'of',\n",
       " 'the',\n",
       " 'large',\n",
       " 'jaws,',\n",
       " 'and',\n",
       " 'those',\n",
       " 'other',\n",
       " 'two',\n",
       " 'of',\n",
       " 'the',\n",
       " 'plain',\n",
       " 'and',\n",
       " 'the',\n",
       " 'fair',\n",
       " 'faces,',\n",
       " 'trod',\n",
       " 'with',\n",
       " 'stir',\n",
       " 'enough,',\n",
       " 'and',\n",
       " 'carried',\n",
       " 'their',\n",
       " 'divine',\n",
       " 'rights',\n",
       " 'with',\n",
       " 'a',\n",
       " 'high',\n",
       " 'hand.',\n",
       " 'Thus',\n",
       " 'did',\n",
       " 'the',\n",
       " 'year',\n",
       " 'one',\n",
       " 'thousand',\n",
       " 'seven',\n",
       " 'hundred',\n",
       " 'and',\n",
       " 'seventy-five',\n",
       " 'conduct',\n",
       " 'their',\n",
       " 'Greatnesses,',\n",
       " 'and',\n",
       " 'myriads',\n",
       " 'of',\n",
       " 'small',\n",
       " 'creatures-',\n",
       " 'the',\n",
       " 'creatures',\n",
       " 'of',\n",
       " 'this',\n",
       " 'chronicle',\n",
       " 'among',\n",
       " 'the',\n",
       " 'rest-',\n",
       " 'along',\n",
       " 'the',\n",
       " 'roads',\n",
       " ...]"
      ]
     },
     "execution_count": 5,
     "metadata": {},
     "output_type": "execute_result"
    }
   ],
   "source": [
    "words"
   ]
  },
  {
   "cell_type": "code",
   "execution_count": 7,
   "metadata": {},
   "outputs": [
    {
     "data": {
      "text/plain": [
       "[('the', 7363),\n",
       " ('and', 4727),\n",
       " ('of', 3944),\n",
       " ('to', 3398),\n",
       " ('a', 2792),\n",
       " ('in', 2398),\n",
       " ('his', 1918),\n",
       " ('was', 1674),\n",
       " ('that', 1670),\n",
       " ('I', 1472)]"
      ]
     },
     "execution_count": 7,
     "metadata": {},
     "output_type": "execute_result"
    }
   ],
   "source": [
    "from typing import List\n",
    "words: List[str] = open(\"../week1/tale-of-two-cities.txt\").read().split()\n",
    "dickens_counter = Counter(words)\n",
    "dickens_counter"
   ]
  },
  {
   "cell_type": "markdown",
   "metadata": {},
   "source": [
    "You can also quickly use this counter to find the percentage of words in a corpus that belong to a certain word:"
   ]
  },
  {
   "cell_type": "code",
   "execution_count": 21,
   "metadata": {},
   "outputs": [
    {
     "data": {
      "text/plain": [
       "0.054036400998091885"
      ]
     },
     "execution_count": 21,
     "metadata": {},
     "output_type": "execute_result"
    }
   ],
   "source": [
    "dickens_counter[\"the\"] / sum(dickens_counter.values())"
   ]
  },
  {
   "cell_type": "markdown",
   "metadata": {},
   "source": [
    "## Adding Word Counts From Two Distinct Datasets Together"
   ]
  },
  {
   "cell_type": "markdown",
   "metadata": {},
   "source": [
    "We can add two `Counter` objects together to get their combined counts. In this example, we'll load in the `fraudulent_emails.txt` dataset and start a new counter called `email_counter`."
   ]
  },
  {
   "cell_type": "code",
   "execution_count": 9,
   "metadata": {},
   "outputs": [
    {
     "data": {
      "text/plain": [
       "[('the', 141), ('to', 116), ('I', 115), ('of', 80), ('in', 80)]"
      ]
     },
     "execution_count": 9,
     "metadata": {},
     "output_type": "execute_result"
    }
   ],
   "source": [
    "email_counter = Counter(open(\"../week2/fraudulent_emails.txt\").read().split())\n",
    "email_counter.most_common(5)"
   ]
  },
  {
   "cell_type": "code",
   "execution_count": 11,
   "metadata": {},
   "outputs": [
    {
     "data": {
      "text/plain": [
       "[('the', 7504), ('and', 4789), ('of', 4024), ('to', 3514), ('a', 2834)]"
      ]
     },
     "execution_count": 11,
     "metadata": {},
     "output_type": "execute_result"
    }
   ],
   "source": [
    "combined_counter: Counter = dickens_counter + email_counter\n",
    "combined_counter.most_common(5)"
   ]
  },
  {
   "cell_type": "markdown",
   "metadata": {},
   "source": [
    "You can also subtract counts from one dataset:"
   ]
  },
  {
   "cell_type": "code",
   "execution_count": 13,
   "metadata": {},
   "outputs": [
    {
     "data": {
      "text/plain": [
       "[('the', 141), ('to', 116), ('I', 115), ('of', 80), ('in', 80)]"
      ]
     },
     "execution_count": 13,
     "metadata": {},
     "output_type": "execute_result"
    }
   ],
   "source": [
    "# get back the original email_counter\n",
    "(combined_counter - dickens_counter).most_common(5)"
   ]
  },
  {
   "cell_type": "markdown",
   "metadata": {},
   "source": [
    "# Removing Stopwords Using `gensim`\n",
    "\n",
    "Removing stopwords in `nltk` often means you first have to tokenize the document into distinct tokens, then run each token through to check if it is a stopword. Another commonly used NLP library in Python, `gensim`, has a helper function to do this all in one go:"
   ]
  },
  {
   "cell_type": "code",
   "execution_count": 14,
   "metadata": {},
   "outputs": [
    {
     "data": {
      "text/plain": [
       "'Rendered manner desperate, state beckoning conductor, drew neck arm shook shoulder, lifted little, hurried room. He sat door, held her, clinging him.'"
      ]
     },
     "execution_count": 14,
     "metadata": {},
     "output_type": "execute_result"
    }
   ],
   "source": [
    "from gensim.parsing.preprocessing import remove_stopwords\n",
    "\n",
    "text = '''\n",
    "Rendered in a manner desperate, by her state and by the beckoning of their conductor,\n",
    "he drew over his neck the arm that shook upon his shoulder, lifted her a little, and hurried \n",
    "her into the room. He sat her down just within the door, and held her, clinging to him.\n",
    "'''\n",
    "processed_text = remove_stopwords(text)\n",
    "processed_text"
   ]
  },
  {
   "cell_type": "markdown",
   "metadata": {},
   "source": [
    "Note, however, this only works well if you are happy with Gensim's only predefined list of stopwords. To inspect what stopwords are used in Gensim, use\n",
    "```python\n",
    "from gensim.parsing.preprocessing import STOPWORDS\n",
    "print(STOPWORDS)\n",
    "```"
   ]
  },
  {
   "cell_type": "markdown",
   "metadata": {},
   "source": [
    "# Finding Similar Word Matches Using `difflib`"
   ]
  },
  {
   "cell_type": "markdown",
   "metadata": {},
   "source": [
    "Within Python's Standard Library, the `difflib` has a variety of tools for helping identify differences between text and content. It uses an algorithm called the **Ratcliff-Obershelp algorithm**, which is described in brief below:\n",
    "\n",
    "> The idea is to find the longest contiguous matching subsequence that contains no “junk” elements; these “junk” elements are ones that are uninteresting in some sense, such as blank lines or whitespace. (Handling junk is an extension to the Ratcliff and Obershelp algorithm.) The same idea is then applied recursively to the pieces of the sequences to the left and to the right of the matching subsequence. This does not yield minimal edit sequences, but does tend to yield matches that “look right” to people. [Link](https://docs.python.org/3/library/difflib.html)"
   ]
  },
  {
   "cell_type": "code",
   "execution_count": 15,
   "metadata": {},
   "outputs": [],
   "source": [
    "# this loads in the top 20k most popular words in the English language\n",
    "words = set(map(lambda word: word.replace(\"\\n\", \"\"), open(\"20k.txt\").readlines()))"
   ]
  },
  {
   "cell_type": "code",
   "execution_count": 18,
   "metadata": {},
   "outputs": [
    {
     "data": {
      "text/plain": [
       "['knight', 'naughty', 'knights']"
      ]
     },
     "execution_count": 18,
     "metadata": {},
     "output_type": "execute_result"
    }
   ],
   "source": [
    "import difflib\n",
    "\n",
    "w = \"knaght\"\n",
    "difflib.get_close_matches(w, words)"
   ]
  },
  {
   "cell_type": "markdown",
   "metadata": {},
   "source": [
    "You can combine this with a tokenizer to create your own (very basic) spellcheck function:"
   ]
  },
  {
   "cell_type": "code",
   "execution_count": 21,
   "metadata": {},
   "outputs": [
    {
     "data": {
      "text/plain": [
       "'He is a crazy person'"
      ]
     },
     "execution_count": 21,
     "metadata": {},
     "output_type": "execute_result"
    }
   ],
   "source": [
    "from nltk.tokenize import word_tokenize\n",
    "\n",
    "def spellcheck_document(text):\n",
    "    new_tokens = []\n",
    "    for token in word_tokenize(text):\n",
    "        matches = difflib.get_close_matches(token.lower(), words, n=1, cutoff=0.7)\n",
    "        if len(matches) == 0 or token.lower() in words:\n",
    "            new_tokens.append(token)\n",
    "        else:\n",
    "            new_tokens.append(matches[0])\n",
    "    return \" \".join(new_tokens)\n",
    "spellcheck_document(\"He is a craezy perzon\")"
   ]
  },
  {
   "cell_type": "markdown",
   "metadata": {},
   "source": [
    "## Fuzzy Matching"
   ]
  },
  {
   "cell_type": "code",
   "execution_count": null,
   "metadata": {},
   "outputs": [],
   "source": [
    "O(N^2)\n",
    "M = length of the first word\n",
    "N = length of the second word"
   ]
  },
  {
   "cell_type": "markdown",
   "metadata": {},
   "source": [
    "Fuzzy matching refers to \"approximate matching\", where we are allowed a certain degree of error between the query value and the search result. \n",
    "\n",
    "The `fuzzywuzzy` library uses a distance measure called **Levenshtein Distance** which describes the minimum number of operations to transform one string into another.\n",
    "\n",
    "* `cat` $\\rightarrow$ `cat` : `0` distance\n",
    "* `dog` $\\rightarrow$ `door`: `2` distance\n",
    "\n",
    "### Use Cases\n",
    "\n",
    "* spell checking\n",
    "* DNA analysis\n",
    "* authorship/plagiarism detection"
   ]
  },
  {
   "cell_type": "markdown",
   "metadata": {},
   "source": [
    "### Limitations"
   ]
  },
  {
   "cell_type": "markdown",
   "metadata": {},
   "source": [
    "### Slow Performance"
   ]
  },
  {
   "cell_type": "code",
   "execution_count": 22,
   "metadata": {},
   "outputs": [],
   "source": [
    "# this loads in the top 20k most popular words in the English language\n",
    "words = set(map(lambda word: word.replace(\"\\n\", \"\"), open(\"20k.txt\").readlines()))"
   ]
  },
  {
   "cell_type": "code",
   "execution_count": 25,
   "metadata": {},
   "outputs": [
    {
     "name": "stdout",
     "output_type": "stream",
     "text": [
      "0.5930873750000956\n",
      "Best results: [('person', 83), ('pearson', 77), ('verizon', 77), ('persons', 77), ('opteron', 77)]\n"
     ]
    }
   ],
   "source": [
    "from timeit import default_timer as timer\n",
    "from fuzzywuzzy import process\n",
    "from fuzzywuzzy import fuzz\n",
    "target = \"perzon\"\n",
    "\n",
    "\n",
    "start = timer()\n",
    "for i in range(10):\n",
    "    bests = process.extractBests(target, words, scorer=fuzz.ratio)\n",
    "end = timer()\n",
    "print(end - start) # Time in seconds to check 10 words\n",
    "print(f'Best results: {bests}')"
   ]
  },
  {
   "cell_type": "code",
   "execution_count": null,
   "metadata": {},
   "outputs": [],
   "source": [
    "from functools import cache\n",
    "\n",
    "@cache\n",
    "def match_word(target: str)-> str:\n",
    "    return process.extractBests(target, words)"
   ]
  },
  {
   "cell_type": "code",
   "execution_count": 43,
   "metadata": {},
   "outputs": [
    {
     "data": {
      "text/plain": [
       "67"
      ]
     },
     "execution_count": 43,
     "metadata": {},
     "output_type": "execute_result"
    }
   ],
   "source": [
    "fuzz.ratio(\"kerfuffled\", \"ruled\")"
   ]
  },
  {
   "cell_type": "markdown",
   "metadata": {},
   "source": [
    "### Not \"Language Aware\""
   ]
  },
  {
   "cell_type": "markdown",
   "metadata": {},
   "source": [
    "> Comparing the classification proposed by the Levenshtein distance to that of the comparative method shows that the Levenshtein classification is correct only 40% of time. Standardizing the orthography increases the performance, but only to a maximum of 65% accuracy within language subgroups. The accuracy of the Levenshtein classification **decreases rapidly with phylogenetic distance**, failing to discriminate homology and chance similarity across distantly related languages.This poor performance suggests the need for more linguistically nuanced methods for automated language classification tasks.\n",
    "\n",
    "[\"Levenshtein distances fail to identify language relationships accurately\" by Simon Greenhill](https://dl.acm.org/doi/10.1162/COLI_a_00073)"
   ]
  },
  {
   "cell_type": "markdown",
   "metadata": {},
   "source": [
    "## Install the Dependencies if Necessary\n",
    "```python\n",
    "!pip3 install fuzzywuzzy\n",
    "!pip3 install python-Levenshtein\n",
    "```"
   ]
  },
  {
   "cell_type": "code",
   "execution_count": 1,
   "metadata": {},
   "outputs": [],
   "source": [
    "from fuzzywuzzy import fuzz"
   ]
  },
  {
   "cell_type": "code",
   "execution_count": 7,
   "metadata": {},
   "outputs": [
    {
     "data": {
      "text/plain": [
       "36"
      ]
     },
     "execution_count": 7,
     "metadata": {},
     "output_type": "execute_result"
    }
   ],
   "source": [
    "fuzz.ratio(\"cat\", \"saturday\")"
   ]
  },
  {
   "cell_type": "code",
   "execution_count": 8,
   "metadata": {},
   "outputs": [
    {
     "data": {
      "text/plain": [
       "0"
      ]
     },
     "execution_count": 8,
     "metadata": {},
     "output_type": "execute_result"
    }
   ],
   "source": [
    "fuzz.ratio(\"dog\", \"cat\")"
   ]
  },
  {
   "cell_type": "code",
   "execution_count": 9,
   "metadata": {},
   "outputs": [
    {
     "data": {
      "text/plain": [
       "67"
      ]
     },
     "execution_count": 9,
     "metadata": {},
     "output_type": "execute_result"
    }
   ],
   "source": [
    "fuzz.ratio(\"dog\", \"hog\")"
   ]
  },
  {
   "cell_type": "code",
   "execution_count": 20,
   "metadata": {},
   "outputs": [
    {
     "data": {
      "text/plain": [
       "62"
      ]
     },
     "execution_count": 20,
     "metadata": {},
     "output_type": "execute_result"
    }
   ],
   "source": [
    "fuzz.ratio(\"smithy\", \"smithfield\")"
   ]
  },
  {
   "cell_type": "code",
   "execution_count": 23,
   "metadata": {},
   "outputs": [
    {
     "data": {
      "text/plain": [
       "62"
      ]
     },
     "execution_count": 23,
     "metadata": {},
     "output_type": "execute_result"
    }
   ],
   "source": [
    "# is it symmetric?\n",
    "fuzz.ratio(\"smithfield\", \"smithy\")"
   ]
  },
  {
   "cell_type": "code",
   "execution_count": 24,
   "metadata": {},
   "outputs": [
    {
     "data": {
      "text/plain": [
       "86"
      ]
     },
     "execution_count": 24,
     "metadata": {},
     "output_type": "execute_result"
    }
   ],
   "source": [
    "fuzz.ratio(\"photosynthesis\", \"photosynthetic\")"
   ]
  },
  {
   "cell_type": "code",
   "execution_count": 25,
   "metadata": {},
   "outputs": [
    {
     "data": {
      "text/plain": [
       "79"
      ]
     },
     "execution_count": 25,
     "metadata": {},
     "output_type": "execute_result"
    }
   ],
   "source": [
    "# does case matter?\n",
    "fuzz.ratio(\"Photosynthesis\", \"photosynthetic\")"
   ]
  },
  {
   "cell_type": "code",
   "execution_count": 26,
   "metadata": {},
   "outputs": [
    {
     "data": {
      "text/plain": [
       "67"
      ]
     },
     "execution_count": 26,
     "metadata": {},
     "output_type": "execute_result"
    }
   ],
   "source": [
    "# what happens if you arbitrarily increase the size of the strings?\n",
    "\n",
    "fuzz.ratio(\"dog\" * 3, \"hog\" * 3)"
   ]
  },
  {
   "cell_type": "markdown",
   "metadata": {},
   "source": [
    "### Token Set Ratio (following examples from `fuzzywuzzy`'s documentation)"
   ]
  },
  {
   "cell_type": "code",
   "execution_count": 44,
   "metadata": {},
   "outputs": [
    {
     "name": "stdout",
     "output_type": "stream",
     "text": [
      "84\n",
      "100\n"
     ]
    }
   ],
   "source": [
    "print(fuzz.token_sort_ratio(\"fuzzy was a bear\", \"fuzzy fuzzy was a bear\"))\n",
    "print(fuzz.token_set_ratio(\"fuzzy was a bear\", \"fuzzy fuzzy was a bear\"))"
   ]
  },
  {
   "cell_type": "markdown",
   "metadata": {},
   "source": [
    "### Token Set Ratio"
   ]
  },
  {
   "cell_type": "code",
   "execution_count": 46,
   "metadata": {
    "scrolled": true
   },
   "outputs": [
    {
     "name": "stdout",
     "output_type": "stream",
     "text": [
      "91\n",
      "100\n"
     ]
    }
   ],
   "source": [
    "print(fuzz.ratio(\"fuzzy wuzzy was a bear\", \"wuzzy fuzzy was a bear\"))\n",
    "print(fuzz.token_sort_ratio(\"fuzzy wuzzy was a bear\", \"wuzzy fuzzy was a bear\"))"
   ]
  },
  {
   "cell_type": "code",
   "execution_count": null,
   "metadata": {},
   "outputs": [],
   "source": [
    "COME BACK AT 7:57"
   ]
  }
 ],
 "metadata": {
  "kernelspec": {
   "display_name": "Python 3",
   "language": "python",
   "name": "python3"
  },
  "language_info": {
   "codemirror_mode": {
    "name": "ipython",
    "version": 3
   },
   "file_extension": ".py",
   "mimetype": "text/x-python",
   "name": "python",
   "nbconvert_exporter": "python",
   "pygments_lexer": "ipython3",
   "version": "3.8.5"
  },
  "toc": {
   "base_numbering": 1,
   "nav_menu": {},
   "number_sections": true,
   "sideBar": false,
   "skip_h1_title": false,
   "title_cell": "Table of Contents",
   "title_sidebar": "Contents",
   "toc_cell": true,
   "toc_position": {
    "height": "126.52px",
    "left": "1460.98px",
    "top": "197.952px",
    "width": "165px"
   },
   "toc_section_display": true,
   "toc_window_display": true
  }
 },
 "nbformat": 4,
 "nbformat_minor": 4
}
