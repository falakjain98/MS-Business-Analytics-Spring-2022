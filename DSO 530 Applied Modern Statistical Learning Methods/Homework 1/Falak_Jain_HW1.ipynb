{
 "cells": [
  {
   "cell_type": "markdown",
   "id": "75a84752",
   "metadata": {},
   "source": [
    "HW1 - Falak Jain"
   ]
  },
  {
   "cell_type": "code",
   "execution_count": 16,
   "id": "eebfdb38",
   "metadata": {},
   "outputs": [],
   "source": [
    "import pandas as pd\n",
    "import numpy as np\n",
    "from sklearn.preprocessing import MinMaxScaler\n",
    "from sklearn.linear_model import LinearRegression\n",
    "import statsmodels.api as sm"
   ]
  },
  {
   "cell_type": "markdown",
   "id": "23980ae8",
   "metadata": {},
   "source": [
    "1.\n",
    "\n",
    "(i) Yes\n",
    "\n",
    "(ii) 4 hours per week on average\n",
    "\n",
    "(iii) Yes"
   ]
  },
  {
   "cell_type": "markdown",
   "id": "cd7175b3",
   "metadata": {},
   "source": [
    "2. "
   ]
  },
  {
   "cell_type": "markdown",
   "id": "db6f190d",
   "metadata": {},
   "source": [
    "Model: log y = 1 + 70 log x\n",
    "\n",
    "- This implies that for a 1% increase in x, there is a roughly 101% increase in y\n",
    "\n",
    "- If x changes: the regression equation is 1 + 70 log(x_new)\n",
    "\n",
    "- Old equation : log(y_old) = 1 + 70log(x_old)\n",
    "\n",
    "Interpretation:\n",
    "\n",
    "- log(y_new) = 1 + 70log(x_new)\n",
    "\n",
    "- Subtracting the old and new equations we get,\n",
    "\n",
    "- log(y_new) - log(y_old) = 70log(x_new) - 70log(x_old)\n",
    "\n",
    "- log(y_new/y_old) = 70log(x_new/x_old)\n",
    "\n",
    "- y_new/y_old = (x_new/x_old)^70\n",
    "\n",
    "- Therefore, if there is a 1% increase in x,\n",
    "\n",
    "- y_new/y_old = 1.01^70 = 2.01\n",
    "\n",
    "Therefore there is an increase of 101% in y"
   ]
  },
  {
   "cell_type": "markdown",
   "id": "cbec196a",
   "metadata": {},
   "source": [
    "3. "
   ]
  },
  {
   "cell_type": "code",
   "execution_count": 4,
   "id": "2e8b47b8",
   "metadata": {},
   "outputs": [
    {
     "data": {
      "text/html": [
       "<div>\n",
       "<style scoped>\n",
       "    .dataframe tbody tr th:only-of-type {\n",
       "        vertical-align: middle;\n",
       "    }\n",
       "\n",
       "    .dataframe tbody tr th {\n",
       "        vertical-align: top;\n",
       "    }\n",
       "\n",
       "    .dataframe thead th {\n",
       "        text-align: right;\n",
       "    }\n",
       "</style>\n",
       "<table border=\"1\" class=\"dataframe\">\n",
       "  <thead>\n",
       "    <tr style=\"text-align: right;\">\n",
       "      <th></th>\n",
       "      <th>crim</th>\n",
       "      <th>zn</th>\n",
       "      <th>river</th>\n",
       "      <th>rm</th>\n",
       "      <th>ptratio</th>\n",
       "      <th>medv</th>\n",
       "    </tr>\n",
       "  </thead>\n",
       "  <tbody>\n",
       "    <tr>\n",
       "      <th>0</th>\n",
       "      <td>0.00632</td>\n",
       "      <td>18.0</td>\n",
       "      <td>0</td>\n",
       "      <td>6.575</td>\n",
       "      <td>15.3</td>\n",
       "      <td>24.0</td>\n",
       "    </tr>\n",
       "    <tr>\n",
       "      <th>1</th>\n",
       "      <td>0.02731</td>\n",
       "      <td>0.0</td>\n",
       "      <td>0</td>\n",
       "      <td>6.421</td>\n",
       "      <td>17.8</td>\n",
       "      <td>21.6</td>\n",
       "    </tr>\n",
       "    <tr>\n",
       "      <th>2</th>\n",
       "      <td>0.02729</td>\n",
       "      <td>0.0</td>\n",
       "      <td>0</td>\n",
       "      <td>7.185</td>\n",
       "      <td>17.8</td>\n",
       "      <td>34.7</td>\n",
       "    </tr>\n",
       "    <tr>\n",
       "      <th>3</th>\n",
       "      <td>0.03237</td>\n",
       "      <td>0.0</td>\n",
       "      <td>0</td>\n",
       "      <td>6.998</td>\n",
       "      <td>18.7</td>\n",
       "      <td>33.4</td>\n",
       "    </tr>\n",
       "    <tr>\n",
       "      <th>4</th>\n",
       "      <td>0.06905</td>\n",
       "      <td>0.0</td>\n",
       "      <td>0</td>\n",
       "      <td>7.147</td>\n",
       "      <td>18.7</td>\n",
       "      <td>36.2</td>\n",
       "    </tr>\n",
       "  </tbody>\n",
       "</table>\n",
       "</div>"
      ],
      "text/plain": [
       "      crim    zn  river     rm  ptratio  medv\n",
       "0  0.00632  18.0      0  6.575     15.3  24.0\n",
       "1  0.02731   0.0      0  6.421     17.8  21.6\n",
       "2  0.02729   0.0      0  7.185     17.8  34.7\n",
       "3  0.03237   0.0      0  6.998     18.7  33.4\n",
       "4  0.06905   0.0      0  7.147     18.7  36.2"
      ]
     },
     "execution_count": 4,
     "metadata": {},
     "output_type": "execute_result"
    }
   ],
   "source": [
    "housing = pd.read_csv('housing.csv')\n",
    "housing.head()"
   ]
  },
  {
   "cell_type": "code",
   "execution_count": 3,
   "id": "676a107e",
   "metadata": {},
   "outputs": [],
   "source": [
    "mms = MinMaxScaler()\n",
    "X = mms.fit_transform(X)"
   ]
  },
  {
   "cell_type": "markdown",
   "id": "d56df649",
   "metadata": {},
   "source": [
    "Before Min Max Scaling"
   ]
  },
  {
   "cell_type": "code",
   "execution_count": 5,
   "id": "53f87354",
   "metadata": {},
   "outputs": [],
   "source": [
    "X = housing[['ptratio','rm']].values\n",
    "y = housing['medv'].values"
   ]
  },
  {
   "cell_type": "code",
   "execution_count": 11,
   "id": "ca264dfe",
   "metadata": {},
   "outputs": [
    {
     "name": "stdout",
     "output_type": "stream",
     "text": [
      "Coefficient of determination:  0.5612534621272917\n"
     ]
    }
   ],
   "source": [
    "linear_model = LinearRegression()\n",
    "linear_model.fit(X,y)\n",
    "r_sq = linear_model.score(X,y)\n",
    "print('Coefficient of determination: ', r_sq)\n"
   ]
  },
  {
   "cell_type": "markdown",
   "id": "9806d635",
   "metadata": {},
   "source": [
    "After Min Max Scaling"
   ]
  },
  {
   "cell_type": "code",
   "execution_count": 12,
   "id": "67e2f9b7",
   "metadata": {},
   "outputs": [
    {
     "data": {
      "text/html": [
       "<div>\n",
       "<style scoped>\n",
       "    .dataframe tbody tr th:only-of-type {\n",
       "        vertical-align: middle;\n",
       "    }\n",
       "\n",
       "    .dataframe tbody tr th {\n",
       "        vertical-align: top;\n",
       "    }\n",
       "\n",
       "    .dataframe thead th {\n",
       "        text-align: right;\n",
       "    }\n",
       "</style>\n",
       "<table border=\"1\" class=\"dataframe\">\n",
       "  <thead>\n",
       "    <tr style=\"text-align: right;\">\n",
       "      <th></th>\n",
       "      <th>ptratio</th>\n",
       "      <th>rm</th>\n",
       "    </tr>\n",
       "  </thead>\n",
       "  <tbody>\n",
       "    <tr>\n",
       "      <th>0</th>\n",
       "      <td>0.287234</td>\n",
       "      <td>0.577505</td>\n",
       "    </tr>\n",
       "    <tr>\n",
       "      <th>1</th>\n",
       "      <td>0.553191</td>\n",
       "      <td>0.547998</td>\n",
       "    </tr>\n",
       "    <tr>\n",
       "      <th>2</th>\n",
       "      <td>0.553191</td>\n",
       "      <td>0.694386</td>\n",
       "    </tr>\n",
       "    <tr>\n",
       "      <th>3</th>\n",
       "      <td>0.648936</td>\n",
       "      <td>0.658555</td>\n",
       "    </tr>\n",
       "    <tr>\n",
       "      <th>4</th>\n",
       "      <td>0.648936</td>\n",
       "      <td>0.687105</td>\n",
       "    </tr>\n",
       "    <tr>\n",
       "      <th>...</th>\n",
       "      <td>...</td>\n",
       "      <td>...</td>\n",
       "    </tr>\n",
       "    <tr>\n",
       "      <th>501</th>\n",
       "      <td>0.893617</td>\n",
       "      <td>0.580954</td>\n",
       "    </tr>\n",
       "    <tr>\n",
       "      <th>502</th>\n",
       "      <td>0.893617</td>\n",
       "      <td>0.490324</td>\n",
       "    </tr>\n",
       "    <tr>\n",
       "      <th>503</th>\n",
       "      <td>0.893617</td>\n",
       "      <td>0.654340</td>\n",
       "    </tr>\n",
       "    <tr>\n",
       "      <th>504</th>\n",
       "      <td>0.893617</td>\n",
       "      <td>0.619467</td>\n",
       "    </tr>\n",
       "    <tr>\n",
       "      <th>505</th>\n",
       "      <td>0.893617</td>\n",
       "      <td>0.473079</td>\n",
       "    </tr>\n",
       "  </tbody>\n",
       "</table>\n",
       "<p>506 rows × 2 columns</p>\n",
       "</div>"
      ],
      "text/plain": [
       "      ptratio        rm\n",
       "0    0.287234  0.577505\n",
       "1    0.553191  0.547998\n",
       "2    0.553191  0.694386\n",
       "3    0.648936  0.658555\n",
       "4    0.648936  0.687105\n",
       "..        ...       ...\n",
       "501  0.893617  0.580954\n",
       "502  0.893617  0.490324\n",
       "503  0.893617  0.654340\n",
       "504  0.893617  0.619467\n",
       "505  0.893617  0.473079\n",
       "\n",
       "[506 rows x 2 columns]"
      ]
     },
     "execution_count": 12,
     "metadata": {},
     "output_type": "execute_result"
    }
   ],
   "source": [
    "X = housing[['ptratio','rm']].values.astype(float)\n",
    "y = housing['medv'].values\n",
    "mms = MinMaxScaler()\n",
    "X_scaled = mms.fit_transform(X)\n",
    "X_norm = pd.DataFrame(X_scaled,columns = ['ptratio','rm'])\n",
    "X_norm"
   ]
  },
  {
   "cell_type": "code",
   "execution_count": 14,
   "id": "0776b2ff",
   "metadata": {},
   "outputs": [
    {
     "name": "stdout",
     "output_type": "stream",
     "text": [
      "Coefficient of determination:  0.5612534621272917\n"
     ]
    }
   ],
   "source": [
    "linear_model = LinearRegression()\n",
    "X_norm_values = X_norm[['ptratio','rm']].values\n",
    "linear_model.fit(X_norm_values,y)\n",
    "r_sq = linear_model.score(X_norm_values,y)\n",
    "print('Coefficient of determination: ', r_sq)"
   ]
  },
  {
   "cell_type": "markdown",
   "id": "fb6906b2",
   "metadata": {},
   "source": [
    "We get the same R-sq value as Lecture 2b"
   ]
  },
  {
   "cell_type": "markdown",
   "id": "c6257d94",
   "metadata": {},
   "source": [
    "4."
   ]
  },
  {
   "cell_type": "code",
   "execution_count": 5,
   "id": "2b960b6e",
   "metadata": {},
   "outputs": [
    {
     "data": {
      "text/html": [
       "<table class=\"simpletable\">\n",
       "<caption>OLS Regression Results</caption>\n",
       "<tr>\n",
       "  <th>Dep. Variable:</th>            <td>y</td>        <th>  R-squared:         </th> <td>   0.170</td>\n",
       "</tr>\n",
       "<tr>\n",
       "  <th>Model:</th>                   <td>OLS</td>       <th>  Adj. R-squared:    </th> <td>   0.161</td>\n",
       "</tr>\n",
       "<tr>\n",
       "  <th>Method:</th>             <td>Least Squares</td>  <th>  F-statistic:       </th> <td>   20.43</td>\n",
       "</tr>\n",
       "<tr>\n",
       "  <th>Date:</th>             <td>Sun, 30 Jan 2022</td> <th>  Prob (F-statistic):</th> <td>1.41e-18</td>\n",
       "</tr>\n",
       "<tr>\n",
       "  <th>Time:</th>                 <td>19:13:20</td>     <th>  Log-Likelihood:    </th> <td> -1759.3</td>\n",
       "</tr>\n",
       "<tr>\n",
       "  <th>No. Observations:</th>      <td>   506</td>      <th>  AIC:               </th> <td>   3531.</td>\n",
       "</tr>\n",
       "<tr>\n",
       "  <th>Df Residuals:</th>          <td>   500</td>      <th>  BIC:               </th> <td>   3556.</td>\n",
       "</tr>\n",
       "<tr>\n",
       "  <th>Df Model:</th>              <td>     5</td>      <th>                     </th>     <td> </td>   \n",
       "</tr>\n",
       "<tr>\n",
       "  <th>Covariance Type:</th>      <td>nonrobust</td>    <th>                     </th>     <td> </td>   \n",
       "</tr>\n",
       "</table>\n",
       "<table class=\"simpletable\">\n",
       "<tr>\n",
       "    <td></td>       <th>coef</th>     <th>std err</th>      <th>t</th>      <th>P>|t|</th>  <th>[0.025</th>    <th>0.975]</th>  \n",
       "</tr>\n",
       "<tr>\n",
       "  <th>const</th> <td>   -4.3579</td> <td>    5.449</td> <td>   -0.800</td> <td> 0.424</td> <td>  -15.064</td> <td>    6.348</td>\n",
       "</tr>\n",
       "<tr>\n",
       "  <th>x1</th>    <td>   -0.0178</td> <td>    0.017</td> <td>   -1.054</td> <td> 0.293</td> <td>   -0.051</td> <td>    0.015</td>\n",
       "</tr>\n",
       "<tr>\n",
       "  <th>x2</th>    <td>    0.4869</td> <td>    1.415</td> <td>    0.344</td> <td> 0.731</td> <td>   -2.294</td> <td>    3.268</td>\n",
       "</tr>\n",
       "<tr>\n",
       "  <th>x3</th>    <td>    1.2903</td> <td>    0.698</td> <td>    1.850</td> <td> 0.065</td> <td>   -0.080</td> <td>    2.661</td>\n",
       "</tr>\n",
       "<tr>\n",
       "  <th>x4</th>    <td>    0.4466</td> <td>    0.195</td> <td>    2.288</td> <td> 0.023</td> <td>    0.063</td> <td>    0.830</td>\n",
       "</tr>\n",
       "<tr>\n",
       "  <th>x5</th>    <td>   -0.3644</td> <td>    0.058</td> <td>   -6.237</td> <td> 0.000</td> <td>   -0.479</td> <td>   -0.250</td>\n",
       "</tr>\n",
       "</table>\n",
       "<table class=\"simpletable\">\n",
       "<tr>\n",
       "  <th>Omnibus:</th>       <td>557.602</td> <th>  Durbin-Watson:     </th> <td>   1.009</td> \n",
       "</tr>\n",
       "<tr>\n",
       "  <th>Prob(Omnibus):</th> <td> 0.000</td>  <th>  Jarque-Bera (JB):  </th> <td>32052.496</td>\n",
       "</tr>\n",
       "<tr>\n",
       "  <th>Skew:</th>          <td> 5.097</td>  <th>  Prob(JB):          </th> <td>    0.00</td> \n",
       "</tr>\n",
       "<tr>\n",
       "  <th>Kurtosis:</th>      <td>40.635</td>  <th>  Cond. No.          </th> <td>    544.</td> \n",
       "</tr>\n",
       "</table><br/><br/>Notes:<br/>[1] Standard Errors assume that the covariance matrix of the errors is correctly specified."
      ],
      "text/plain": [
       "<class 'statsmodels.iolib.summary.Summary'>\n",
       "\"\"\"\n",
       "                            OLS Regression Results                            \n",
       "==============================================================================\n",
       "Dep. Variable:                      y   R-squared:                       0.170\n",
       "Model:                            OLS   Adj. R-squared:                  0.161\n",
       "Method:                 Least Squares   F-statistic:                     20.43\n",
       "Date:                Sun, 30 Jan 2022   Prob (F-statistic):           1.41e-18\n",
       "Time:                        19:13:20   Log-Likelihood:                -1759.3\n",
       "No. Observations:                 506   AIC:                             3531.\n",
       "Df Residuals:                     500   BIC:                             3556.\n",
       "Df Model:                           5                                         \n",
       "Covariance Type:            nonrobust                                         \n",
       "==============================================================================\n",
       "                 coef    std err          t      P>|t|      [0.025      0.975]\n",
       "------------------------------------------------------------------------------\n",
       "const         -4.3579      5.449     -0.800      0.424     -15.064       6.348\n",
       "x1            -0.0178      0.017     -1.054      0.293      -0.051       0.015\n",
       "x2             0.4869      1.415      0.344      0.731      -2.294       3.268\n",
       "x3             1.2903      0.698      1.850      0.065      -0.080       2.661\n",
       "x4             0.4466      0.195      2.288      0.023       0.063       0.830\n",
       "x5            -0.3644      0.058     -6.237      0.000      -0.479      -0.250\n",
       "==============================================================================\n",
       "Omnibus:                      557.602   Durbin-Watson:                   1.009\n",
       "Prob(Omnibus):                  0.000   Jarque-Bera (JB):            32052.496\n",
       "Skew:                           5.097   Prob(JB):                         0.00\n",
       "Kurtosis:                      40.635   Cond. No.                         544.\n",
       "==============================================================================\n",
       "\n",
       "Notes:\n",
       "[1] Standard Errors assume that the covariance matrix of the errors is correctly specified.\n",
       "\"\"\""
      ]
     },
     "execution_count": 5,
     "metadata": {},
     "output_type": "execute_result"
    }
   ],
   "source": [
    "import statsmodels.api as sm\n",
    "X = sm.add_constant(housing[['zn','river','rm','ptratio','medv']].values)\n",
    "y = housing['crim'].values\n",
    "ols = sm.OLS(y,X)\n",
    "ols_result = ols.fit()\n",
    "ols_result.summary()"
   ]
  },
  {
   "cell_type": "markdown",
   "id": "0b3e57df",
   "metadata": {},
   "source": [
    "- R-sq = 0.17, adj-R-sq = 0.161\n",
    "- We can reject the null for ptratio and medv predictors"
   ]
  },
  {
   "cell_type": "code",
   "execution_count": 6,
   "id": "bd1d3494",
   "metadata": {},
   "outputs": [
    {
     "data": {
      "text/html": [
       "<table class=\"simpletable\">\n",
       "<caption>OLS Regression Results</caption>\n",
       "<tr>\n",
       "  <th>Dep. Variable:</th>            <td>y</td>        <th>  R-squared:         </th> <td>   0.162</td>\n",
       "</tr>\n",
       "<tr>\n",
       "  <th>Model:</th>                   <td>OLS</td>       <th>  Adj. R-squared:    </th> <td>   0.159</td>\n",
       "</tr>\n",
       "<tr>\n",
       "  <th>Method:</th>             <td>Least Squares</td>  <th>  F-statistic:       </th> <td>   48.75</td>\n",
       "</tr>\n",
       "<tr>\n",
       "  <th>Date:</th>             <td>Sun, 30 Jan 2022</td> <th>  Prob (F-statistic):</th> <td>4.43e-20</td>\n",
       "</tr>\n",
       "<tr>\n",
       "  <th>Time:</th>                 <td>19:13:20</td>     <th>  Log-Likelihood:    </th> <td> -1761.5</td>\n",
       "</tr>\n",
       "<tr>\n",
       "  <th>No. Observations:</th>      <td>   506</td>      <th>  AIC:               </th> <td>   3529.</td>\n",
       "</tr>\n",
       "<tr>\n",
       "  <th>Df Residuals:</th>          <td>   503</td>      <th>  BIC:               </th> <td>   3542.</td>\n",
       "</tr>\n",
       "<tr>\n",
       "  <th>Df Model:</th>              <td>     2</td>      <th>                     </th>     <td> </td>   \n",
       "</tr>\n",
       "<tr>\n",
       "  <th>Covariance Type:</th>      <td>nonrobust</td>    <th>                     </th>     <td> </td>   \n",
       "</tr>\n",
       "</table>\n",
       "<table class=\"simpletable\">\n",
       "<tr>\n",
       "    <td></td>       <th>coef</th>     <th>std err</th>      <th>t</th>      <th>P>|t|</th>  <th>[0.025</th>    <th>0.975]</th>  \n",
       "</tr>\n",
       "<tr>\n",
       "  <th>const</th> <td>    1.2931</td> <td>    4.087</td> <td>    0.316</td> <td> 0.752</td> <td>   -6.737</td> <td>    9.323</td>\n",
       "</tr>\n",
       "<tr>\n",
       "  <th>x1</th>    <td>    0.4966</td> <td>    0.188</td> <td>    2.639</td> <td> 0.009</td> <td>    0.127</td> <td>    0.866</td>\n",
       "</tr>\n",
       "<tr>\n",
       "  <th>x2</th>    <td>   -0.3038</td> <td>    0.044</td> <td>   -6.857</td> <td> 0.000</td> <td>   -0.391</td> <td>   -0.217</td>\n",
       "</tr>\n",
       "</table>\n",
       "<table class=\"simpletable\">\n",
       "<tr>\n",
       "  <th>Omnibus:</th>       <td>562.630</td> <th>  Durbin-Watson:     </th> <td>   0.998</td> \n",
       "</tr>\n",
       "<tr>\n",
       "  <th>Prob(Omnibus):</th> <td> 0.000</td>  <th>  Jarque-Bera (JB):  </th> <td>34204.153</td>\n",
       "</tr>\n",
       "<tr>\n",
       "  <th>Skew:</th>          <td> 5.151</td>  <th>  Prob(JB):          </th> <td>    0.00</td> \n",
       "</tr>\n",
       "<tr>\n",
       "  <th>Kurtosis:</th>      <td>41.939</td>  <th>  Cond. No.          </th> <td>    349.</td> \n",
       "</tr>\n",
       "</table><br/><br/>Notes:<br/>[1] Standard Errors assume that the covariance matrix of the errors is correctly specified."
      ],
      "text/plain": [
       "<class 'statsmodels.iolib.summary.Summary'>\n",
       "\"\"\"\n",
       "                            OLS Regression Results                            \n",
       "==============================================================================\n",
       "Dep. Variable:                      y   R-squared:                       0.162\n",
       "Model:                            OLS   Adj. R-squared:                  0.159\n",
       "Method:                 Least Squares   F-statistic:                     48.75\n",
       "Date:                Sun, 30 Jan 2022   Prob (F-statistic):           4.43e-20\n",
       "Time:                        19:13:20   Log-Likelihood:                -1761.5\n",
       "No. Observations:                 506   AIC:                             3529.\n",
       "Df Residuals:                     503   BIC:                             3542.\n",
       "Df Model:                           2                                         \n",
       "Covariance Type:            nonrobust                                         \n",
       "==============================================================================\n",
       "                 coef    std err          t      P>|t|      [0.025      0.975]\n",
       "------------------------------------------------------------------------------\n",
       "const          1.2931      4.087      0.316      0.752      -6.737       9.323\n",
       "x1             0.4966      0.188      2.639      0.009       0.127       0.866\n",
       "x2            -0.3038      0.044     -6.857      0.000      -0.391      -0.217\n",
       "==============================================================================\n",
       "Omnibus:                      562.630   Durbin-Watson:                   0.998\n",
       "Prob(Omnibus):                  0.000   Jarque-Bera (JB):            34204.153\n",
       "Skew:                           5.151   Prob(JB):                         0.00\n",
       "Kurtosis:                      41.939   Cond. No.                         349.\n",
       "==============================================================================\n",
       "\n",
       "Notes:\n",
       "[1] Standard Errors assume that the covariance matrix of the errors is correctly specified.\n",
       "\"\"\""
      ]
     },
     "execution_count": 6,
     "metadata": {},
     "output_type": "execute_result"
    }
   ],
   "source": [
    "import statsmodels.api as sm\n",
    "X = sm.add_constant(housing[['ptratio','medv']].values)\n",
    "y = housing['crim'].values\n",
    "ols = sm.OLS(y,X)\n",
    "ols_result = ols.fit()\n",
    "ols_result.summary()"
   ]
  },
  {
   "cell_type": "markdown",
   "id": "86f6f9f9",
   "metadata": {},
   "source": [
    "Interpretation of slopes:\n",
    "\n",
    "- For every one unit increase in pupil teacher ratio, the crime rate increases by 0.4966 crimes per capita\n",
    "\n",
    "- For every one thousand dollar increase in the median home price in a neighborhood, the crime rate reduces by 0.3038 crimes per capita"
   ]
  },
  {
   "cell_type": "markdown",
   "id": "92118beb",
   "metadata": {},
   "source": [
    "5."
   ]
  },
  {
   "cell_type": "code",
   "execution_count": 7,
   "id": "0e960436",
   "metadata": {},
   "outputs": [],
   "source": [
    "from sklearn.model_selection import train_test_split\n",
    "X,y = housing[['river','rm']].values,housing.iloc[:,-1].values\n",
    "X_train, X_test, y_train, y_test = train_test_split(X,y,test_size = 0.3,random_state = 2)"
   ]
  },
  {
   "cell_type": "code",
   "execution_count": 8,
   "id": "36e7920b",
   "metadata": {},
   "outputs": [
    {
     "name": "stdout",
     "output_type": "stream",
     "text": [
      "In-Sample Coefficient of determination:  0.4652498065943518\n",
      "Out-of-Sample Coefficient of determination:  0.5582472793500367\n"
     ]
    }
   ],
   "source": [
    "linear_model = LinearRegression()\n",
    "linear_model.fit(X_train,y_train)\n",
    "r_sq = linear_model.score(X_train,y_train)\n",
    "print('In-Sample Coefficient of determination: ', r_sq)\n",
    "r_sq = linear_model.score(X_test,y_test)\n",
    "print('Out-of-Sample Coefficient of determination: ', r_sq)"
   ]
  }
 ],
 "metadata": {
  "kernelspec": {
   "display_name": "Python 3 (ipykernel)",
   "language": "python",
   "name": "python3"
  },
  "language_info": {
   "codemirror_mode": {
    "name": "ipython",
    "version": 3
   },
   "file_extension": ".py",
   "mimetype": "text/x-python",
   "name": "python",
   "nbconvert_exporter": "python",
   "pygments_lexer": "ipython3",
   "version": "3.8.8"
  }
 },
 "nbformat": 4,
 "nbformat_minor": 5
}
