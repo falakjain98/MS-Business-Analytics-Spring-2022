{
 "cells": [
  {
   "cell_type": "code",
   "execution_count": 1,
   "id": "4417b82e",
   "metadata": {},
   "outputs": [],
   "source": [
    "import pandas as pd\n",
    "from sklearn.preprocessing import normalize\n",
    "from sklearn.linear_model import LinearRegression\n",
    "import numpy as np\n",
    "from sklearn.model_selection import train_test_split"
   ]
  },
  {
   "cell_type": "code",
   "execution_count": 5,
   "id": "e5139136",
   "metadata": {},
   "outputs": [
    {
     "data": {
      "text/plain": [
       "array([[ 0.25, -0.25,  0.5 ],\n",
       "       [ 1.  ,  0.  ,  0.  ],\n",
       "       [ 0.  ,  0.5 , -0.5 ]])"
      ]
     },
     "execution_count": 5,
     "metadata": {},
     "output_type": "execute_result"
    }
   ],
   "source": [
    "# l1 normalization - absolute value normalization\n",
    "X = [[ 1., -1., 2.],\n",
    "    [ 2., 0., 0.],\n",
    "    [ 0., 1., -1.]]\n",
    "X_normalized_1 = normalize(X,norm = 'l1')\n",
    "X_normalized_1"
   ]
  },
  {
   "cell_type": "code",
   "execution_count": 6,
   "id": "8c873dc7",
   "metadata": {},
   "outputs": [
    {
     "data": {
      "text/plain": [
       "array([[ 0.40824829, -0.40824829,  0.81649658],\n",
       "       [ 1.        ,  0.        ,  0.        ],\n",
       "       [ 0.        ,  0.70710678, -0.70710678]])"
      ]
     },
     "execution_count": 6,
     "metadata": {},
     "output_type": "execute_result"
    }
   ],
   "source": [
    "# l2 normalization - euclidean normalization\n",
    "X = [[ 1., -1., 2.],\n",
    "    [ 2., 0., 0.],\n",
    "    [ 0., 1., -1.]]\n",
    "X_normalized_2 = normalize(X,norm = 'l2')\n",
    "X_normalized_2"
   ]
  },
  {
   "cell_type": "code",
   "execution_count": 7,
   "id": "d7c3568b",
   "metadata": {},
   "outputs": [
    {
     "data": {
      "text/plain": [
       "array([[ 0.5, -0.5,  1. ],\n",
       "       [ 1. ,  0. ,  0. ],\n",
       "       [ 0. ,  1. , -1. ]])"
      ]
     },
     "execution_count": 7,
     "metadata": {},
     "output_type": "execute_result"
    }
   ],
   "source": [
    "# max normalization\n",
    "X = [[ 1., -1., 2.],\n",
    "    [ 2., 0., 0.],\n",
    "    [ 0., 1., -1.]]\n",
    "X_normalized_3 = normalize(X,norm = 'max')\n",
    "X_normalized_3"
   ]
  }
 ],
 "metadata": {
  "kernelspec": {
   "display_name": "Python 3 (ipykernel)",
   "language": "python",
   "name": "python3"
  },
  "language_info": {
   "codemirror_mode": {
    "name": "ipython",
    "version": 3
   },
   "file_extension": ".py",
   "mimetype": "text/x-python",
   "name": "python",
   "nbconvert_exporter": "python",
   "pygments_lexer": "ipython3",
   "version": "3.8.8"
  }
 },
 "nbformat": 4,
 "nbformat_minor": 5
}
