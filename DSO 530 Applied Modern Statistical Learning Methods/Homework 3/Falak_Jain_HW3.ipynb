{
 "cells": [
  {
   "cell_type": "markdown",
   "id": "75a84752",
   "metadata": {},
   "source": [
    "HW3 - Falak Jain"
   ]
  },
  {
   "cell_type": "code",
   "execution_count": 1,
   "id": "eebfdb38",
   "metadata": {},
   "outputs": [],
   "source": [
    "import pandas as pd\n",
    "import numpy as np\n",
    "from sklearn.preprocessing import MinMaxScaler\n",
    "from sklearn.linear_model import LinearRegression\n",
    "from sklearn.model_selection import train_test_split\n",
    "from sklearn.model_selection import KFold, cross_val_score"
   ]
  },
  {
   "cell_type": "markdown",
   "id": "23980ae8",
   "metadata": {},
   "source": [
    "1.\n",
    "\n",
    "(i) Yes\n",
    "\n",
    "(ii) Yes"
   ]
  },
  {
   "cell_type": "markdown",
   "id": "cd7175b3",
   "metadata": {},
   "source": [
    "2. Are the following statements correct?"
   ]
  },
  {
   "cell_type": "markdown",
   "id": "53f84439",
   "metadata": {},
   "source": [
    "(1) No\n",
    "\n",
    "(2) No"
   ]
  },
  {
   "cell_type": "markdown",
   "id": "cbec196a",
   "metadata": {},
   "source": [
    "3. Subset selection methods:\n",
    "\n",
    "(i) 2 ^ 19 = 524,288\n",
    "\n",
    "(ii) [1 + p(p+1)/2] - [(p-k\\*)(p-k\\*+1)/2]"
   ]
  },
  {
   "cell_type": "markdown",
   "id": "1a852932",
   "metadata": {},
   "source": [
    "4. Regression using K-fold CV"
   ]
  },
  {
   "cell_type": "code",
   "execution_count": 2,
   "id": "bfdb8aaa",
   "metadata": {},
   "outputs": [
    {
     "data": {
      "text/html": [
       "<div>\n",
       "<style scoped>\n",
       "    .dataframe tbody tr th:only-of-type {\n",
       "        vertical-align: middle;\n",
       "    }\n",
       "\n",
       "    .dataframe tbody tr th {\n",
       "        vertical-align: top;\n",
       "    }\n",
       "\n",
       "    .dataframe thead th {\n",
       "        text-align: right;\n",
       "    }\n",
       "</style>\n",
       "<table border=\"1\" class=\"dataframe\">\n",
       "  <thead>\n",
       "    <tr style=\"text-align: right;\">\n",
       "      <th></th>\n",
       "      <th>mpg</th>\n",
       "      <th>cylinders</th>\n",
       "      <th>displacement</th>\n",
       "      <th>horsepower</th>\n",
       "      <th>weight</th>\n",
       "      <th>acceleration</th>\n",
       "      <th>year</th>\n",
       "      <th>origin</th>\n",
       "      <th>name</th>\n",
       "    </tr>\n",
       "  </thead>\n",
       "  <tbody>\n",
       "    <tr>\n",
       "      <th>0</th>\n",
       "      <td>18.0</td>\n",
       "      <td>8</td>\n",
       "      <td>307.0</td>\n",
       "      <td>130</td>\n",
       "      <td>3504</td>\n",
       "      <td>12.0</td>\n",
       "      <td>70</td>\n",
       "      <td>1</td>\n",
       "      <td>chevrolet chevelle malibu</td>\n",
       "    </tr>\n",
       "    <tr>\n",
       "      <th>1</th>\n",
       "      <td>15.0</td>\n",
       "      <td>8</td>\n",
       "      <td>350.0</td>\n",
       "      <td>165</td>\n",
       "      <td>3693</td>\n",
       "      <td>11.5</td>\n",
       "      <td>70</td>\n",
       "      <td>1</td>\n",
       "      <td>buick skylark 320</td>\n",
       "    </tr>\n",
       "    <tr>\n",
       "      <th>2</th>\n",
       "      <td>18.0</td>\n",
       "      <td>8</td>\n",
       "      <td>318.0</td>\n",
       "      <td>150</td>\n",
       "      <td>3436</td>\n",
       "      <td>11.0</td>\n",
       "      <td>70</td>\n",
       "      <td>1</td>\n",
       "      <td>plymouth satellite</td>\n",
       "    </tr>\n",
       "    <tr>\n",
       "      <th>3</th>\n",
       "      <td>16.0</td>\n",
       "      <td>8</td>\n",
       "      <td>304.0</td>\n",
       "      <td>150</td>\n",
       "      <td>3433</td>\n",
       "      <td>12.0</td>\n",
       "      <td>70</td>\n",
       "      <td>1</td>\n",
       "      <td>amc rebel sst</td>\n",
       "    </tr>\n",
       "    <tr>\n",
       "      <th>4</th>\n",
       "      <td>17.0</td>\n",
       "      <td>8</td>\n",
       "      <td>302.0</td>\n",
       "      <td>140</td>\n",
       "      <td>3449</td>\n",
       "      <td>10.5</td>\n",
       "      <td>70</td>\n",
       "      <td>1</td>\n",
       "      <td>ford torino</td>\n",
       "    </tr>\n",
       "  </tbody>\n",
       "</table>\n",
       "</div>"
      ],
      "text/plain": [
       "    mpg  cylinders  displacement  horsepower  weight  acceleration  year  \\\n",
       "0  18.0          8         307.0         130    3504          12.0    70   \n",
       "1  15.0          8         350.0         165    3693          11.5    70   \n",
       "2  18.0          8         318.0         150    3436          11.0    70   \n",
       "3  16.0          8         304.0         150    3433          12.0    70   \n",
       "4  17.0          8         302.0         140    3449          10.5    70   \n",
       "\n",
       "   origin                       name  \n",
       "0       1  chevrolet chevelle malibu  \n",
       "1       1          buick skylark 320  \n",
       "2       1         plymouth satellite  \n",
       "3       1              amc rebel sst  \n",
       "4       1                ford torino  "
      ]
     },
     "execution_count": 2,
     "metadata": {},
     "output_type": "execute_result"
    }
   ],
   "source": [
    "df_auto = pd.read_csv(\"auto.csv\")\n",
    "df_auto.head()"
   ]
  },
  {
   "cell_type": "code",
   "execution_count": 3,
   "id": "2c5334e7",
   "metadata": {},
   "outputs": [
    {
     "name": "stdout",
     "output_type": "stream",
     "text": [
      "Linear Regression: \n",
      "\n",
      "r squared of 10-folds with displacement and horsepower as input: [0.63862276 0.67734208 0.6728976  0.72577554 0.64892779 0.67435645\n",
      " 0.52565632 0.60286615 0.72099218 0.67427306] (mean r squared: 0.6561709931353421 )\n",
      "\n",
      "r squared of 10-folds with acceleration and weight as input: [0.66708203 0.74825549 0.7557161  0.73255447 0.70727716 0.70700609\n",
      " 0.56823354 0.6645276  0.70780473 0.67915667] (mean r squared: 0.6937613870721294 )\n"
     ]
    }
   ],
   "source": [
    "# Model 1 with displacement and horsepower as predictor variables\n",
    "# Model 2 with acceleration and weight as predictor variables\n",
    "kfolds_regression = KFold(n_splits=10, random_state=2, shuffle=True)\n",
    "regression_model = LinearRegression()\n",
    "r2_model_1_cv = cross_val_score(regression_model,df_auto[['displacement','horsepower']], df_auto['mpg'], cv=kfolds_regression,scoring = 'r2')\n",
    "r2_model_2_cv = cross_val_score(regression_model,df_auto[['acceleration','weight']], df_auto['mpg'], cv=kfolds_regression,scoring = 'r2')\n",
    "print(\"Linear Regression: \\n\")\n",
    "print(\"r squared of 10-folds with displacement and horsepower as input:\",r2_model_1_cv,\"(mean r squared:\",np.mean(r2_model_1_cv),\")\\n\")\n",
    "print(\"r squared of 10-folds with acceleration and weight as input:\",r2_model_2_cv,\"(mean r squared:\",np.mean(r2_model_2_cv),\")\")"
   ]
  },
  {
   "cell_type": "markdown",
   "id": "32cdddcb",
   "metadata": {},
   "source": [
    "Therefore, we can see that the linear regression model with acceleration and weight has a higher r-squared"
   ]
  },
  {
   "cell_type": "markdown",
   "id": "33d6669b",
   "metadata": {},
   "source": [
    "5. Cp and AIC criteria for linear regression"
   ]
  },
  {
   "cell_type": "markdown",
   "id": "528382c3",
   "metadata": {},
   "source": [
    "- Cp = 1/n * (RSS + 2*d*sigma_hat^2)\n",
    "\n",
    "- AIC = 1/(n\\*sigma_hat^2) * (RSS + 2\\*d\\*sigma_hat^2)\n",
    "\n",
    "Why do they give the same ranking for models:\n",
    "\n",
    "- As we can see, Cp and AIC are directly proportional to each other. It is calculated by fit of large class of models of maximum likelihood. Therefore, similarly to Cp, lowest AIC provides the best model and vice versa. Hence, they give the same ranking for models\n",
    "- Both criteria are proportional with the AIC term having an additional constant in the denominator, which remains the same for each model"
   ]
  },
  {
   "cell_type": "code",
   "execution_count": null,
   "id": "de68b7e3",
   "metadata": {},
   "outputs": [],
   "source": []
  }
 ],
 "metadata": {
  "kernelspec": {
   "display_name": "Python 3 (ipykernel)",
   "language": "python",
   "name": "python3"
  },
  "language_info": {
   "codemirror_mode": {
    "name": "ipython",
    "version": 3
   },
   "file_extension": ".py",
   "mimetype": "text/x-python",
   "name": "python",
   "nbconvert_exporter": "python",
   "pygments_lexer": "ipython3",
   "version": "3.8.8"
  }
 },
 "nbformat": 4,
 "nbformat_minor": 5
}
