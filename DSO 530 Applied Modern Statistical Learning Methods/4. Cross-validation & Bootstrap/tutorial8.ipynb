{
 "cells": [
  {
   "cell_type": "code",
   "execution_count": 10,
   "id": "4417b82e",
   "metadata": {},
   "outputs": [],
   "source": [
    "import pandas as pd\n",
    "import numpy as np"
   ]
  },
  {
   "cell_type": "code",
   "execution_count": 16,
   "id": "9d8054ef",
   "metadata": {},
   "outputs": [
    {
     "data": {
      "text/html": [
       "<div>\n",
       "<style scoped>\n",
       "    .dataframe tbody tr th:only-of-type {\n",
       "        vertical-align: middle;\n",
       "    }\n",
       "\n",
       "    .dataframe tbody tr th {\n",
       "        vertical-align: top;\n",
       "    }\n",
       "\n",
       "    .dataframe thead th {\n",
       "        text-align: right;\n",
       "    }\n",
       "</style>\n",
       "<table border=\"1\" class=\"dataframe\">\n",
       "  <thead>\n",
       "    <tr style=\"text-align: right;\">\n",
       "      <th></th>\n",
       "      <th>mpg</th>\n",
       "      <th>cylinders</th>\n",
       "      <th>displacement</th>\n",
       "      <th>horsepower</th>\n",
       "      <th>weight</th>\n",
       "      <th>acceleration</th>\n",
       "      <th>year</th>\n",
       "      <th>origin</th>\n",
       "      <th>name</th>\n",
       "    </tr>\n",
       "  </thead>\n",
       "  <tbody>\n",
       "    <tr>\n",
       "      <th>0</th>\n",
       "      <td>18.0</td>\n",
       "      <td>8</td>\n",
       "      <td>307.0</td>\n",
       "      <td>130</td>\n",
       "      <td>3504</td>\n",
       "      <td>12.0</td>\n",
       "      <td>70</td>\n",
       "      <td>1</td>\n",
       "      <td>chevrolet chevelle malibu</td>\n",
       "    </tr>\n",
       "    <tr>\n",
       "      <th>1</th>\n",
       "      <td>15.0</td>\n",
       "      <td>8</td>\n",
       "      <td>350.0</td>\n",
       "      <td>165</td>\n",
       "      <td>3693</td>\n",
       "      <td>11.5</td>\n",
       "      <td>70</td>\n",
       "      <td>1</td>\n",
       "      <td>buick skylark 320</td>\n",
       "    </tr>\n",
       "    <tr>\n",
       "      <th>2</th>\n",
       "      <td>18.0</td>\n",
       "      <td>8</td>\n",
       "      <td>318.0</td>\n",
       "      <td>150</td>\n",
       "      <td>3436</td>\n",
       "      <td>11.0</td>\n",
       "      <td>70</td>\n",
       "      <td>1</td>\n",
       "      <td>plymouth satellite</td>\n",
       "    </tr>\n",
       "    <tr>\n",
       "      <th>3</th>\n",
       "      <td>16.0</td>\n",
       "      <td>8</td>\n",
       "      <td>304.0</td>\n",
       "      <td>150</td>\n",
       "      <td>3433</td>\n",
       "      <td>12.0</td>\n",
       "      <td>70</td>\n",
       "      <td>1</td>\n",
       "      <td>amc rebel sst</td>\n",
       "    </tr>\n",
       "    <tr>\n",
       "      <th>4</th>\n",
       "      <td>17.0</td>\n",
       "      <td>8</td>\n",
       "      <td>302.0</td>\n",
       "      <td>140</td>\n",
       "      <td>3449</td>\n",
       "      <td>10.5</td>\n",
       "      <td>70</td>\n",
       "      <td>1</td>\n",
       "      <td>ford torino</td>\n",
       "    </tr>\n",
       "  </tbody>\n",
       "</table>\n",
       "</div>"
      ],
      "text/plain": [
       "    mpg  cylinders  displacement  horsepower  weight  acceleration  year  \\\n",
       "0  18.0          8         307.0         130    3504          12.0    70   \n",
       "1  15.0          8         350.0         165    3693          11.5    70   \n",
       "2  18.0          8         318.0         150    3436          11.0    70   \n",
       "3  16.0          8         304.0         150    3433          12.0    70   \n",
       "4  17.0          8         302.0         140    3449          10.5    70   \n",
       "\n",
       "   origin                       name  \n",
       "0       1  chevrolet chevelle malibu  \n",
       "1       1          buick skylark 320  \n",
       "2       1         plymouth satellite  \n",
       "3       1              amc rebel sst  \n",
       "4       1                ford torino  "
      ]
     },
     "execution_count": 16,
     "metadata": {},
     "output_type": "execute_result"
    }
   ],
   "source": [
    "Auto = pd.read_csv('auto.csv')\n",
    "Auto.head()"
   ]
  },
  {
   "cell_type": "code",
   "execution_count": 17,
   "id": "0d579609",
   "metadata": {},
   "outputs": [
    {
     "data": {
      "text/html": [
       "<div>\n",
       "<style scoped>\n",
       "    .dataframe tbody tr th:only-of-type {\n",
       "        vertical-align: middle;\n",
       "    }\n",
       "\n",
       "    .dataframe tbody tr th {\n",
       "        vertical-align: top;\n",
       "    }\n",
       "\n",
       "    .dataframe thead th {\n",
       "        text-align: right;\n",
       "    }\n",
       "</style>\n",
       "<table border=\"1\" class=\"dataframe\">\n",
       "  <thead>\n",
       "    <tr style=\"text-align: right;\">\n",
       "      <th></th>\n",
       "      <th>mpg</th>\n",
       "      <th>cylinders</th>\n",
       "      <th>displacement</th>\n",
       "      <th>horsepower</th>\n",
       "      <th>weight</th>\n",
       "      <th>acceleration</th>\n",
       "      <th>year</th>\n",
       "      <th>origin</th>\n",
       "      <th>name</th>\n",
       "      <th>displacement_binary</th>\n",
       "    </tr>\n",
       "  </thead>\n",
       "  <tbody>\n",
       "    <tr>\n",
       "      <th>0</th>\n",
       "      <td>18.0</td>\n",
       "      <td>8</td>\n",
       "      <td>307.0</td>\n",
       "      <td>130</td>\n",
       "      <td>3504</td>\n",
       "      <td>12.0</td>\n",
       "      <td>70</td>\n",
       "      <td>1</td>\n",
       "      <td>chevrolet chevelle malibu</td>\n",
       "      <td>big</td>\n",
       "    </tr>\n",
       "    <tr>\n",
       "      <th>1</th>\n",
       "      <td>15.0</td>\n",
       "      <td>8</td>\n",
       "      <td>350.0</td>\n",
       "      <td>165</td>\n",
       "      <td>3693</td>\n",
       "      <td>11.5</td>\n",
       "      <td>70</td>\n",
       "      <td>1</td>\n",
       "      <td>buick skylark 320</td>\n",
       "      <td>big</td>\n",
       "    </tr>\n",
       "    <tr>\n",
       "      <th>2</th>\n",
       "      <td>18.0</td>\n",
       "      <td>8</td>\n",
       "      <td>318.0</td>\n",
       "      <td>150</td>\n",
       "      <td>3436</td>\n",
       "      <td>11.0</td>\n",
       "      <td>70</td>\n",
       "      <td>1</td>\n",
       "      <td>plymouth satellite</td>\n",
       "      <td>big</td>\n",
       "    </tr>\n",
       "    <tr>\n",
       "      <th>3</th>\n",
       "      <td>16.0</td>\n",
       "      <td>8</td>\n",
       "      <td>304.0</td>\n",
       "      <td>150</td>\n",
       "      <td>3433</td>\n",
       "      <td>12.0</td>\n",
       "      <td>70</td>\n",
       "      <td>1</td>\n",
       "      <td>amc rebel sst</td>\n",
       "      <td>big</td>\n",
       "    </tr>\n",
       "    <tr>\n",
       "      <th>4</th>\n",
       "      <td>17.0</td>\n",
       "      <td>8</td>\n",
       "      <td>302.0</td>\n",
       "      <td>140</td>\n",
       "      <td>3449</td>\n",
       "      <td>10.5</td>\n",
       "      <td>70</td>\n",
       "      <td>1</td>\n",
       "      <td>ford torino</td>\n",
       "      <td>big</td>\n",
       "    </tr>\n",
       "  </tbody>\n",
       "</table>\n",
       "</div>"
      ],
      "text/plain": [
       "    mpg  cylinders  displacement  horsepower  weight  acceleration  year  \\\n",
       "0  18.0          8         307.0         130    3504          12.0    70   \n",
       "1  15.0          8         350.0         165    3693          11.5    70   \n",
       "2  18.0          8         318.0         150    3436          11.0    70   \n",
       "3  16.0          8         304.0         150    3433          12.0    70   \n",
       "4  17.0          8         302.0         140    3449          10.5    70   \n",
       "\n",
       "   origin                       name displacement_binary  \n",
       "0       1  chevrolet chevelle malibu                 big  \n",
       "1       1          buick skylark 320                 big  \n",
       "2       1         plymouth satellite                 big  \n",
       "3       1              amc rebel sst                 big  \n",
       "4       1                ford torino                 big  "
      ]
     },
     "execution_count": 17,
     "metadata": {},
     "output_type": "execute_result"
    }
   ],
   "source": [
    "small_index = Auto['displacement'] <= np.mean(Auto['displacement'])\n",
    "Auto.loc[small_index,'displacement_binary'] = 'small'\n",
    "Auto.loc[~small_index,'displacement_binary'] = 'big'\n",
    "Auto.head()"
   ]
  },
  {
   "cell_type": "code",
   "execution_count": 18,
   "id": "1e2ea968",
   "metadata": {},
   "outputs": [],
   "source": [
    "Auto['displacement_big'] = np.where(Auto['displacement_binary'] == 'big',1,0)"
   ]
  },
  {
   "cell_type": "code",
   "execution_count": 19,
   "id": "ee08719e",
   "metadata": {},
   "outputs": [],
   "source": [
    "from sklearn.model_selection import KFold ## for regression\n",
    "from sklearn.model_selection import StratifiedKFold ## recommended for classification\n",
    "kfolds = StratifiedKFold(n_splits = 10,random_state = 1,shuffle = True) ## a random state for reproducibility purpose"
   ]
  },
  {
   "cell_type": "code",
   "execution_count": 20,
   "id": "7331bf3e",
   "metadata": {},
   "outputs": [
    {
     "name": "stdout",
     "output_type": "stream",
     "text": [
      "StratifiedKFold(n_splits=10, random_state=1, shuffle=True)\n"
     ]
    }
   ],
   "source": [
    "print(kfolds)"
   ]
  },
  {
   "cell_type": "code",
   "execution_count": 24,
   "id": "363501af",
   "metadata": {},
   "outputs": [
    {
     "name": "stdout",
     "output_type": "stream",
     "text": [
      "train_index: [  0   1   2   3   4   5   6   8   9  12  13  14  15  16  17  18  19  20\n",
      "  21  22  24  25  26  27  28  29  30  31  32  33  34  35  36  38  39  40\n",
      "  41  43  44  45  46  47  48  49  50  51  52  53  54  56  57  58  59  61\n",
      "  62  63  64  65  66  67  68  69  70  71  72  73  74  76  77  78  79  81\n",
      "  82  83  84  85  87  88  89  90  91  92  93  94  95  96  97  99 100 101\n",
      " 102 103 104 105 106 107 108 109 110 111 112 113 114 115 118 119 120 121\n",
      " 122 124 125 127 128 129 130 131 133 134 135 136 137 138 139 141 143 144\n",
      " 145 146 147 148 149 150 151 152 153 154 155 156 157 159 160 161 162 163\n",
      " 164 165 166 167 168 169 170 171 173 174 175 176 177 178 179 180 181 182\n",
      " 183 184 185 186 187 188 190 191 192 194 195 196 197 198 199 200 201 202\n",
      " 203 204 205 206 207 208 209 210 211 212 214 215 216 217 218 219 220 221\n",
      " 222 223 224 225 226 227 228 230 231 232 233 234 236 237 238 240 241 242\n",
      " 243 244 245 246 247 248 249 250 251 252 253 255 256 258 259 260 261 263\n",
      " 264 265 266 267 268 269 270 271 272 273 275 276 277 278 279 281 282 283\n",
      " 284 285 286 287 288 289 290 291 292 293 294 295 296 298 299 301 303 304\n",
      " 305 306 307 308 309 310 311 312 313 314 315 316 317 318 319 320 321 322\n",
      " 323 324 325 326 327 328 329 331 332 334 336 337 338 339 340 341 342 343\n",
      " 345 346 347 348 349 350 351 352 353 354 355 356 357 358 359 360 361 362\n",
      " 363 364 365 366 367 368 369 370 371 372 373 374 375 376 377 378 379 380\n",
      " 381 382 383 384 385 386 387 388 390 391]\n",
      "\n",
      "test_index: [  7  10  11  23  37  42  55  60  75  80  86  98 116 117 123 126 132 140\n",
      " 142 158 172 189 193 213 229 235 239 254 257 262 274 280 297 300 302 330\n",
      " 333 335 344 389]\n"
     ]
    }
   ],
   "source": [
    "for train_index, test_index in kfolds.split(Auto,Auto['displacement_big']):\n",
    "    print(f'train_index: {train_index}\\n\\ntest_index: {test_index}')\n",
    "    break"
   ]
  },
  {
   "cell_type": "code",
   "execution_count": 26,
   "id": "6d70e8f2",
   "metadata": {},
   "outputs": [],
   "source": [
    "cv_classification_errors_1 = []\n",
    "cv_auc_1 = []"
   ]
  },
  {
   "cell_type": "code",
   "execution_count": 27,
   "id": "3d7d8983",
   "metadata": {},
   "outputs": [
    {
     "name": "stdout",
     "output_type": "stream",
     "text": [
      "Optimization terminated successfully.\n",
      "         Current function value: 0.224324\n",
      "         Iterations 8\n",
      "Optimization terminated successfully.\n",
      "         Current function value: 0.240459\n",
      "         Iterations 8\n",
      "Optimization terminated successfully.\n",
      "         Current function value: 0.221340\n",
      "         Iterations 8\n",
      "Optimization terminated successfully.\n",
      "         Current function value: 0.232408\n",
      "         Iterations 8\n",
      "Optimization terminated successfully.\n",
      "         Current function value: 0.224961\n",
      "         Iterations 8\n",
      "Optimization terminated successfully.\n",
      "         Current function value: 0.227415\n",
      "         Iterations 9\n",
      "Optimization terminated successfully.\n",
      "         Current function value: 0.218369\n",
      "         Iterations 9\n",
      "Optimization terminated successfully.\n",
      "         Current function value: 0.220679\n",
      "         Iterations 8\n",
      "Optimization terminated successfully.\n",
      "         Current function value: 0.202915\n",
      "         Iterations 9\n",
      "Optimization terminated successfully.\n",
      "         Current function value: 0.229121\n",
      "         Iterations 8\n"
     ]
    }
   ],
   "source": [
    "import statsmodels.formula.api as smf\n",
    "from sklearn.metrics import roc_curve\n",
    "from sklearn.metrics import auc\n",
    "\n",
    "for train_index, test_index in kfolds.split(Auto,Auto['displacement_big']):\n",
    "    # train the logistic model\n",
    "    result = smf.logit('displacement_big ~ mpg + horsepower', data = Auto, subset = train_index).fit()\n",
    "    \n",
    "    # select the test set according to test_index produced by kfolds.split\n",
    "    X_test = Auto.loc[test_index,['mpg','horsepower']]\n",
    "    y_test = Auto.loc[test_index,'displacement_big']\n",
    "    \n",
    "    # compute the possibilities of test data\n",
    "    result_prob = result.predict(X_test)\n",
    "    # select 0.5 as the threshold\n",
    "    result_pred = (result_prob > 0.5)\n",
    "    # classification error\n",
    "    classification_error = np.mean(result_pred != y_test)\n",
    "    # add the computed classification error to cv_classifciation_errors_1 to store the result\n",
    "    cv_classification_errors_1.append(classification_error)\n",
    "    \n",
    "    # calculate the auc\n",
    "    fpr,tpr,threshold = roc_curve(y_test,result_prob)\n",
    "    roc_auc = auc(fpr,tpr)\n",
    "    # add the computed auc to cv_auc_1 to store the result\n",
    "    cv_auc_1.append(roc_auc)"
   ]
  },
  {
   "cell_type": "code",
   "execution_count": 29,
   "id": "02dedfd8",
   "metadata": {},
   "outputs": [
    {
     "name": "stdout",
     "output_type": "stream",
     "text": [
      "classification errors using 10-fold CV: [0.125, 0.025, 0.1282051282051282, 0.05128205128205128, 0.1282051282051282, 0.05128205128205128, 0.15384615384615385, 0.10256410256410256, 0.07692307692307693, 0.10256410256410256]\n",
      "\n",
      "mean of classification errors using 10-fold CV: 0.09448717948717947\n",
      "\n"
     ]
    }
   ],
   "source": [
    "print(\"classification errors using 10-fold CV: {}\\n\".format(cv_classification_errors_1))\n",
    "print(\"mean of classification errors using 10-fold CV: {}\\n\".format(np.mean(cv_classification_errors_1)))"
   ]
  },
  {
   "cell_type": "code",
   "execution_count": 30,
   "id": "344828a1",
   "metadata": {},
   "outputs": [
    {
     "name": "stdout",
     "output_type": "stream",
     "text": [
      "auc using 10-fold CV: [0.9744245524296675, 1.0, 0.9545454545454546, 0.9893048128342246, 0.9679144385026738, 0.9705882352941176, 0.9598930481283422, 0.9572192513368984, 0.93048128342246, 0.981283422459893]\n",
      "\n",
      "mean of auc using 10-fold CV: 0.9685654498953731\n",
      "\n"
     ]
    }
   ],
   "source": [
    "print('auc using 10-fold CV: {}\\n'.format(cv_auc_1))\n",
    "print('mean of auc using 10-fold CV: {}\\n'.format(np.mean(cv_auc_1)))"
   ]
  },
  {
   "cell_type": "code",
   "execution_count": 34,
   "id": "66764976",
   "metadata": {},
   "outputs": [],
   "source": [
    "cv_classification_errors_2  = []\n",
    "cv_auc_2 = []"
   ]
  },
  {
   "cell_type": "code",
   "execution_count": 35,
   "id": "d3f32a97",
   "metadata": {},
   "outputs": [
    {
     "name": "stdout",
     "output_type": "stream",
     "text": [
      "Optimization terminated successfully.\n",
      "         Current function value: 0.166688\n",
      "         Iterations 9\n",
      "Optimization terminated successfully.\n",
      "         Current function value: 0.176276\n",
      "         Iterations 9\n",
      "Optimization terminated successfully.\n",
      "         Current function value: 0.160031\n",
      "         Iterations 9\n",
      "Optimization terminated successfully.\n",
      "         Current function value: 0.173053\n",
      "         Iterations 9\n",
      "Optimization terminated successfully.\n",
      "         Current function value: 0.166417\n",
      "         Iterations 9\n",
      "Optimization terminated successfully.\n",
      "         Current function value: 0.151830\n",
      "         Iterations 10\n",
      "Optimization terminated successfully.\n",
      "         Current function value: 0.141794\n",
      "         Iterations 10\n",
      "Optimization terminated successfully.\n",
      "         Current function value: 0.168865\n",
      "         Iterations 9\n",
      "Optimization terminated successfully.\n",
      "         Current function value: 0.174350\n",
      "         Iterations 9\n",
      "Optimization terminated successfully.\n",
      "         Current function value: 0.159999\n",
      "         Iterations 9\n"
     ]
    }
   ],
   "source": [
    "import statsmodels.formula.api as smf\n",
    "from sklearn.metrics import roc_curve\n",
    "from sklearn.metrics import auc\n",
    "for train_index, test_index in kfolds.split(Auto,Auto['displacement_big']):\n",
    "    # train the logistic model\n",
    "    result = smf.logit('displacement_big ~ weight + acceleration', data=Auto,subset = train_index).fit()\n",
    "    # select the test set according to test_index produced by kfolds.split\n",
    "    X_test = Auto.loc[test_index,[\"weight\",\"acceleration\"]]\n",
    "    y_test = Auto.loc[test_index,\"displacement_big\"]\n",
    "    # compute the probabilities of test data\n",
    "    result_prob = result.predict(X_test)\n",
    "    # select 0.5 as the threshold\n",
    "    result_pred = (result_prob > 0.5)\n",
    "    # compute the classification error\n",
    "    classification_error = np.mean(result_pred != y_test)\n",
    "    # add the computed classification error to \"cv_classification_errors_1\" to␣store the result\n",
    "    cv_classification_errors_2.append(classification_error)\n",
    "    # calculate the auc\n",
    "    fpr,tpr,threshold = roc_curve(y_test, result_prob)\n",
    "    roc_auc = auc(fpr,tpr)\n",
    "    # add the computed auc to \"cv_auc_1\" to store the result\n",
    "    cv_auc_2.append(roc_auc)"
   ]
  },
  {
   "cell_type": "code",
   "execution_count": 36,
   "id": "503bc0ba",
   "metadata": {},
   "outputs": [
    {
     "name": "stdout",
     "output_type": "stream",
     "text": [
      "classification errors using 10-fold CV: [0.1, 0.025, 0.15384615384615385, 0.02564102564102564, 0.05128205128205128, 0.10256410256410256, 0.1282051282051282, 0.05128205128205128, 0.02564102564102564, 0.1282051282051282]\n",
      "\n",
      "mean of classification errors using 10-fold CV: 0.07916666666666666\n"
     ]
    }
   ],
   "source": [
    "print(\"classification errors using 10-fold CV: {}\\n\".format(cv_classification_errors_2))\n",
    "print(\"mean of classification errors using 10-fold CV: {}\".format(np.mean(cv_classification_errors_2)))"
   ]
  },
  {
   "cell_type": "code",
   "execution_count": 37,
   "id": "4a8f7019",
   "metadata": {},
   "outputs": [
    {
     "name": "stdout",
     "output_type": "stream",
     "text": [
      "auc using 10-fold CV: [0.9872122762148338, 1.0, 0.9759358288770053, 1.0, 0.9893048128342246, 0.9545454545454546, 0.9679144385026738, 0.9973262032085561, 1.0, 0.9759358288770053]\n",
      "\n",
      "mean of auc using 10-fold CV: 0.9848174843059754\n"
     ]
    }
   ],
   "source": [
    "print(\"auc using 10-fold CV: {}\\n\".format(cv_auc_2))\n",
    "print(\"mean of auc using 10-fold CV: {}\".format(np.mean(cv_auc_2)))"
   ]
  },
  {
   "cell_type": "code",
   "execution_count": 38,
   "id": "876f5f94",
   "metadata": {},
   "outputs": [
    {
     "name": "stdout",
     "output_type": "stream",
     "text": [
      "predictor varible: mpg, horsepower; response variable: displacement_big\n",
      "mean of classification errors using 10-fold CV: 0.09448717948717947\n",
      "mean of auc using 10-fold CV: 0.9685654498953731\n",
      "\n",
      "predictor varible: weight, acceleration; response variable:displacement_big\n",
      "mean of classification errors using 10-fold CV: 0.07916666666666666\n",
      "mean of auc using 10-fold CV: 0.9848174843059754\n"
     ]
    }
   ],
   "source": [
    "print(\"predictor varible: mpg, horsepower; response variable: displacement_big\")\n",
    "print(\"mean of classification errors using 10-fold CV: {}\".format(np.mean(cv_classification_errors_1)))\n",
    "print(\"mean of auc using 10-fold CV: {}\\n\".format(np.mean(cv_auc_1)))\n",
    "print(\"predictor varible: weight, acceleration; response variable:displacement_big\")\n",
    "print(\"mean of classification errors using 10-fold CV: {}\".format(np.mean(cv_classification_errors_2)))\n",
    "print(\"mean of auc using 10-fold CV: {}\".format(np.mean(cv_auc_2)))"
   ]
  },
  {
   "cell_type": "markdown",
   "id": "78dfc57a",
   "metadata": {},
   "source": [
    "### Quick way to do CV for models in sklearn"
   ]
  },
  {
   "cell_type": "code",
   "execution_count": 40,
   "id": "bc180bca",
   "metadata": {},
   "outputs": [
    {
     "name": "stdout",
     "output_type": "stream",
     "text": [
      "Logisgic Regression: \n",
      "\n",
      "accuracies of 10-folds: [0.925      0.75       0.97435897 0.92307692 0.87179487 0.8974359\n",
      " 0.8974359  1.         0.87179487 0.84615385] (mean classification error: 0.10429487179487162 )\n",
      "accuracies of 10-folds: [0.925      0.95       1.         0.84615385 0.8974359  0.94871795\n",
      " 0.92307692 0.94871795 0.87179487 0.92307692] (mean classification error: 0.07660256410256405 )\n"
     ]
    }
   ],
   "source": [
    "from sklearn.linear_model import LogisticRegression\n",
    "from sklearn.model_selection import cross_val_score\n",
    "\n",
    "logistic_model = LogisticRegression(penalty='none', max_iter = 10000)\n",
    "error_model_1_cv = cross_val_score(logistic_model, Auto[['mpg','horsepower']], Auto['displacement_big'], cv=10)\n",
    "error_model_2_cv = cross_val_score(logistic_model, Auto[['weight','acceleration']], Auto['displacement_big'], cv=10)\n",
    "print(\"Logisgic Regression: \\n\")\n",
    "print(\"accuracies of 10-folds:\",error_model_1_cv,\"(mean classification error:\",1-np.mean(error_model_1_cv),\")\")\n",
    "print(\"accuracies of 10-folds:\",error_model_2_cv,\"(mean classification error:\",1-np.mean(error_model_2_cv),\")\")"
   ]
  },
  {
   "cell_type": "code",
   "execution_count": 46,
   "id": "0dffc05e",
   "metadata": {},
   "outputs": [
    {
     "name": "stdout",
     "output_type": "stream",
     "text": [
      "Logisgic Regression: \n",
      "\n",
      "accuracies of 10-folds: [0.925      0.75       0.97435897 0.92307692 0.87179487 0.8974359\n",
      " 0.8974359  1.         0.87179487 0.84615385] (mean classification error: 0.10429487179487162 )\n",
      "accuracies of 10-folds: [0.925      0.95       1.         0.84615385 0.8974359  0.94871795\n",
      " 0.92307692 0.94871795 0.87179487 0.92307692] (mean classification error: 0.07660256410256405 )\n"
     ]
    }
   ],
   "source": [
    "logistic_model = LogisticRegression(penalty='none', max_iter = 10000)\n",
    "error_model_1_cv = cross_val_score(logistic_model, Auto[['mpg','horsepower']], Auto['displacement_big'], cv=10, scoring = 'accuracy')\n",
    "error_model_2_cv = cross_val_score(logistic_model, Auto[['weight','acceleration']], Auto['displacement_big'], cv=10,scoring = 'accuracy')\n",
    "print(\"Logisgic Regression: \\n\")\n",
    "print(\"accuracies of 10-folds:\",error_model_1_cv,\"(mean classification error:\",1-np.mean(error_model_1_cv),\")\")\n",
    "print(\"accuracies of 10-folds:\",error_model_2_cv,\"(mean classification error:\",1-np.mean(error_model_2_cv),\")\")"
   ]
  },
  {
   "cell_type": "markdown",
   "id": "4e80a648",
   "metadata": {},
   "source": [
    "### CV for regression problems"
   ]
  },
  {
   "cell_type": "code",
   "execution_count": 49,
   "id": "03a23f0a",
   "metadata": {},
   "outputs": [
    {
     "name": "stdout",
     "output_type": "stream",
     "text": [
      "Linear Regression: \n",
      "\n",
      "r squared of 10-folds: [0.90009344 0.85287829 0.84442486 0.75050943 0.79788919 0.82361727\n",
      " 0.81645006 0.83507344 0.82927405 0.83134877] (mean r squared: 0.8281558811130347 )\n",
      "r squared of 10-folds: [0.92741689 0.83846578 0.93362245 0.88999302 0.8949359  0.88834162\n",
      " 0.8851957  0.90013406 0.93578374 0.87790923] (mean r squared: 0.8971798397399839 )\n"
     ]
    }
   ],
   "source": [
    "from sklearn.linear_model import LinearRegression\n",
    "# for r2, scoring = r2 can be used in cross_val_score function\n",
    "# for MSE, scoring = neg_mean_squared_error can be used in cross_val_score function\n",
    "kfolds_regresssion = KFold(n_splits = 10, random_state = 1, shuffle = True)\n",
    "regresssion_model = LinearRegression()\n",
    "r2_model_1_cv = cross_val_score(regresssion_model, Auto[['mpg','horsepower']], Auto['displacement'], cv=kfolds_regresssion)\n",
    "r2_model_2_cv = cross_val_score(regresssion_model, Auto[['weight','acceleration']], Auto['displacement'], cv=kfolds_regresssion)\n",
    "print(\"Linear Regression: \\n\")\n",
    "print(\"r squared of 10-folds:\",r2_model_1_cv,\"(mean r squared:\",np.mean(r2_model_1_cv),\")\")\n",
    "print(\"r squared of 10-folds:\",r2_model_2_cv,\"(mean r squared:\",np.mean(r2_model_2_cv),\")\")"
   ]
  },
  {
   "cell_type": "code",
   "execution_count": null,
   "id": "61fbe24d",
   "metadata": {},
   "outputs": [],
   "source": [
    "# using r2\n",
    "\n",
    "from sklearn.linear_model import LinearRegression\n",
    "kfolds_regresssion = KFold(n_splits = 10, random_state = 1, shuffle = True)\n",
    "regresssion_model = LinearRegression()\n",
    "r2_model_1_cv = cross_val_score(regresssion_model, Auto[['mpg','horsepower']], Auto['displacement'], cv=kfolds_regresssion,scoring = 'r2')\n",
    "r2_model_2_cv = cross_val_score(regresssion_model, Auto[['weight','acceleration']], Auto['displacement'], cv=kfolds_regresssion, scoring = 'r2')\n",
    "print(\"Linear Regression: \\n\")\n",
    "print(\"r squared of 10-folds:\",r2_model_1_cv,\"(mean r squared:\",np.mean(r2_model_1_cv),\")\")\n",
    "print(\"r squared of 10-folds:\",r2_model_2_cv,\"(mean r squared:\",np.mean(r2_model_2_cv),\")\")"
   ]
  }
 ],
 "metadata": {
  "kernelspec": {
   "display_name": "Python 3 (ipykernel)",
   "language": "python",
   "name": "python3"
  },
  "language_info": {
   "codemirror_mode": {
    "name": "ipython",
    "version": 3
   },
   "file_extension": ".py",
   "mimetype": "text/x-python",
   "name": "python",
   "nbconvert_exporter": "python",
   "pygments_lexer": "ipython3",
   "version": "3.8.8"
  }
 },
 "nbformat": 4,
 "nbformat_minor": 5
}
