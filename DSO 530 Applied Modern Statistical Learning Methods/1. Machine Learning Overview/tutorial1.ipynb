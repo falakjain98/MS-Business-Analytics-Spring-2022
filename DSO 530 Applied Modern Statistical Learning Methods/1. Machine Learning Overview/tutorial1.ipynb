{
 "cells": [
  {
   "cell_type": "markdown",
   "id": "714da997",
   "metadata": {},
   "source": [
    "## Exercise 1 Code"
   ]
  },
  {
   "cell_type": "markdown",
   "id": "bbb5d0bc",
   "metadata": {},
   "source": [
    "### 1. Write a Python function to find the Max of three numbers."
   ]
  },
  {
   "cell_type": "code",
   "execution_count": 4,
   "id": "e9c96b74",
   "metadata": {},
   "outputs": [],
   "source": [
    "def max_of_three(a,b):\n",
    "    if a > b:\n",
    "        return a\n",
    "    else:\n",
    "        return b"
   ]
  },
  {
   "cell_type": "code",
   "execution_count": 5,
   "id": "6368a00d",
   "metadata": {},
   "outputs": [
    {
     "name": "stdout",
     "output_type": "stream",
     "text": [
      "6\n"
     ]
    }
   ],
   "source": [
    "print(max_of_three(max_of_three(3,6),-5))"
   ]
  },
  {
   "cell_type": "markdown",
   "id": "b7e0d760",
   "metadata": {},
   "source": [
    "### 2. Difference between np.zeros and np.empty?"
   ]
  },
  {
   "cell_type": "code",
   "execution_count": 7,
   "id": "ab2935b4",
   "metadata": {},
   "outputs": [],
   "source": [
    "import numpy as np"
   ]
  },
  {
   "cell_type": "code",
   "execution_count": 16,
   "id": "fcae094d",
   "metadata": {},
   "outputs": [
    {
     "data": {
      "text/plain": [
       "array([[0., 0.],\n",
       "       [0., 0.]])"
      ]
     },
     "execution_count": 16,
     "metadata": {},
     "output_type": "execute_result"
    }
   ],
   "source": [
    "a = np.zeros((2,2))\n",
    "a"
   ]
  },
  {
   "cell_type": "code",
   "execution_count": 15,
   "id": "a8eb9aec",
   "metadata": {},
   "outputs": [
    {
     "data": {
      "text/plain": [
       "array([[8.90071984e-308, 6.23053954e-307],\n",
       "       [1.50201822e-307, 4.67296746e-307]])"
      ]
     },
     "execution_count": 15,
     "metadata": {},
     "output_type": "execute_result"
    }
   ],
   "source": [
    "b = np.empty((2,2))\n",
    "b"
   ]
  },
  {
   "cell_type": "markdown",
   "id": "3d974fc6",
   "metadata": {},
   "source": [
    "### 3. Write a NumPy program to multiply a 5x3 matrix by a 3x2 matrix and create a real matrix product"
   ]
  },
  {
   "cell_type": "code",
   "execution_count": 28,
   "id": "d4aebf51",
   "metadata": {},
   "outputs": [
    {
     "data": {
      "text/plain": [
       "array([[35, 21],\n",
       "       [42, 42],\n",
       "       [47, 57],\n",
       "       [42, 58],\n",
       "       [31, 17]])"
      ]
     },
     "execution_count": 28,
     "metadata": {},
     "output_type": "execute_result"
    }
   ],
   "source": [
    "c = np.random.randint(1,10,size = (5,3))\n",
    "d = np.random.randint(1,10,size = (3,2))\n",
    "np.matmul(c,d)"
   ]
  },
  {
   "cell_type": "markdown",
   "id": "a10b0432",
   "metadata": {},
   "source": [
    "### 4. Read the code and answer the following questions:"
   ]
  },
  {
   "cell_type": "code",
   "execution_count": 29,
   "id": "ba8b41a6",
   "metadata": {},
   "outputs": [],
   "source": [
    "import numpy as np\n",
    "arr1 = np.arange(27).reshape(3,3,3)\n",
    "arr2 = arr1[1].copy()\n",
    "arr2[2] = 50"
   ]
  },
  {
   "cell_type": "markdown",
   "id": "64c02be3",
   "metadata": {},
   "source": [
    "### What’s the output of arr1[2,0] and arr2[2,0]?\n",
    "\n",
    "arr1[2,0] = array([18, 19, 20])\n",
    "\n",
    "arr2[2,0] = 50"
   ]
  },
  {
   "cell_type": "markdown",
   "id": "dee01101",
   "metadata": {},
   "source": [
    "### 5. Read the code and answer the following questions:"
   ]
  },
  {
   "cell_type": "code",
   "execution_count": 36,
   "id": "291723ee",
   "metadata": {},
   "outputs": [
    {
     "data": {
      "text/plain": [
       "array([[ 1, 21,  3, 22,  5],\n",
       "       [23,  7, 24,  9, 25],\n",
       "       [11, 26, 27, 28, 15]])"
      ]
     },
     "execution_count": 36,
     "metadata": {},
     "output_type": "execute_result"
    }
   ],
   "source": [
    "import numpy as np\n",
    "arr1 = np.array([[1,21,3,22,5],[23,7,24,9,25],[11,26,27,28,15]])\n",
    "arr1"
   ]
  },
  {
   "cell_type": "code",
   "execution_count": 37,
   "id": "ad54d08d",
   "metadata": {},
   "outputs": [
    {
     "data": {
      "text/plain": [
       "array([[21, 22, 23, 24],\n",
       "       [25, 26, 27, 28]])"
      ]
     },
     "execution_count": 37,
     "metadata": {},
     "output_type": "execute_result"
    }
   ],
   "source": [
    "arr2 = np.array([[21,22,23,24],[25,26,27,28,]])\n",
    "arr2"
   ]
  },
  {
   "cell_type": "markdown",
   "id": "a6183fa3",
   "metadata": {},
   "source": [
    "### Get array arr2 transformed from arr1 with only one line of code:"
   ]
  },
  {
   "cell_type": "code",
   "execution_count": 38,
   "id": "467d87cd",
   "metadata": {},
   "outputs": [
    {
     "data": {
      "text/plain": [
       "array([[21, 22, 23, 24],\n",
       "       [25, 26, 27, 28]])"
      ]
     },
     "execution_count": 38,
     "metadata": {},
     "output_type": "execute_result"
    }
   ],
   "source": [
    "arr2 = arr1[arr1>20].reshape(2,4)\n",
    "arr2"
   ]
  },
  {
   "cell_type": "markdown",
   "id": "f8731136",
   "metadata": {},
   "source": [
    "### What’s the output of arr2[-1,-2]?"
   ]
  },
  {
   "cell_type": "code",
   "execution_count": 39,
   "id": "ba4f144c",
   "metadata": {},
   "outputs": [
    {
     "data": {
      "text/plain": [
       "27"
      ]
     },
     "execution_count": 39,
     "metadata": {},
     "output_type": "execute_result"
    }
   ],
   "source": [
    "arr2[-1,-2]"
   ]
  },
  {
   "cell_type": "markdown",
   "id": "27ce2e63",
   "metadata": {},
   "source": [
    "### 6. Write a NumPy program to complete the following functions:\n",
    "(1)Create an array 0-19 of 4,5 shape and print it\n",
    "\n",
    "(2)Swap axis0 with axis1 and print it\n",
    "\n",
    "(2)Swap swap column1 with column4 and print it"
   ]
  },
  {
   "cell_type": "code",
   "execution_count": 55,
   "id": "28a45ced",
   "metadata": {},
   "outputs": [
    {
     "data": {
      "text/plain": [
       "array([[ 0,  1,  2,  3,  4],\n",
       "       [ 5,  6,  7,  8,  9],\n",
       "       [10, 11, 12, 13, 14],\n",
       "       [15, 16, 17, 18, 19]])"
      ]
     },
     "execution_count": 55,
     "metadata": {},
     "output_type": "execute_result"
    }
   ],
   "source": [
    "arr1 = np.arange(20).reshape(4,5)\n",
    "arr1"
   ]
  },
  {
   "cell_type": "code",
   "execution_count": 56,
   "id": "538c36f7",
   "metadata": {},
   "outputs": [
    {
     "data": {
      "text/plain": [
       "array([[ 0,  5, 10, 15],\n",
       "       [ 1,  6, 11, 16],\n",
       "       [ 2,  7, 12, 17],\n",
       "       [ 3,  8, 13, 18],\n",
       "       [ 4,  9, 14, 19]])"
      ]
     },
     "execution_count": 56,
     "metadata": {},
     "output_type": "execute_result"
    }
   ],
   "source": [
    "arr1 = arr1.transpose()\n",
    "arr1"
   ]
  },
  {
   "cell_type": "code",
   "execution_count": 58,
   "id": "c779a818",
   "metadata": {},
   "outputs": [
    {
     "data": {
      "text/plain": [
       "array([[15,  5, 10,  0],\n",
       "       [16,  6, 11,  1],\n",
       "       [17,  7, 12,  2],\n",
       "       [18,  8, 13,  3],\n",
       "       [19,  9, 14,  4]])"
      ]
     },
     "execution_count": 58,
     "metadata": {},
     "output_type": "execute_result"
    }
   ],
   "source": [
    "arr1[:,[0,3]] = arr1[:,[3,0]]\n",
    "arr1"
   ]
  },
  {
   "cell_type": "markdown",
   "id": "df125a97",
   "metadata": {},
   "source": [
    "### 7. Write a NumPy program generate 50 random numbers from N(2,3)(the normal distribution with mean 2 and variance 3 and compute their mean and variance."
   ]
  },
  {
   "cell_type": "code",
   "execution_count": 68,
   "id": "92a22684",
   "metadata": {},
   "outputs": [
    {
     "data": {
      "text/plain": [
       "array([ 6.87303609,  0.16473076,  0.41548474, -1.21890587,  4.59622289,\n",
       "       -4.90461609,  7.23443529, -0.2836207 ,  2.95711729,  1.25188887,\n",
       "        6.38632381, -4.18042213,  1.03274839,  0.84783694,  5.40130833,\n",
       "       -1.2996738 ,  1.48271538, -0.63357525,  2.12664124,  3.74844564,\n",
       "       -1.30185753,  5.43417113,  4.70477216,  3.50748302,  4.70256785,\n",
       "       -0.05118358,  1.63132932, -0.8073083 ,  1.19633576,  3.5910664 ,\n",
       "       -0.07498226,  0.80973942, -0.0615181 , -0.53561692, -0.01373839,\n",
       "        1.9620062 , -1.35193105,  2.70324709,  6.97940653,  4.22613248,\n",
       "        1.42449334, -0.66288689, -0.24147488,  7.0773638 ,  2.15242326,\n",
       "        0.08901306,  2.57274645,  8.30076541,  2.36047686,  3.85160933])"
      ]
     },
     "execution_count": 68,
     "metadata": {},
     "output_type": "execute_result"
    }
   ],
   "source": [
    "np.random.seed(1)\n",
    "arr1 = np.random.normal(2,3,50)\n",
    "arr1"
   ]
  },
  {
   "cell_type": "code",
   "execution_count": 69,
   "id": "b8d3acb3",
   "metadata": {},
   "outputs": [
    {
     "data": {
      "text/plain": [
       "array([ 0.74972646,  1.83119952, -4.40858829,  6.92081243, -3.38030676,\n",
       "       -0.5252421 ,  3.50864425, -1.73586426, -1.17385666, -0.72702284,\n",
       "        3.65436213,  8.87662404,  2.12461818, -1.35377634,  3.61717496,\n",
       "        0.2115209 ,  1.94260851,  5.52500366, -0.24361285,  2.02707575,\n",
       "       -0.63432368,  1.53069749,  2.76971136, -0.96633715,  0.9835341 ,\n",
       "        1.29144791,  0.08703496, -1.56283686, -2.26365168,  1.53951441,\n",
       "        1.19282912,  8.69410037, -5.30430273,  2.33817951,  3.11133361,\n",
       "        6.07890159,  3.50557162, -0.53264111,  2.00002928,  3.62705772,\n",
       "        1.05947541,  4.31303521, -3.60427196,  7.193554  ,  6.40303403,\n",
       "        0.99296798,  3.83402234,  2.14391178, -0.48740587,  2.26313066])"
      ]
     },
     "execution_count": 69,
     "metadata": {},
     "output_type": "execute_result"
    }
   ],
   "source": [
    "np.random.seed(2)\n",
    "arr1 = np.random.normal(2,3,50)\n",
    "arr1"
   ]
  },
  {
   "cell_type": "code",
   "execution_count": 61,
   "id": "6328badb",
   "metadata": {},
   "outputs": [
    {
     "data": {
      "text/plain": [
       "2.222436625707705"
      ]
     },
     "execution_count": 61,
     "metadata": {},
     "output_type": "execute_result"
    }
   ],
   "source": [
    "arr1.mean()"
   ]
  },
  {
   "cell_type": "code",
   "execution_count": 64,
   "id": "7bcd20d2",
   "metadata": {},
   "outputs": [
    {
     "data": {
      "text/plain": [
       "9.266273564467763"
      ]
     },
     "execution_count": 64,
     "metadata": {},
     "output_type": "execute_result"
    }
   ],
   "source": [
    "arr1.var()"
   ]
  }
 ],
 "metadata": {
  "kernelspec": {
   "display_name": "Python 3 (ipykernel)",
   "language": "python",
   "name": "python3"
  },
  "language_info": {
   "codemirror_mode": {
    "name": "ipython",
    "version": 3
   },
   "file_extension": ".py",
   "mimetype": "text/x-python",
   "name": "python",
   "nbconvert_exporter": "python",
   "pygments_lexer": "ipython3",
   "version": "3.8.8"
  }
 },
 "nbformat": 4,
 "nbformat_minor": 5
}
